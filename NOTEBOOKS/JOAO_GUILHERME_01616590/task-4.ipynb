{
 "cells": [
  {
   "cell_type": "code",
   "execution_count": null,
   "metadata": {
    "vscode": {
     "languageId": "plaintext"
    }
   },
   "outputs": [],
   "source": [
    "import pandas as pd\n",
    "from sklearn.model_selection import KFold\n",
    "from sklearn.neighbors import KNeighborsClassifier\n",
    "from sklearn.metrics import accuracy_score\n",
    "import numpy as np\n",
    "\n",
    "url = 'https://archive.ics.uci.edu/ml/machine-learning-databases/wine/wine.data'\n",
    "\n",
    "# Nome das colunas em português BR\n",
    "column_names_pt_br = [\n",
    "    'classe', 'alcool', 'acido_malico', 'cinzas', 'alcalinidade_de_cinzas', 'magnesio', \n",
    "    'fenois_totais', 'flavanoides', 'fenois_nao_flavanoides', 'proantocianinas', \n",
    "    'intensidade_de_cor', 'matiz', 'od280_od315_de_vinhos_diluidos', 'prolina'\n",
    "]\n",
    "\n",
    "vinhos = pd.read_csv(url, names=column_names_pt_br, dtype={'classe': object})\n",
    "\n",
    "# Separando características (X) e rótulos (y)\n",
    "X = vinhos.drop('classe', axis=1)\n",
    "y = vinhos['classe']\n",
    "\n",
    "def knn_kfold_experiment(random_state, k_values):\n",
    "    # Configuração do KFold com 10 folds\n",
    "    kf = KFold(n_splits=10, shuffle=True, random_state=random_state)\n",
    "    \n",
    "    results = {k: [] for k in k_values}\n",
    "    \n",
    "    for train_index, test_index in kf.split(X):\n",
    "        X_train, X_test = X.iloc[train_index], X.iloc[test_index]\n",
    "        y_train, y_test = y.iloc[train_index], y.iloc[test_index]\n",
    "\n",
    "        for k in k_values:\n",
    "            knn = KNeighborsClassifier(n_neighbors=k)\n",
    "            knn.fit(X_train, y_train)\n",
    "            y_pred = knn.predict(X_test)\n",
    "            accuracy = accuracy_score(y_test, y_pred)\n",
    "            results[k].append(accuracy)\n",
    "    \n",
    "    for k in k_values:\n",
    "        accuracies = results[k]\n",
    "        mean_accuracy = np.mean(accuracies)\n",
    "        std_accuracy = np.std(accuracies)\n",
    "        print(f\"Random state: {random_state}, k={k}, Acurácia média: {mean_accuracy:.4f}, Desvio padrão: {std_accuracy:.4f}\")\n",
    "    \n",
    "    return results\n",
    "\n",
    "k_values = [3, 5]\n",
    "\n",
    "resultados_42 = knn_kfold_experiment(random_state=42, k_values=k_values)\n",
    "resultados_17 = knn_kfold_experiment(random_state=17, k_values=k_values)\n",
    "resultados_24 = knn_kfold_experiment(random_state=24, k_values=k_values)\n",
    "\n",
    "def analisar_melhor_k(resultados, random_state):\n",
    "    medias = {k: np.mean(resultados[k]) for k in resultados}\n",
    "    melhor_k = max(medias, key=medias.get)  # k com maior acurácia média\n",
    "    print(f\"\\nPara random_state={random_state}, o melhor valor de k foi: {melhor_k}\\n\")\n",
    "\n",
    "analisar_melhor_k(resultados_42, 42)\n",
    "analisar_melhor_k(resultados_17, 17)\n",
    "analisar_melhor_k(resultados_24, 24)\n"
   ]
  }
 ],
 "metadata": {
  "language_info": {
   "name": "python"
  }
 },
 "nbformat": 4,
 "nbformat_minor": 2
}
