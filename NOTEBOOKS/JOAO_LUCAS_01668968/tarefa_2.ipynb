{
  "cells": [
    {
      "cell_type": "code",
      "execution_count": 37,
      "metadata": {
        "id": "PWi2hL8QAhuc"
      },
      "outputs": [],
      "source": [
        "import pandas as pd\n",
        "\n",
        "# URL do dataset Wine\n",
        "url = 'https://archive.ics.uci.edu/ml/machine-learning-databases/wine/wine.data'\n",
        "\n",
        "# Nome das colunas em português BR\n",
        "column_names_pt_br = [\n",
        "    'classe',\n",
        "    'alcool',\n",
        "    'acido_malico',\n",
        "    'cinzas',\n",
        "    'alcalinidade_de_cinzas',\n",
        "    'magnesio',\n",
        "    'fenois_totais',\n",
        "    'flavanoides',\n",
        "    'fenois_nao_flavanoides',\n",
        "    'proantocianinas',\n",
        "    'intensidade_de_cor',\n",
        "    'matiz',\n",
        "    'od280_od315_de_vinhos_diluidos',\n",
        "    'prolina'\n",
        "]\n",
        "\n",
        "# Ler o arquivo CSV com as colunas especificadas, definindo a coluna 'classe' como object\n",
        "vinhos = pd.read_csv(url, names=column_names_pt_br, dtype={'classe': object})"
      ]
    },
    {
      "cell_type": "markdown",
      "metadata": {
        "id": "dHjhoxAtA8QU"
      },
      "source": [
        "1. Análise Exploratória de Variáveis\n",
        "Realize uma análise exploratória básica das seguintes colunas, fornecendo estatísticas descritivas e insights:\n",
        "- classe: Faça a contagem das diferentes classes presentes no dataset;\n",
        "- alcool;\n",
        "- acido_malico;\n",
        "- magnesio;\n",
        "- matiz."
      ]
    },
    {
      "cell_type": "code",
      "execution_count": null,
      "metadata": {
        "colab": {
          "base_uri": "https://localhost:8080/",
          "height": 443
        },
        "id": "fhOFI-CGBLNM",
        "outputId": "c29f035e-6b51-4ad3-fecd-13ddbd3a400c"
      },
      "outputs": [],
      "source": [
        "contagem_classe = vinhos['classe'].value_counts()\n",
        "print(\"Contagem para as diferentes classes\")\n",
        "print(f\"{contagem_classe}\\n\")\n",
        "print(\"Descricao estatistica breve das outras 4 colunas pedidas\")\n",
        "vinhos[['classe', 'alcool', 'acido_malico', 'magnesio', 'matiz']].describe()\n"
      ]
    },
    {
      "cell_type": "markdown",
      "metadata": {
        "id": "ymYB30eOH-Z3"
      },
      "source": [
        "2. Criação de Boxplots\n",
        "Crie boxplots para explorar a dispersão dos dados nas seguintes colunas:\n",
        "- magnesio\n",
        "- prolina\n",
        "- cinzas\n",
        "- alcool"
      ]
    },
    {
      "cell_type": "code",
      "execution_count": null,
      "metadata": {
        "colab": {
          "base_uri": "https://localhost:8080/",
          "height": 1000
        },
        "id": "PCxVmXvdIJgN",
        "outputId": "597addd2-1dbc-49d0-f025-6e8df7ea06d8"
      },
      "outputs": [],
      "source": [
        "import matplotlib.pyplot as plt\n",
        "lista_colunas = ['magnesio', 'prolina', 'cinzas', 'alcool']\n",
        "for coluna in lista_colunas:\n",
        "  vinhos.boxplot(column=coluna)\n",
        "  titulo = f'Boxplot de {coluna}'\n",
        "  plt.title(titulo)\n",
        "  plt.suptitle('')\n",
        "  plt.show()"
      ]
    },
    {
      "cell_type": "markdown",
      "metadata": {
        "id": "Yv9xrf9cK2XV"
      },
      "source": [
        "Crie um boxplot das seguintes colunas, segregando os dados pela variável classe:\n",
        "- magnesio\n",
        "- fenois_totais\n",
        "- acido_malico\n",
        "- alcool"
      ]
    },
    {
      "cell_type": "code",
      "execution_count": null,
      "metadata": {
        "colab": {
          "base_uri": "https://localhost:8080/",
          "height": 1000
        },
        "id": "bFewMu4cLIpQ",
        "outputId": "e6c4308a-67a7-49c2-b3ba-1314dbfccee8"
      },
      "outputs": [],
      "source": [
        "lista_colunas = ['magnesio', 'fenois_totais', 'acido_malico', 'alcool']\n",
        "for coluna in lista_colunas:\n",
        "  vinhos.boxplot(column=coluna, by='classe')\n",
        "  titulo = f'Boxplot de {coluna} por classe'\n",
        "  plt.title(titulo)\n",
        "  plt.suptitle('')\n",
        "  plt.show()"
      ]
    },
    {
      "cell_type": "markdown",
      "metadata": {
        "id": "y_wb5L6DMZB0"
      },
      "source": [
        "4. Criação de Histograma\n",
        "Crie um histograma para visualizar a distribuição dos dados na coluna:\n",
        "- fenois_totais, utilizando 10 bins\n"
      ]
    },
    {
      "cell_type": "code",
      "execution_count": null,
      "metadata": {
        "colab": {
          "base_uri": "https://localhost:8080/",
          "height": 472
        },
        "id": "jhTfTMeFMpV9",
        "outputId": "8fdc169c-bab2-4cff-e60b-92c9d9ef28bb"
      },
      "outputs": [],
      "source": [
        "plt.figure()\n",
        "plt.hist(vinhos['fenois_totais'], bins=10)\n",
        "plt.title(f'Histograma de fenois_totais')\n",
        "plt.xlabel('fenois_totais')\n",
        "plt.ylabel('Frequência')\n",
        "plt.show()"
      ]
    },
    {
      "cell_type": "markdown",
      "metadata": {
        "id": "M0GME8l-MmE_"
      },
      "source": [
        "\n",
        "Crie um histograma da coluna fenois_totais, filtrando apenas a classe 3, utilizando 10 bins."
      ]
    },
    {
      "cell_type": "code",
      "execution_count": null,
      "metadata": {
        "colab": {
          "base_uri": "https://localhost:8080/",
          "height": 472
        },
        "id": "sM5p_EyhMp9g",
        "outputId": "f4debb14-6fc4-4aed-e946-e7eb9a282749"
      },
      "outputs": [],
      "source": [
        "plt.figure()\n",
        "plt.hist(vinhos[vinhos['classe']=='3']['fenois_totais'], bins=10)\n",
        "plt.title(f'Histograma de fenois_totais para a classe 3')\n",
        "plt.xlabel('fenois_totais')\n",
        "plt.ylabel('Frequência')\n",
        "plt.show()"
      ]
    }
  ],
  "metadata": {
    "colab": {
      "provenance": []
    },
    "kernelspec": {
      "display_name": "Python 3",
      "name": "python3"
    },
    "language_info": {
      "name": "python"
    }
  },
  "nbformat": 4,
  "nbformat_minor": 0
}
