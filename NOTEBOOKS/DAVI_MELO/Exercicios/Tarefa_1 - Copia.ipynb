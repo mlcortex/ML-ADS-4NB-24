{
 "cells": [
  {
   "cell_type": "markdown",
   "id": "fa197ace-11c2-4daa-af5c-de5f7ee38a88",
   "metadata": {},
   "source": [
    "## Para a seguinte lista de números:\r\n"
   ]
  },
  {
   "cell_type": "code",
   "execution_count": 3,
   "id": "741789b6-cb59-4976-a6e9-a81a72935fee",
   "metadata": {},
   "outputs": [],
   "source": [
    "valores = [4, 6, 3, 4, 5, 8, 4, 2]"
   ]
  },
  {
   "cell_type": "markdown",
   "id": "862fe689-a996-424b-a9ea-e6e741e4bdcb",
   "metadata": {},
   "source": [
    "### Crie um notebook que apresente as seguintes informações sobre a lista:"
   ]
  },
  {
   "cell_type": "markdown",
   "id": "6168d282-fe68-44c3-8394-1232eaa98914",
   "metadata": {},
   "source": [
    "1 - Valor máximo:\r\n"
   ]
  },
  {
   "cell_type": "code",
   "execution_count": 11,
   "id": "e68c8de7-b5ec-45b2-bc75-1a9c590dffcd",
   "metadata": {},
   "outputs": [
    {
     "data": {
      "text/plain": [
       "8"
      ]
     },
     "execution_count": 11,
     "metadata": {},
     "output_type": "execute_result"
    }
   ],
   "source": [
    "valores.sort()\n",
    "valores[-1]"
   ]
  },
  {
   "cell_type": "markdown",
   "id": "4f9ca8e2-02fe-4a03-8ed8-a563909a8f39",
   "metadata": {},
   "source": [
    "2 - Valor mínimo:"
   ]
  },
  {
   "cell_type": "code",
   "execution_count": 13,
   "id": "f9ba98c5-98f7-4ab5-803e-baa14cd1a7a6",
   "metadata": {},
   "outputs": [
    {
     "data": {
      "text/plain": [
       "2"
      ]
     },
     "execution_count": 13,
     "metadata": {},
     "output_type": "execute_result"
    }
   ],
   "source": [
    "valores[0]"
   ]
  },
  {
   "cell_type": "markdown",
   "id": "c9830f3e-57d4-4e90-8520-92ad9e53280e",
   "metadata": {},
   "source": [
    "3 - Média aritmética dos valores:\n"
   ]
  },
  {
   "cell_type": "code",
   "execution_count": 26,
   "id": "48b41b89-ad94-497b-bdbc-33a8b18cdc1d",
   "metadata": {},
   "outputs": [
    {
     "data": {
      "text/plain": [
       "4.5"
      ]
     },
     "execution_count": 26,
     "metadata": {},
     "output_type": "execute_result"
    }
   ],
   "source": [
    "MA = (sum(valores))/len(valores)\n",
    "MA"
   ]
  },
  {
   "cell_type": "markdown",
   "id": "4fa97a0e-41d5-4ce9-889c-5e3658650602",
   "metadata": {},
   "source": [
    "4 - Mediana dos valores:\r\n"
   ]
  },
  {
   "cell_type": "code",
   "execution_count": null,
   "id": "e466a8b6-86e1-4210-8e77-e3391bd5bbf5",
   "metadata": {},
   "outputs": [],
   "source": [
    "if len(valores) % 2 == 0:\n",
    "    len(valores)/2"
   ]
  },
  {
   "cell_type": "markdown",
   "id": "a9448479-7f1d-40b6-bf44-86c6c8cd65c3",
   "metadata": {},
   "source": [
    "5 - Desvio padrão dos valores:\n"
   ]
  }
 ],
 "metadata": {
  "kernelspec": {
   "display_name": "Python 3 (ipykernel)",
   "language": "python",
   "name": "python3"
  },
  "language_info": {
   "codemirror_mode": {
    "name": "ipython",
    "version": 3
   },
   "file_extension": ".py",
   "mimetype": "text/x-python",
   "name": "python",
   "nbconvert_exporter": "python",
   "pygments_lexer": "ipython3",
   "version": "3.12.4"
  }
 },
 "nbformat": 4,
 "nbformat_minor": 5
}
