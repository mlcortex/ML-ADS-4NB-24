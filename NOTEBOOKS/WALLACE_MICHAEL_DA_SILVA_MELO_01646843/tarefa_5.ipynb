{
  "nbformat": 4,
  "nbformat_minor": 0,
  "metadata": {
    "colab": {
      "provenance": []
    },
    "kernelspec": {
      "name": "python3",
      "display_name": "Python 3"
    },
    "language_info": {
      "name": "python"
    }
  },
  "cells": [
    {
      "cell_type": "code",
      "execution_count": null,
      "metadata": {
        "id": "nLXCZmeTu3AU"
      },
      "outputs": [],
      "source": [
        "import pandas as pd\n",
        "\n",
        "# URL do dataset Wine\n",
        "url = 'https://archive.ics.uci.edu/ml/machine-learning-databases/wine/wine.data'\n",
        "\n",
        "# Nome das colunas em português BR\n",
        "column_names_pt_br = [\n",
        "    'classe',\n",
        "    'alcool',\n",
        "    'acido_malico',\n",
        "    'cinzas',\n",
        "    'alcalinidade_de_cinzas',\n",
        "    'magnesio',\n",
        "    'fenois_totais',\n",
        "    'flavanoides',\n",
        "    'fenois_nao_flavanoides',\n",
        "    'proantocianinas',\n",
        "    'intensidade_de_cor',\n",
        "    'matiz',\n",
        "    'od280_od315_de_vinhos_diluidos',\n",
        "    'prolina'\n",
        "]\n",
        "\n",
        "# Ler o arquivo CSV com as colunas especificadas, definindo a coluna 'classe' como object\n",
        "vinhos = pd.read_csv(url, names=column_names_pt_br, dtype={'classe': object})"
      ]
    },
    {
      "cell_type": "markdown",
      "source": [
        "# Normalização dos Dados\n",
        "Realize a reescala linear dos dados para o intervalo (0, 1). Utilize a biblioteca MinMaxScaler do sklearn. Lembre-se de dropar a coluna classe, pois ela não deve ser utilizada para o agrupamento.\n",
        "\n",
        "\n"
      ],
      "metadata": {
        "id": "CKX0y5M3y0J8"
      }
    },
    {
      "cell_type": "code",
      "source": [
        "from sklearn.preprocessing import MinMaxScaler\n",
        "\n",
        "# Dropar a coluna 'classe'\n",
        "X = vinhos.drop('classe', axis=1)\n",
        "\n",
        "# Reescala linear dos dados\n",
        "scaler = MinMaxScaler()\n",
        "X_scaled = scaler.fit_transform(X)"
      ],
      "metadata": {
        "id": "bKIEARSSy7Q8"
      },
      "execution_count": null,
      "outputs": []
    },
    {
      "cell_type": "markdown",
      "source": [
        "# Aplicação do K-Means\n",
        "Aplique o K-Means para agrupar os dados em 4 clusters. Utilize random_state=42 para garantir a reprodutibilidade dos resultados. Após o treinamento, apresente o valor da inércia do modelo."
      ],
      "metadata": {
        "id": "ZTC4OWxAzQ7O"
      }
    },
    {
      "cell_type": "code",
      "source": [
        "from sklearn.cluster import KMeans\n",
        "\n",
        "# Aplicar K-Means com 4 clusters\n",
        "kmeans = KMeans(n_clusters=4, random_state=42)\n",
        "vinhos['cluster'] = kmeans.fit_predict(X_scaled)\n",
        "\n",
        "# Apresentar o valor da inércia\n",
        "print(f'Inércia do modelo K-Means: {kmeans.inertia_}')"
      ],
      "metadata": {
        "colab": {
          "base_uri": "https://localhost:8080/"
        },
        "id": "CD3RWrd5zYeb",
        "outputId": "5dbea6b4-433e-44de-a45f-1656c571a430"
      },
      "execution_count": null,
      "outputs": [
        {
          "output_type": "stream",
          "name": "stdout",
          "text": [
            "Inércia do modelo K-Means: 44.887604580852816\n"
          ]
        }
      ]
    },
    {
      "cell_type": "markdown",
      "source": [
        "# Análise dos Clusters\n",
        "Após a aplicação do K-Means, mostre a distribuição dos clusters na nova coluna que foi criada. Utilize o método value_counts() para isso:"
      ],
      "metadata": {
        "id": "aEJo1tanzmpP"
      }
    },
    {
      "cell_type": "code",
      "source": [
        "# Apresentar a contagem dos clusters\n",
        "print(vinhos['cluster'].value_counts())"
      ],
      "metadata": {
        "colab": {
          "base_uri": "https://localhost:8080/"
        },
        "id": "uw_H4-KPzrHL",
        "outputId": "4435959c-cfca-4d7f-ebf1-680194f2903a"
      },
      "execution_count": null,
      "outputs": [
        {
          "output_type": "stream",
          "name": "stdout",
          "text": [
            "cluster\n",
            "2    59\n",
            "1    50\n",
            "0    36\n",
            "3    33\n",
            "Name: count, dtype: int64\n"
          ]
        }
      ]
    },
    {
      "cell_type": "markdown",
      "source": [
        "# Comparação com Classes Originais\n",
        "Compare a distribuição dos clusters obtidos com as classes originais da coluna classe. Utilize o método groupby() para facilitar essa análise."
      ],
      "metadata": {
        "id": "6MBj0K3Y0IVY"
      }
    },
    {
      "cell_type": "code",
      "source": [
        "# Comparar clusters com as classes originais\n",
        "comparacao = vinhos.groupby('cluster')['classe'].value_counts()\n",
        "print(comparacao)\n",
        "\n"
      ],
      "metadata": {
        "colab": {
          "base_uri": "https://localhost:8080/"
        },
        "id": "Pe_yD9Mu0B8N",
        "outputId": "08c43a9f-e167-45ca-f235-12665920d385"
      },
      "execution_count": null,
      "outputs": [
        {
          "output_type": "stream",
          "name": "stdout",
          "text": [
            "cluster  classe\n",
            "0        2         34\n",
            "         1          2\n",
            "1        3         48\n",
            "         2          2\n",
            "2        1         57\n",
            "         2          2\n",
            "3        2         33\n",
            "Name: count, dtype: int64\n"
          ]
        }
      ]
    }
  ]
}