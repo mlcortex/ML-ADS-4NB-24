{
  "nbformat": 4,
  "nbformat_minor": 0,
  "metadata": {
    "colab": {
      "provenance": []
    },
    "kernelspec": {
      "name": "python3",
      "display_name": "Python 3"
    },
    "language_info": {
      "name": "python"
    }
  },
  "cells": [
    {
      "cell_type": "markdown",
      "source": [
        "# Avaliação de Classificadores KNN com K-Fold Cross-Validation - Dataset Vinhos (UCI)"
      ],
      "metadata": {
        "id": "euSXV6-wHF9u"
      }
    },
    {
      "cell_type": "markdown",
      "source": [
        "## 1. Leitura dos Dados"
      ],
      "metadata": {
        "id": "s6Gv3lp3HC3k"
      }
    },
    {
      "cell_type": "code",
      "execution_count": 2,
      "metadata": {
        "id": "b8uBWoyYGQUQ"
      },
      "outputs": [],
      "source": [
        "import pandas as pd\n",
        "\n",
        "# URL do dataset Wine\n",
        "url = 'https://archive.ics.uci.edu/ml/machine-learning-databases/wine/wine.data'\n",
        "\n",
        "# Nome das colunas em português BR\n",
        "column_names_pt_br = [\n",
        "    'classe',\n",
        "    'alcool',\n",
        "    'acido_malico',\n",
        "    'cinzas',\n",
        "    'alcalinidade_de_cinzas',\n",
        "    'magnesio',\n",
        "    'fenois_totais',\n",
        "    'flavanoides',\n",
        "    'fenois_nao_flavanoides',\n",
        "    'proantocianinas',\n",
        "    'intensidade_de_cor',\n",
        "    'matiz',\n",
        "    'od280_od315_de_vinhos_diluidos',\n",
        "    'prolina'\n",
        "]\n",
        "\n",
        "# Ler o arquivo CSV com as colunas especificadas, definindo a coluna 'classe' como object\n",
        "vinhos = pd.read_csv(url, names=column_names_pt_br, dtype={'classe': object})"
      ]
    },
    {
      "cell_type": "markdown",
      "source": [
        "## 2. Pré-processamento dos Dados"
      ],
      "metadata": {
        "id": "QpceyFhiG-PF"
      }
    },
    {
      "cell_type": "code",
      "source": [
        "X = vinhos.drop(columns=['classe'])\n",
        "y = vinhos['classe']"
      ],
      "metadata": {
        "id": "iSBZGZHxGj86"
      },
      "execution_count": 3,
      "outputs": []
    },
    {
      "cell_type": "markdown",
      "source": [
        "## 3. Configuração do Experimento"
      ],
      "metadata": {
        "id": "arqx_K2bzmX3"
      }
    },
    {
      "cell_type": "code",
      "source": [
        "from sklearn.neighbors import KNeighborsClassifier\n",
        "from sklearn.metrics import accuracy_score\n",
        "import numpy as np\n",
        "\n",
        "# Função para realizar um experimento com um dado random_state\n",
        "def experimento(X, y, random_state, k_values):\n",
        "    # Embaralhar os dados\n",
        "    np.random.seed(random_state)\n",
        "    shuffled_indices = np.random.permutation(len(X))\n",
        "    X_shuffled = X.iloc[shuffled_indices]\n",
        "    y_shuffled = y.iloc[shuffled_indices]\n",
        "\n",
        "    # Divisão 70% treino e 30% teste\n",
        "    train_size = int(0.7 * len(X))\n",
        "    X_train, X_test = X_shuffled[:train_size], X_shuffled[train_size:]\n",
        "    y_train, y_test = y_shuffled[:train_size], y_shuffled[train_size:]\n",
        "\n",
        "    resultados = []\n",
        "\n",
        "    for k in k_values:\n",
        "\n",
        "        knn = KNeighborsClassifier(n_neighbors=k)\n",
        "\n",
        "        knn.fit(X_train, y_train)\n",
        "\n",
        "        y_pred = knn.predict(X_test)\n",
        "\n",
        "        accuracy = accuracy_score(y_test, y_pred)\n",
        "        resultados.append({'random_state': random_state, 'k': k, 'accuracy': accuracy})\n",
        "\n",
        "        print(f\"Random State {random_state} | k={k} | Acurácia: {accuracy:.4f}\")\n",
        "\n",
        "    return resultados\n",
        "\n",
        "random_states = [42, 17, 24]\n",
        "k_values = [3, 5]\n",
        "\n",
        "arrayTodosResultados = []\n",
        "for random_state in random_states:\n",
        "    arrayTodosResultados.extend(experimento(X, y, random_state, k_values))\n",
        "\n",
        "import pandas as pd\n",
        "resultados_df = pd.DataFrame(arrayTodosResultados)\n",
        "\n",
        "melhor_resultado = resultados_df.loc[resultados_df['accuracy'].idxmax()]\n",
        "print(\"\\nMelhor Configuração Geral:\")\n",
        "print(f\"Random State: {melhor_resultado['random_state']}, k: {melhor_resultado['k']}, Acurácia: {melhor_resultado['accuracy']:.4f}\")\n"
      ],
      "metadata": {
        "colab": {
          "base_uri": "https://localhost:8080/"
        },
        "id": "A_bgZ9RzJrJl",
        "outputId": "b034b914-341d-4696-a879-64a53c66c03c"
      },
      "execution_count": 4,
      "outputs": [
        {
          "output_type": "stream",
          "name": "stdout",
          "text": [
            "Random State 42 | k=3 | Acurácia: 0.6667\n",
            "Random State 42 | k=5 | Acurácia: 0.5741\n",
            "Random State 17 | k=3 | Acurácia: 0.8148\n",
            "Random State 17 | k=5 | Acurácia: 0.8148\n",
            "Random State 24 | k=3 | Acurácia: 0.6852\n",
            "Random State 24 | k=5 | Acurácia: 0.6481\n",
            "\n",
            "Melhor Configuração Geral:\n",
            "Random State: 17.0, k: 3.0, Acurácia: 0.8148\n"
          ]
        }
      ]
    },
    {
      "cell_type": "markdown",
      "source": [
        "## 4. Estrutura de Cross-Validation com KFold"
      ],
      "metadata": {
        "id": "WUUMUhy6zqXn"
      }
    },
    {
      "cell_type": "code",
      "source": [
        "from sklearn.model_selection import KFold\n",
        "from sklearn.neighbors import KNeighborsClassifier\n",
        "from sklearn.metrics import accuracy_score\n",
        "import numpy as np\n",
        "import pandas as pd\n",
        "\n",
        "k_values = [3, 5]\n",
        "random_states = [42, 17, 24]\n",
        "results = []\n",
        "\n",
        "for random_state in random_states:\n",
        "    print(f\"\\nRandom State: {random_state}\")\n",
        "\n",
        "    kf = KFold(n_splits=10, shuffle=True, random_state=random_state)\n",
        "\n",
        "    for k in k_values:\n",
        "        fold_accuracies = []\n",
        "\n",
        "        for train_index, test_index in kf.split(X):\n",
        "\n",
        "            X_train, X_test = X.iloc[train_index], X.iloc[test_index]\n",
        "            y_train, y_test = y.iloc[train_index], y.iloc[test_index]\n",
        "\n",
        "            knn = KNeighborsClassifier(n_neighbors=k)\n",
        "            knn.fit(X_train, y_train)\n",
        "\n",
        "            y_pred = knn.predict(X_test)\n",
        "\n",
        "            accuracy = accuracy_score(y_test, y_pred)\n",
        "            fold_accuracies.append(accuracy)\n",
        "\n",
        "        # Calcular a média e o desvio padrão das acurácias para este valor de k\n",
        "        mean_accuracy = np.mean(fold_accuracies)\n",
        "        std_accuracy = np.std(fold_accuracies)\n",
        "\n",
        "        # Registrar os resultados\n",
        "        results.append({\n",
        "            'random_state': random_state,\n",
        "            'k': k,\n",
        "            'mean_accuracy': mean_accuracy,\n",
        "            'std_accuracy': std_accuracy\n",
        "        })\n",
        "\n",
        "        print(f\"k={k} | Média da Acurácia: {mean_accuracy:.4f} | Desvio Padrão: {std_accuracy:.4f}\")\n",
        "\n",
        "results_df = pd.DataFrame(results)\n",
        "\n",
        "# Exibir resultados e melhor configuração geral\n",
        "print(\"\\nResultados Consolidados:\")\n",
        "print(results_df)\n",
        "\n",
        "best_result = results_df.loc[results_df['mean_accuracy'].idxmax()]\n",
        "print(\"\\nMelhor Configuração Geral:\")\n",
        "print(f\"Random State: {best_result['random_state']}, k: {best_result['k']}, \"\n",
        "      f\"Média da Acurácia: {best_result['mean_accuracy']:.4f}, \"\n",
        "      f\"Desvio Padrão: {best_result['std_accuracy']:.4f}\")\n"
      ],
      "metadata": {
        "colab": {
          "base_uri": "https://localhost:8080/"
        },
        "id": "1wGpJjM3ztLJ",
        "outputId": "f62dc9c5-f78f-46bd-d0dc-1956bd2b4c2e"
      },
      "execution_count": 5,
      "outputs": [
        {
          "output_type": "stream",
          "name": "stdout",
          "text": [
            "\n",
            "Random State: 42\n",
            "k=3 | Média da Acurácia: 0.7036 | Desvio Padrão: 0.1392\n",
            "k=5 | Média da Acurácia: 0.6641 | Desvio Padrão: 0.1001\n",
            "\n",
            "Random State: 17\n",
            "k=3 | Média da Acurácia: 0.6987 | Desvio Padrão: 0.1040\n",
            "k=5 | Média da Acurácia: 0.6876 | Desvio Padrão: 0.1121\n",
            "\n",
            "Random State: 24\n",
            "k=3 | Média da Acurácia: 0.7127 | Desvio Padrão: 0.0968\n",
            "k=5 | Média da Acurácia: 0.7127 | Desvio Padrão: 0.0940\n",
            "\n",
            "Resultados Consolidados:\n",
            "   random_state  k  mean_accuracy  std_accuracy\n",
            "0            42  3       0.703595      0.139187\n",
            "1            42  5       0.664052      0.100075\n",
            "2            17  3       0.698693      0.104030\n",
            "3            17  5       0.687582      0.112118\n",
            "4            24  3       0.712745      0.096816\n",
            "5            24  5       0.712745      0.093973\n",
            "\n",
            "Melhor Configuração Geral:\n",
            "Random State: 24.0, k: 3.0, Média da Acurácia: 0.7127, Desvio Padrão: 0.0968\n"
          ]
        }
      ]
    }
  ]
}