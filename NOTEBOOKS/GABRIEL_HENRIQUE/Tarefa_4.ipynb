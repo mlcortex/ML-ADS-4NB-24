{
  "nbformat": 4,
  "nbformat_minor": 0,
  "metadata": {
    "colab": {
      "provenance": []
    },
    "kernelspec": {
      "name": "python3",
      "display_name": "Python 3"
    },
    "language_info": {
      "name": "python"
    }
  },
  "cells": [
    {
      "cell_type": "code",
      "execution_count": 1,
      "metadata": {
        "id": "TwzwrxBNM97C"
      },
      "outputs": [],
      "source": [
        "import pandas as pd\n",
        "\n",
        "# URL do dataset Wine\n",
        "url = 'https://archive.ics.uci.edu/ml/machine-learning-databases/wine/wine.data'\n",
        "\n",
        "# Nome das colunas em português BR\n",
        "column_names_pt_br = [\n",
        "    'classe',\n",
        "    'alcool',\n",
        "    'acido_malico',\n",
        "    'cinzas',\n",
        "    'alcalinidade_de_cinzas',\n",
        "    'magnesio',\n",
        "    'fenois_totais',\n",
        "    'flavanoides',\n",
        "    'fenois_nao_flavanoides',\n",
        "    'proantocianinas',\n",
        "    'intensidade_de_cor',\n",
        "    'matiz',\n",
        "    'od280_od315_de_vinhos_diluidos',\n",
        "    'prolina'\n",
        "]\n",
        "\n",
        "# Ler o arquivo CSV com as colunas especificadas, definindo a coluna 'classe' como object\n",
        "vinhos = pd.read_csv(url, names=column_names_pt_br, dtype={'classe': object})"
      ]
    },
    {
      "cell_type": "code",
      "source": [
        "# X: Todas as colunas, exceto classe.\n",
        "# y: Coluna classe, que será a variável-alvo para a classificação.\n",
        "\n",
        "X = vinhos.drop('classe', axis=1)\n",
        "y = vinhos['classe']"
      ],
      "metadata": {
        "id": "zK95VTeXNNiS"
      },
      "execution_count": 2,
      "outputs": []
    },
    {
      "cell_type": "code",
      "source": [
        "from sklearn.model_selection import train_test_split\n",
        "from sklearn.neighbors import KNeighborsClassifier\n",
        "from sklearn.metrics import accuracy_score\n",
        "\n",
        "random_states = [42, 17, 24]\n",
        "k_values = [3, 5]\n",
        "\n",
        "for random_state in random_states:\n",
        "  print(f\"\\nExperimento com random_state = {random_state}\")\n",
        "  X_train, X_test, y_train, y_test = train_test_split(X, y, test_size=0.3, random_state=random_state, stratify=y)\n",
        "\n",
        "  for k in k_values:\n",
        "    print(f\"  KNN com k = {k}\")\n",
        "    knn = KNeighborsClassifier(n_neighbors=k)\n",
        "    knn.fit(X_train, y_train)\n",
        "    y_pred = knn.predict(X_test)\n",
        "    accuracy = accuracy_score(y_test, y_pred)\n",
        "    print(f\"    Acurácia: {accuracy}\")"
      ],
      "metadata": {
        "colab": {
          "base_uri": "https://localhost:8080/"
        },
        "id": "cZlvLdQANQuK",
        "outputId": "df5455ea-1274-43ca-894f-c71970eaec10"
      },
      "execution_count": 3,
      "outputs": [
        {
          "output_type": "stream",
          "name": "stdout",
          "text": [
            "\n",
            "Experimento com random_state = 42\n",
            "  KNN com k = 3\n",
            "    Acurácia: 0.6851851851851852\n",
            "  KNN com k = 5\n",
            "    Acurácia: 0.7222222222222222\n",
            "\n",
            "Experimento com random_state = 17\n",
            "  KNN com k = 3\n",
            "    Acurácia: 0.7592592592592593\n",
            "  KNN com k = 5\n",
            "    Acurácia: 0.7592592592592593\n",
            "\n",
            "Experimento com random_state = 24\n",
            "  KNN com k = 3\n",
            "    Acurácia: 0.7037037037037037\n",
            "  KNN com k = 5\n",
            "    Acurácia: 0.6851851851851852\n"
          ]
        }
      ]
    },
    {
      "cell_type": "code",
      "source": [
        "import pandas as pd\n",
        "from sklearn.model_selection import KFold\n",
        "from sklearn.neighbors import KNeighborsClassifier\n",
        "from sklearn.metrics import accuracy_score\n",
        "import numpy as np\n",
        "\n",
        "# URL do dataset Wine\n",
        "url = 'https://archive.ics.uci.edu/ml/machine-learning-databases/wine/wine.data'\n",
        "\n",
        "# Nome das colunas em português BR\n",
        "column_names_pt_br = [\n",
        "    'classe',\n",
        "    'alcool',\n",
        "    'acido_malico',\n",
        "    'cinzas',\n",
        "    'alcalinidade_de_cinzas',\n",
        "    'magnesio',\n",
        "    'fenois_totais',\n",
        "    'flavanoides',\n",
        "    'fenois_nao_flavanoides',\n",
        "    'proantocianinas',\n",
        "    'intensidade_de_cor',\n",
        "    'matiz',\n",
        "    'od280_od315_de_vinhos_diluidos',\n",
        "    'prolina'\n",
        "]\n",
        "\n",
        "# Ler o arquivo CSV com as colunas especificadas, definindo a coluna 'classe' como object\n",
        "vinhos = pd.read_csv(url, names=column_names_pt_br, dtype={'classe': object})\n",
        "# X: Todas as colunas, exceto classe.\n",
        "# y: Coluna classe, que será a variável-alvo para a classificação.\n",
        "\n",
        "X = vinhos.drop('classe', axis=1)\n",
        "y = vinhos['classe']\n",
        "\n",
        "random_states = [42, 17, 24]\n",
        "k_values = [3, 5]\n",
        "\n",
        "for random_state in random_states:\n",
        "    print(f\"\\nExperimento com random_state = {random_state}\")\n",
        "\n",
        "    for k in k_values:\n",
        "        print(f\"  KNN com k = {k}\")\n",
        "        accuracies = []\n",
        "        kf = KFold(n_splits=10, shuffle=True, random_state=random_state)\n",
        "        for train_index, test_index in kf.split(X):\n",
        "            X_train, X_test = X.iloc[train_index], X.iloc[test_index]\n",
        "            y_train, y_test = y.iloc[train_index], y.iloc[test_index]\n",
        "            knn = KNeighborsClassifier(n_neighbors=k)\n",
        "            knn.fit(X_train, y_train)\n",
        "            y_pred = knn.predict(X_test)\n",
        "            accuracy = accuracy_score(y_test, y_pred)\n",
        "            accuracies.append(accuracy)\n",
        "\n",
        "        mean_accuracy = np.mean(accuracies)\n",
        "        std_accuracy = np.std(accuracies)\n",
        "        print(f\"    Acurácia Média: {mean_accuracy:.4f}\")\n",
        "        print(f\"    Desvio Padrão da Acurácia: {std_accuracy:.4f}\")"
      ],
      "metadata": {
        "colab": {
          "base_uri": "https://localhost:8080/"
        },
        "id": "upqmp4-yNhnr",
        "outputId": "5c6af66b-7fdc-44f1-b183-bd8d52accab5"
      },
      "execution_count": 4,
      "outputs": [
        {
          "output_type": "stream",
          "name": "stdout",
          "text": [
            "\n",
            "Experimento com random_state = 42\n",
            "  KNN com k = 3\n",
            "    Acurácia Média: 0.7036\n",
            "    Desvio Padrão da Acurácia: 0.1392\n",
            "  KNN com k = 5\n",
            "    Acurácia Média: 0.6641\n",
            "    Desvio Padrão da Acurácia: 0.1001\n",
            "\n",
            "Experimento com random_state = 17\n",
            "  KNN com k = 3\n",
            "    Acurácia Média: 0.6987\n",
            "    Desvio Padrão da Acurácia: 0.1040\n",
            "  KNN com k = 5\n",
            "    Acurácia Média: 0.6876\n",
            "    Desvio Padrão da Acurácia: 0.1121\n",
            "\n",
            "Experimento com random_state = 24\n",
            "  KNN com k = 3\n",
            "    Acurácia Média: 0.7127\n",
            "    Desvio Padrão da Acurácia: 0.0968\n",
            "  KNN com k = 5\n",
            "    Acurácia Média: 0.7127\n",
            "    Desvio Padrão da Acurácia: 0.0940\n"
          ]
        }
      ]
    },
    {
      "cell_type": "code",
      "source": [
        "import pandas as pd\n",
        "from sklearn.model_selection import train_test_split\n",
        "from sklearn.neighbors import KNeighborsClassifier\n",
        "from sklearn.metrics import accuracy_score\n",
        "from sklearn.model_selection import KFold\n",
        "import numpy as np\n",
        "\n",
        "# ... (código anterior permanece inalterado)\n",
        "\n",
        "results = {}\n",
        "\n",
        "for random_state in random_states:\n",
        "    results[random_state] = {}\n",
        "    print(f\"\\nExperimento com random_state = {random_state}\")\n",
        "\n",
        "    for k in k_values:\n",
        "        print(f\"  KNN com k = {k}\")\n",
        "        accuracies = []\n",
        "        kf = KFold(n_splits=10, shuffle=True, random_state=random_state)\n",
        "        for train_index, test_index in kf.split(X):\n",
        "            X_train, X_test = X.iloc[train_index], X.iloc[test_index]\n",
        "            y_train, y_test = y.iloc[train_index], y.iloc[test_index]\n",
        "            knn = KNeighborsClassifier(n_neighbors=k)\n",
        "            knn.fit(X_train, y_train)\n",
        "            y_pred = knn.predict(X_test)\n",
        "            accuracy = accuracy_score(y_test, y_pred)\n",
        "            accuracies.append(accuracy)\n",
        "\n",
        "        mean_accuracy = np.mean(accuracies)\n",
        "        std_accuracy = np.std(accuracies)\n",
        "        print(f\"    Acurácia Média: {mean_accuracy:.4f}\")\n",
        "        print(f\"    Desvio Padrão da Acurácia: {std_accuracy:.4f}\")\n",
        "        results[random_state][k] = mean_accuracy\n",
        "\n",
        "# Identificando o melhor k para cada random_state\n",
        "for random_state, k_results in results.items():\n",
        "    best_k = max(k_results, key=k_results.get)\n",
        "    if k_results[3] == k_results[5]:\n",
        "      print(f\"\\nMelhor k para random_state = {random_state}: Empate entre k=3 e k=5, com acurácia média de {k_results[3]:.4f}\")\n",
        "    else:\n",
        "      print(f\"\\nMelhor k para random_state = {random_state}: {best_k} com acurácia média de {k_results[best_k]:.4f}\")"
      ],
      "metadata": {
        "colab": {
          "base_uri": "https://localhost:8080/"
        },
        "id": "6QFis4ZDN5_S",
        "outputId": "2d8e7ca9-4d56-4667-902e-d7a535d59adb"
      },
      "execution_count": 6,
      "outputs": [
        {
          "output_type": "stream",
          "name": "stdout",
          "text": [
            "\n",
            "Experimento com random_state = 42\n",
            "  KNN com k = 3\n",
            "    Acurácia Média: 0.7036\n",
            "    Desvio Padrão da Acurácia: 0.1392\n",
            "  KNN com k = 5\n",
            "    Acurácia Média: 0.6641\n",
            "    Desvio Padrão da Acurácia: 0.1001\n",
            "\n",
            "Experimento com random_state = 17\n",
            "  KNN com k = 3\n",
            "    Acurácia Média: 0.6987\n",
            "    Desvio Padrão da Acurácia: 0.1040\n",
            "  KNN com k = 5\n",
            "    Acurácia Média: 0.6876\n",
            "    Desvio Padrão da Acurácia: 0.1121\n",
            "\n",
            "Experimento com random_state = 24\n",
            "  KNN com k = 3\n",
            "    Acurácia Média: 0.7127\n",
            "    Desvio Padrão da Acurácia: 0.0968\n",
            "  KNN com k = 5\n",
            "    Acurácia Média: 0.7127\n",
            "    Desvio Padrão da Acurácia: 0.0940\n",
            "\n",
            "Melhor k para random_state = 42: 3 com acurácia média de 0.7036\n",
            "\n",
            "Melhor k para random_state = 17: 3 com acurácia média de 0.6987\n",
            "\n",
            "Melhor k para random_state = 24: Empate entre k=3 e k=5, com acurácia média de 0.7127\n"
          ]
        }
      ]
    }
  ]
}