{
  "nbformat": 4,
  "nbformat_minor": 0,
  "metadata": {
    "colab": {
      "provenance": []
    },
    "kernelspec": {
      "name": "python3",
      "display_name": "Python 3"
    },
    "language_info": {
      "name": "python"
    }
  },
  "cells": [
    {
      "cell_type": "code",
      "execution_count": null,
      "metadata": {
        "colab": {
          "base_uri": "https://localhost:8080/"
        },
        "id": "LVamk2LTFT18",
        "outputId": "6f992dbf-5dc5-4f27-ad4b-45660ff18b16"
      },
      "outputs": [
        {
          "output_type": "stream",
          "name": "stdout",
          "text": [
            "A lista de valores é [4, 6, 3, 4, 5, 8, 4, 2]\n",
            "O valor Máximo da lista é 8\n",
            "O valor Mínimo da lista é 2\n",
            "O valor Médio da lista é de 4.5\n",
            "A Mediana da lista é 4.0\n",
            "O Desvio Padrão da lista é de 1.7320508075688772\n"
          ]
        }
      ],
      "source": [
        "import numpy as np\n",
        "\n",
        "valores = [4, 6, 3, 4, 5, 8, 4, 2]\n",
        "valor_maximo = max(valores)\n",
        "valor_minimo = min(valores)\n",
        "media = np.mean(valores)\n",
        "mediana = np.median(valores)\n",
        "desvio_padrao = np.std(valores)\n",
        "\n",
        "print(f\"A lista de valores é {valores}\")\n",
        "print(f\"O valor Máximo da lista é {valor_maximo}\")\n",
        "print(f\"O valor Mínimo da lista é {valor_minimo}\")\n",
        "print(f\"O valor Médio da lista é de {media}\")\n",
        "print(f\"A Mediana da lista é {mediana}\")\n",
        "print(f\"O Desvio Padrão da lista é de {desvio_padrao}\")\n",
        "\n"
      ]
    }
  ]
}