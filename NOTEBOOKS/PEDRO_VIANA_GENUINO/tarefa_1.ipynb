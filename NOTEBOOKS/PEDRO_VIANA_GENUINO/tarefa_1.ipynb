{
  "metadata": {
    "kernelspec": {
      "name": "python",
      "display_name": "Python (Pyodide)",
      "language": "python"
    },
    "language_info": {
      "codemirror_mode": {
        "name": "python",
        "version": 3
      },
      "file_extension": ".py",
      "mimetype": "text/x-python",
      "name": "python",
      "nbconvert_exporter": "python",
      "pygments_lexer": "ipython3",
      "version": "3.8"
    }
  },
  "nbformat_minor": 4,
  "nbformat": 4,
  "cells": [
    {
      "cell_type": "markdown",
      "source": "Para a seguinte lista de números:\n\nvalores = [4, 6, 3, 4, 5, 8, 4, 2]\nCrie um notebook que apresente as seguintes informações sobre a lista:\n\nValor máximo\nValor mínimo\nMédia aritmética dos valores\nMediana dos valores\nDesvio padrão dos valores.\n",
      "metadata": {}
    },
    {
      "cell_type": "code",
      "source": "valores = [4, 6, 3, 4, 5, 8, 4, 2,]\nTam = len(valores)\nMet = len(valores)/2",
      "metadata": {
        "trusted": true
      },
      "outputs": [],
      "execution_count": 36
    },
    {
      "cell_type": "code",
      "source": "valores.sort()\nvalores",
      "metadata": {
        "trusted": true
      },
      "outputs": [
        {
          "execution_count": 37,
          "output_type": "execute_result",
          "data": {
            "text/plain": "[2, 3, 4, 4, 4, 5, 6, 8]"
          },
          "metadata": {}
        }
      ],
      "execution_count": 37
    },
    {
      "cell_type": "code",
      "source": "Max_valor = valores[-1]\nMax_valor",
      "metadata": {
        "trusted": true
      },
      "outputs": [
        {
          "execution_count": 38,
          "output_type": "execute_result",
          "data": {
            "text/plain": "8"
          },
          "metadata": {}
        }
      ],
      "execution_count": 38
    },
    {
      "cell_type": "code",
      "source": "Min_valor = valores[0]\nMin_valor",
      "metadata": {
        "trusted": true
      },
      "outputs": [
        {
          "execution_count": 39,
          "output_type": "execute_result",
          "data": {
            "text/plain": "2"
          },
          "metadata": {}
        }
      ],
      "execution_count": 39
    },
    {
      "cell_type": "code",
      "source": "Media = (sum(valores)/Tam)\nMedia",
      "metadata": {
        "trusted": true
      },
      "outputs": [
        {
          "execution_count": 40,
          "output_type": "execute_result",
          "data": {
            "text/plain": "4.5"
          },
          "metadata": {}
        }
      ],
      "execution_count": 40
    },
    {
      "cell_type": "code",
      "source": "if Tam%2 == 0 :\n    Posicao1 = Met-1\n    Posicao2 = Met+1\n    Mediana = (Posicao1 + Posicao2)/2\n    print(Mediana)\nelse:\n    indice_metade = Tam // 2\n    print(indice_metade)",
      "metadata": {
        "trusted": true
      },
      "outputs": [
        {
          "name": "stdout",
          "text": "4.0\n",
          "output_type": "stream"
        }
      ],
      "execution_count": 41
    },
    {
      "cell_type": "code",
      "source": "import statistics\n\ndesvio_padrao = statistics.stdev(valores)\ndesvio_padrao",
      "metadata": {
        "trusted": true
      },
      "outputs": [
        {
          "execution_count": 42,
          "output_type": "execute_result",
          "data": {
            "text/plain": "1.8516401995451028"
          },
          "metadata": {}
        }
      ],
      "execution_count": 42
    },
    {
      "cell_type": "code",
      "source": "",
      "metadata": {
        "trusted": true
      },
      "outputs": [],
      "execution_count": null
    }
  ]
}