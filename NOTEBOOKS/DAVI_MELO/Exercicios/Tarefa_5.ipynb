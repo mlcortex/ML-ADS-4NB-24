{
 "cells": [
  {
   "cell_type": "markdown",
   "id": "7051edae-f49d-42d6-8527-acd74f3444ac",
   "metadata": {},
   "source": [
    "# Importação de bibliotecas e da base"
   ]
  },
  {
   "cell_type": "code",
   "execution_count": 13,
   "id": "8fa4c638-8881-46a0-9694-a58265b22c98",
   "metadata": {},
   "outputs": [],
   "source": [
    "import pandas as pd\n",
    "from sklearn.preprocessing import MinMaxScaler\n",
    "from sklearn.cluster import KMeans\n",
    "\n",
    "# URL do dataset Wine\n",
    "url = 'https://archive.ics.uci.edu/ml/machine-learning-databases/wine/wine.data'\n",
    "\n",
    "# Nome das colunas em português BR\n",
    "column_names_pt_br = [\n",
    "    'classe',\n",
    "    'alcool',\n",
    "    'acido_malico',\n",
    "    'cinzas',\n",
    "    'alcalinidade_de_cinzas',\n",
    "    'magnesio',\n",
    "    'fenois_totais',\n",
    "    'flavanoides',\n",
    "    'fenois_nao_flavanoides',\n",
    "    'proantocianinas',\n",
    "    'intensidade_de_cor',\n",
    "    'matiz',\n",
    "    'od280_od315_de_vinhos_diluidos',\n",
    "    'prolina'\n",
    "]\n",
    "\n",
    "# Ler o arquivo CSV com as colunas especificadas, definindo a coluna 'classe' como object\n",
    "vinhos = pd.read_csv(url, names=column_names_pt_br, dtype={'classe': object})"
   ]
  },
  {
   "cell_type": "markdown",
   "id": "df3f7551-fbc7-4a83-a654-02dbc77482ca",
   "metadata": {},
   "source": [
    "# Treinamento do modelo"
   ]
  },
  {
   "cell_type": "code",
   "execution_count": 21,
   "id": "6c11b78f-ad2a-4fe3-866a-3909b1ef76d1",
   "metadata": {},
   "outputs": [
    {
     "name": "stdout",
     "output_type": "stream",
     "text": [
      "Inércia do modelo K-Means: 44.8876\n",
      "\n",
      "Distribuição dos clusters:\n",
      "cluster\n",
      "2    59\n",
      "1    50\n",
      "0    36\n",
      "3    33\n",
      "Name: count, dtype: int64\n",
      "\n",
      "Comparação entre clusters e classes originais:\n",
      "cluster  classe\n",
      "0        2         34\n",
      "         1          2\n",
      "1        3         48\n",
      "         2          2\n",
      "2        1         57\n",
      "         2          2\n",
      "3        2         33\n",
      "Name: count, dtype: int64\n"
     ]
    },
    {
     "name": "stderr",
     "output_type": "stream",
     "text": [
      "C:\\Users\\davi.melo\\AppData\\Local\\anaconda3\\Lib\\site-packages\\sklearn\\cluster\\_kmeans.py:1429: UserWarning: KMeans is known to have a memory leak on Windows with MKL, when there are less chunks than available threads. You can avoid it by setting the environment variable OMP_NUM_THREADS=1.\n",
      "  warnings.warn(\n"
     ]
    }
   ],
   "source": [
    "classes = vinhos['classe']\n",
    "features = vinhos.drop('classe', axis=1)\n",
    "scaler = MinMaxScaler()\n",
    "\n",
    "# Aplicando a normalização\n",
    "features_normalized = scaler.fit_transform(features)\n",
    "\n",
    "# aplicando K-Means com 4 clusters\n",
    "kmeans = KMeans(n_clusters=4, random_state=42)\n",
    "vinhos['cluster'] = kmeans.fit_predict(features_normalized)\n",
    "\n",
    "print(f'Inércia do modelo K-Means: {kmeans.inertia_:.4f}')\n",
    "\n",
    "# exibir a contagem dos clusters\n",
    "print(\"\\nDistribuição dos clusters:\")\n",
    "print(vinhos['cluster'].value_counts())\n",
    "\n",
    "# comparando clusters com as classes originais\n",
    "print(\"\\nComparação entre clusters e classes originais:\")\n",
    "comparacao_groupby = vinhos.groupby('cluster')['classe'].value_counts()\n",
    "print(comparacao_groupby)"
   ]
  }
 ],
 "metadata": {
  "kernelspec": {
   "display_name": "Python 3 (ipykernel)",
   "language": "python",
   "name": "python3"
  },
  "language_info": {
   "codemirror_mode": {
    "name": "ipython",
    "version": 3
   },
   "file_extension": ".py",
   "mimetype": "text/x-python",
   "name": "python",
   "nbconvert_exporter": "python",
   "pygments_lexer": "ipython3",
   "version": "3.12.4"
  }
 },
 "nbformat": 4,
 "nbformat_minor": 5
}
