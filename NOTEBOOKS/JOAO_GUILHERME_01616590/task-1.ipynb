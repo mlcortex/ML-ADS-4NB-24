{
 "cells": [
  {
   "cell_type": "code",
   "execution_count": 1,
   "metadata": {},
   "outputs": [
    {
     "name": "stdout",
     "output_type": "stream",
     "text": [
      "Maior Valor ----\n",
      "8\n",
      "\n",
      "Menor Valor ----\n",
      "2\n",
      "\n",
      "Média ----\n",
      "4.5\n",
      "\n",
      "Mediana ----\n",
      "4.0\n",
      "\n",
      "Desvio padrão dos valores ----\n",
      "1.7320508075688772\n"
     ]
    }
   ],
   "source": [
    "import math\n",
    "\n",
    "\n",
    "valores = [4, 6, 3, 4, 5, 8, 4, 2]\n",
    "print('Maior Valor ----')\n",
    "max = max(valores)\n",
    "print(f'{max}\\n')\n",
    "\n",
    "print('Menor Valor ----')\n",
    "min = min(valores)\n",
    "print(f'{min}\\n')\n",
    "\n",
    "print(f\"Média ----\")\n",
    "elements = len(valores)\n",
    "soma = sum(valores)\n",
    "media = soma / elements\n",
    "print(f'{media}\\n')\n",
    "\n",
    "print('Mediana ----')\n",
    "valores.sort()\n",
    "elements = len(valores)\n",
    "if elements % 2 == 0:\n",
    "    mid = valores[elements // 2 -1]\n",
    "    mid2 = valores[elements // 2]\n",
    "    mediana = (mid + mid2) / 2\n",
    "    print(f'{mediana}\\n')\n",
    "\n",
    "else:\n",
    "    mediana = valores[elements // 2]\n",
    "    print(f'{mediana}\\n')\n",
    "\n",
    "print('Desvio padrão dos valores ----')\n",
    "sum_squarts = sum((x - media) ** 2 for x in valores)\n",
    "variancia = sum_squarts / len(valores)\n",
    "desvio_padrao = math.sqrt(variancia)\n",
    "print(desvio_padrao)"
   ]
  }
 ],
 "metadata": {
  "kernelspec": {
   "display_name": "Python 3",
   "language": "python",
   "name": "python3"
  },
  "language_info": {
   "codemirror_mode": {
    "name": "ipython",
    "version": 3
   },
   "file_extension": ".py",
   "mimetype": "text/x-python",
   "name": "python",
   "nbconvert_exporter": "python",
   "pygments_lexer": "ipython3",
   "version": "3.12.7"
  }
 },
 "nbformat": 4,
 "nbformat_minor": 2
}
