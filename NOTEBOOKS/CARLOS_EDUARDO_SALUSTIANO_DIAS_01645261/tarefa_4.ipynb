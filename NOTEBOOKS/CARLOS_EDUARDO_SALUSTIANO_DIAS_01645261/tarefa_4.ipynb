{
  "nbformat": 4,
  "nbformat_minor": 0,
  "metadata": {
    "colab": {
      "provenance": []
    },
    "kernelspec": {
      "name": "python3",
      "display_name": "Python 3"
    },
    "language_info": {
      "name": "python"
    }
  },
  "cells": [
    {
      "cell_type": "code",
      "execution_count": 10,
      "metadata": {
        "id": "RrHOZd0_ipjU"
      },
      "outputs": [],
      "source": [
        "import pandas as pd\n",
        "\n",
        "# URL do dataset Wine\n",
        "url = 'https://archive.ics.uci.edu/ml/machine-learning-databases/wine/wine.data'\n",
        "\n",
        "# Nome das colunas em português BR\n",
        "column_names_pt_br = [\n",
        "    'classe', 'alcool', 'acido_malico', 'cinzas', 'alcalinidade_de_cinzas', 'magnesio',\n",
        "    'fenois_totais', 'flavanoides', 'fenois_nao_flavanoides', 'proantocianinas',\n",
        "    'intensidade_de_cor', 'matiz', 'od280_od315_de_vinhos_diluidos', 'prolina'\n",
        "]\n",
        "\n",
        "# Ler o arquivo CSV com as colunas especificadas\n",
        "vinhos = pd.read_csv(url, names=column_names_pt_br, dtype={'classe': object})\n",
        "\n"
      ]
    },
    {
      "cell_type": "markdown",
      "source": [
        "Pré-processamento dos Dados"
      ],
      "metadata": {
        "id": "1jtO4gOgkLOK"
      }
    },
    {
      "cell_type": "code",
      "source": [
        "X = vinhos.drop('classe', axis=1)\n",
        "y = vinhos['classe']\n",
        "\n",
        "# Normalizar os dados\n",
        "from sklearn.preprocessing import StandardScaler\n",
        "scaler = StandardScaler()\n",
        "X_scaled = scaler.fit_transform(X)\n"
      ],
      "metadata": {
        "id": "-q9l8qw8kL1Y"
      },
      "execution_count": 11,
      "outputs": []
    },
    {
      "cell_type": "markdown",
      "source": [
        "Configuração do Experimento"
      ],
      "metadata": {
        "id": "q0ht-MNPkcZz"
      }
    },
    {
      "cell_type": "code",
      "source": [
        "# Definir valores de random_state para os experimentos\n",
        "random_states = [42, 17, 24]\n",
        "\n",
        "# Armazenar os resultados\n",
        "results = {}\n"
      ],
      "metadata": {
        "id": "NCXVsEdJkc9f"
      },
      "execution_count": 12,
      "outputs": []
    },
    {
      "cell_type": "markdown",
      "source": [
        "Estrutura de Cross-Validation com KFold"
      ],
      "metadata": {
        "id": "K5XpjwvulHpv"
      }
    },
    {
      "cell_type": "code",
      "source": [
        "import numpy as np  # Importar numpy para calcular média e desvio padrão\n",
        "from sklearn.model_selection import KFold\n",
        "from sklearn.neighbors import KNeighborsClassifier\n",
        "from sklearn.metrics import accuracy_score\n",
        "\n",
        "# Loop para testar diferentes random_states\n",
        "for random_state in random_states:\n",
        "    # Configuração do KFold com 10 splits\n",
        "    kf = KFold(n_splits=10, shuffle=True, random_state=random_state)\n",
        "\n",
        "    # Listas para armazenar as acurácias\n",
        "    accuracies_k3 = []\n",
        "    accuracies_k5 = []\n",
        "\n",
        "    # Loop para cada fold\n",
        "    for train_index, test_index in kf.split(X_scaled):\n",
        "        X_train, X_test = X_scaled[train_index], X_scaled[test_index]\n",
        "        y_train, y_test = y.iloc[train_index], y.iloc[test_index]\n",
        "\n",
        "        knn_3 = KNeighborsClassifier(n_neighbors=3)\n",
        "        knn_3.fit(X_train, y_train)\n",
        "        y_pred_3 = knn_3.predict(X_test)\n",
        "        accuracy_3 = accuracy_score(y_test, y_pred_3)\n",
        "        accuracies_k3.append(accuracy_3)\n",
        "\n",
        "        knn_5 = KNeighborsClassifier(n_neighbors=5)\n",
        "        knn_5.fit(X_train, y_train)\n",
        "        y_pred_5 = knn_5.predict(X_test)\n",
        "        accuracy_5 = accuracy_score(y_test, y_pred_5)\n",
        "        accuracies_k5.append(accuracy_5)\n",
        "\n",
        "    # Armazenar a média e desvio padrão das acurácias usando numpy\n",
        "    results[random_state] = {\n",
        "        'k=3_mean': np.mean(accuracies_k3),\n",
        "        'k=3_std': np.std(accuracies_k3),\n",
        "        'k=5_mean': np.mean(accuracies_k5),\n",
        "        'k=5_std': np.std(accuracies_k5)\n",
        "    }\n"
      ],
      "metadata": {
        "id": "UVv9ZmR5lKJl"
      },
      "execution_count": 13,
      "outputs": []
    },
    {
      "cell_type": "markdown",
      "source": [
        "Análise dos Resultados e Exibição"
      ],
      "metadata": {
        "id": "T1BokyrulZye"
      }
    },
    {
      "cell_type": "code",
      "source": [
        "# Organizar os resultados em um DataFrame para exibição\n",
        "df_results = pd.DataFrame(results).T\n",
        "df_results.index.name = 'random_state'\n",
        "\n",
        "# Tabela com os resultados\n",
        "print(df_results)\n",
        "\n",
        "# Análise\n",
        "for random_state in random_states:\n",
        "    k3_mean = df_results.loc[random_state, 'k=3_mean']\n",
        "    k5_mean = df_results.loc[random_state, 'k=5_mean']\n",
        "\n",
        "    print(f'')\n",
        "\n",
        "    if k3_mean > k5_mean:\n",
        "        print(f'Para random_state {random_state}, o melhor k é 3 com acurácia média de {k3_mean:.4f}')\n",
        "    elif k5_mean > k3_mean:\n",
        "        print(f'Para random_state {random_state}, o melhor k é 5 com acurácia média de {k5_mean:.4f}')\n",
        "    else:\n",
        "        print(f'Para random_state {random_state}, houve empate nas acurácias médias entre k=3 e k=5.')\n"
      ],
      "metadata": {
        "colab": {
          "base_uri": "https://localhost:8080/"
        },
        "id": "gBzBAPfElaTt",
        "outputId": "c012936f-c7e8-497e-baf9-8bc7bd591729"
      },
      "execution_count": 14,
      "outputs": [
        {
          "output_type": "stream",
          "name": "stdout",
          "text": [
            "              k=3_mean   k=3_std  k=5_mean   k=5_std\n",
            "random_state                                        \n",
            "42            0.949346  0.039951  0.971895  0.028120\n",
            "17            0.954575  0.061875  0.966013  0.045616\n",
            "24            0.942810  0.063288  0.960131  0.056806\n",
            "\n",
            "Para random_state 42, o melhor k é 5 com acurácia média de 0.9719\n",
            "\n",
            "Para random_state 17, o melhor k é 5 com acurácia média de 0.9660\n",
            "\n",
            "Para random_state 24, o melhor k é 5 com acurácia média de 0.9601\n"
          ]
        }
      ]
    }
  ]
}