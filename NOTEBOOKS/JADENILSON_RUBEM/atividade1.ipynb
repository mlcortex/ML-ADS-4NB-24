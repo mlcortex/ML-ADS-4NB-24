{
  "nbformat": 4,
  "nbformat_minor": 0,
  "metadata": {
    "colab": {
      "provenance": []
    },
    "kernelspec": {
      "name": "python3",
      "display_name": "Python 3"
    },
    "language_info": {
      "name": "python"
    }
  },
  "cells": [
    {
      "cell_type": "code",
      "execution_count": 1,
      "metadata": {
        "id": "r7uugWNlP_Iy"
      },
      "outputs": [],
      "source": [
        "valores = [4, 6, 3, 4, 5, 8, 4, 2]"
      ]
    },
    {
      "cell_type": "code",
      "source": [
        "# prompt: Para a seguinte lista de números: valores = [4, 6, 3, 4, 5, 8, 4, 2]. apresenta as seguintes informações sobre a lista:\n",
        "# Valor máximo\n",
        "# Valor mínimo\n",
        "# Média aritmética dos valores\n",
        "# Mediana dos valores\n",
        "# Desvio padrão dos valores.\n",
        "\n",
        "import numpy as np\n",
        "\n",
        "valores = [4, 6, 3, 4, 5, 8, 4, 2]\n",
        "\n",
        "# Valor máximo\n",
        "valor_maximo = np.max(valores)\n",
        "\n",
        "# Valor mínimo\n",
        "valor_minimo = np.min(valores)\n",
        "\n",
        "# Média aritmética\n",
        "media = np.mean(valores)\n",
        "\n",
        "# Mediana\n",
        "mediana = np.median(valores)\n",
        "\n",
        "# Desvio padrão\n",
        "desvio_padrao = np.std(valores)\n",
        "\n",
        "\n",
        "print(f\"Valor máximo: {valor_maximo}\")\n",
        "print(f\"Valor mínimo: {valor_minimo}\")\n",
        "print(f\"Média aritmética: {media}\")\n",
        "print(f\"Mediana: {mediana}\")\n",
        "print(f\"Desvio padrão: {desvio_padrao}\")\n"
      ],
      "metadata": {
        "colab": {
          "base_uri": "https://localhost:8080/"
        },
        "id": "Pm9RhFU_QjUn",
        "outputId": "c361146c-6d62-4535-8086-f85470c99ad2"
      },
      "execution_count": 4,
      "outputs": [
        {
          "output_type": "stream",
          "name": "stdout",
          "text": [
            "Valor máximo: 8\n",
            "Valor mínimo: 2\n",
            "Média aritmética: 4.5\n",
            "Mediana: 4.0\n",
            "Desvio padrão: 1.7320508075688772\n"
          ]
        }
      ]
    }
  ]
}
