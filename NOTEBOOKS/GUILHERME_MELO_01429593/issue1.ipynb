{
 "cells": [
  {
   "cell_type": "code",
   "execution_count": 1,
   "id": "837e5980-c15e-4d6f-a3f7-152c1f62e59f",
   "metadata": {},
   "outputs": [
    {
     "name": "stdout",
     "output_type": "stream",
     "text": [
      "Resultados:\n",
      "Valor máximo: 8\n",
      "Valor mínimo: 2\n",
      "Média aritmética: 4.5\n",
      "Mediana: 4.0\n",
      "Desvio padrão: 1.7320508075688772\n"
     ]
    }
   ],
   "source": [
    "import numpy as np\n",
    "\n",
    "valores = [4, 6, 3, 4, 5, 8, 4, 2]\n",
    "\n",
    "# Valor máximo\n",
    "valor_maximo = max(valores)\n",
    "\n",
    "# Valor mínimo\n",
    "valor_minimo = min(valores)\n",
    "\n",
    "# Média aritmética\n",
    "media = np.mean(valores)\n",
    "\n",
    "# Mediana\n",
    "mediana = np.median(valores)\n",
    "\n",
    "# Desvio padrão\n",
    "desvio_padrao = np.std(valores)\n",
    "\n",
    "# Exibir os resultados\n",
    "print(\"Resultados:\")\n",
    "print(f\"Valor máximo: {valor_maximo}\")\n",
    "print(f\"Valor mínimo: {valor_minimo}\")\n",
    "print(f\"Média aritmética: {media}\")\n",
    "print(f\"Mediana: {mediana}\")\n",
    "print(f\"Desvio padrão: {desvio_padrao}\")"
   ]
  },
  {
   "cell_type": "code",
   "execution_count": null,
   "id": "d05ae453-636d-4db2-8f2f-cf4efd71d029",
   "metadata": {},
   "outputs": [],
   "source": []
  }
 ],
 "metadata": {
  "kernelspec": {
   "display_name": "Python 3 (ipykernel)",
   "language": "python",
   "name": "python3"
  },
  "language_info": {
   "codemirror_mode": {
    "name": "ipython",
    "version": 3
   },
   "file_extension": ".py",
   "mimetype": "text/x-python",
   "name": "python",
   "nbconvert_exporter": "python",
   "pygments_lexer": "ipython3",
   "version": "3.12.4"
  }
 },
 "nbformat": 4,
 "nbformat_minor": 5
}
