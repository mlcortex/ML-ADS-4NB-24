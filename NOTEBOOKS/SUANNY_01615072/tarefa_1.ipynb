{
  "nbformat": 4,
  "nbformat_minor": 0,
  "metadata": {
    "colab": {
      "provenance": []
    },
    "kernelspec": {
      "name": "python3",
      "display_name": "Python 3"
    },
    "language_info": {
      "name": "python"
    }
  },
  "cells": [
    {
      "cell_type": "markdown",
      "source": [
        "Para esta lista de números:\n",
        "  **valores = [4, 6, 3, 4, 5, 8, 4, 2]**\n",
        "\n",
        "Apresente as seguintes informações:\n",
        "\n",
        "**-Valor máximo**\n",
        "\n",
        "**-Valor mínimo**\n",
        "\n",
        "**-Média aritmética dos valores**\n",
        "\n",
        "**-Mediana dos valores**\n",
        "\n",
        "**-Desvio padrão dos valores.**\n"
      ],
      "metadata": {
        "id": "-nQKNvsMw_sW"
      }
    },
    {
      "cell_type": "code",
      "execution_count": 4,
      "metadata": {
        "colab": {
          "base_uri": "https://localhost:8080/"
        },
        "id": "9sK4onZfvlUS",
        "outputId": "c4be97c6-9099-43ce-8bd7-d71391de93e2"
      },
      "outputs": [
        {
          "output_type": "stream",
          "name": "stdout",
          "text": [
            "Valor máximo: 8\n",
            "Valor mínimo: 2\n",
            "Média aritmética: 4.5\n",
            "Mediana: 4.0\n",
            "Desvio padrão: 1.7320508075688772\n"
          ]
        }
      ],
      "source": [
        "valores = [4, 6, 3, 4, 5, 8, 4, 2]\n",
        "\n",
        "valor_maximo = max(valores)\n",
        "valor_minimo = min(valores)\n",
        "media_aritmetica = sum(valores) / len(valores)\n",
        "\n",
        "valores_ordenados = sorted(valores)\n",
        "n = len(valores)\n",
        "if n % 2 == 0:\n",
        "    mediana = (valores_ordenados[n//2 - 1] + valores_ordenados[n//2]) / 2\n",
        "else:\n",
        "    mediana = valores_ordenados[n//2]\n",
        "\n",
        "media = media_aritmetica\n",
        "soma_diferencas = sum((x - media) ** 2 for x in valores)\n",
        "desvio_padrao = (soma_diferencas / len(valores)) ** 0.5\n",
        "\n",
        "print(f'Valor máximo: {valor_maximo}')\n",
        "print(f'Valor mínimo: {valor_minimo}')\n",
        "print(f'Média aritmética: {media_aritmetica}')\n",
        "print(f'Mediana: {mediana}')\n",
        "print(f'Desvio padrão: {desvio_padrao}')"
      ]
    },
    {
      "cell_type": "markdown",
      "source": [],
      "metadata": {
        "id": "rkCGPzq8w9gt"
      }
    }
  ]
}