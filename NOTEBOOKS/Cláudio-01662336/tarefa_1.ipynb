
Maior valor: 8
Menor valor: 2
Média aritmética: 4.5
Mediana: 4.0
Desvio padrão: 1.7320508075688772

Link - https://colab.research.google.com/drive/1pItW0sE1pbLxkkNpl0dE-ZQ533PvUrxG?usp=sharing
