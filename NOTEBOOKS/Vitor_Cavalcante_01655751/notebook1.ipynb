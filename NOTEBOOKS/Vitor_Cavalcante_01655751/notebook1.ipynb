{
  "nbformat": 4,
  "nbformat_minor": 0,
  "metadata": {
    "colab": {
      "provenance": []
    },
    "kernelspec": {
      "name": "python3",
      "display_name": "Python 3"
    },
    "language_info": {
      "name": "python"
    }
  },
  "cells": [
    {
      "cell_type": "code",
      "execution_count": 9,
      "metadata": {
        "colab": {
          "base_uri": "https://localhost:8080/"
        },
        "id": "RSmXIRkvVUvk",
        "outputId": "ea1f098c-e20f-4f4d-b422-0e528f7dae05"
      },
      "outputs": [
        {
          "output_type": "stream",
          "name": "stdout",
          "text": [
            "A média é:  4.6\n",
            "A moda é:  ModeResult(mode=5, count=3)\n",
            "a mediana é:  5.0\n",
            "O desvio padrão é:  1.4\n"
          ]
        }
      ],
      "source": [
        "import numpy\n",
        "from scipy import stats\n",
        "\n",
        "numArray = [2,3,4,4,5,5,5,6,7]\n",
        "\n",
        "# media\n",
        "\n",
        "media = round(numpy.mean(numArray), 1)\n",
        "\n",
        "print(\"A média é: \", media)\n",
        "\n",
        "# moda\n",
        "\n",
        "moda = stats.mode(numArray)\n",
        "\n",
        "print(\"A moda é: \", moda)\n",
        "\n",
        "# mediana\n",
        "\n",
        "mediana = round(numpy.median(numArray), 1)\n",
        "\n",
        "print('a mediana é: ', mediana)\n",
        "\n",
        "# desvio padrão\n",
        "\n",
        "desvP = round(numpy.std(numArray), 1)\n",
        "\n",
        "print('O desvio padrão é: ', desvP)\n",
        "\n",
        "\n",
        "\n"
      ]
    }
  ]
}