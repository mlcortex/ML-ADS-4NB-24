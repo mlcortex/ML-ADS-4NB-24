{
  "nbformat": 4,
  "nbformat_minor": 0,
  "metadata": {
    "colab": {
      "provenance": []
    },
    "kernelspec": {
      "name": "python3",
      "display_name": "Python 3"
    },
    "language_info": {
      "name": "python"
    }
  },
  "cells": [
    {
      "cell_type": "markdown",
      "source": [
        "**TAREFA 1 - MACHINE LEARNING**\n",
        "\n",
        "Para a seguinte lista de números:\n",
        "\n",
        "valores = [4, 6, 3, 4, 5, 8, 4, 2]\n",
        "\n",
        "Crie um notebook que apresente as seguintes informações sobre a lista:\n",
        "\n",
        "Valor máximo\n",
        "\n",
        "Valor mínimo\n",
        "\n",
        "Média aritmética dos valores\n",
        "\n",
        "Mediana dos valores\n",
        "\n",
        "Desvio padrão dos valores.\n",
        "\n",
        "O arquivo deve conter o nome tarefa_1.ipynb.\n",
        "\n",
        "Envie o arquivo na sua respectiva pasta em NOTEBOOKS."
      ],
      "metadata": {
        "id": "yWrUbocTsBz7"
      }
    },
    {
      "cell_type": "code",
      "execution_count": 2,
      "metadata": {
        "colab": {
          "base_uri": "https://localhost:8080/"
        },
        "id": "Znvjc_Cir_HA",
        "outputId": "d80a41bb-87b3-4986-907d-a7334863a167"
      },
      "outputs": [
        {
          "output_type": "stream",
          "name": "stdout",
          "text": [
            "O valor Máximo da lista é 8\n",
            "O valor Mínimo da lista é 2\n",
            "O valor Médio da lista é de 4.5\n",
            "A Mediana da lista é 4.0\n",
            "O Desvio Padrão da lista é de 1.7320508075688772\n"
          ]
        }
      ],
      "source": [
        "import numpy as np\n",
        "\n",
        "valores = [4, 6, 3, 4, 5, 8, 4, 2]\n",
        "valor_maximo = max(valores)\n",
        "valor_minimo = min(valores)\n",
        "media = np.mean(valores)\n",
        "mediana = np.median(valores)\n",
        "desvio_padrao = np.std(valores)\n",
        "\n",
        "print(f\"O valor Máximo da lista é {valor_maximo}\")\n",
        "print(f\"O valor Mínimo da lista é {valor_minimo}\")\n",
        "print(f\"O valor Médio da lista é de {media}\")\n",
        "print(f\"A Mediana da lista é {mediana}\")\n",
        "print(f\"O Desvio Padrão da lista é de {desvio_padrao}\")"
      ]
    }
  ]
}