{
 "cells": [
  {
   "cell_type": "markdown",
   "id": "72fcad98-229f-4ed3-a255-0ba2c00e9072",
   "metadata": {
    "jp-MarkdownHeadingCollapsed": true
   },
   "source": [
    "# Importação de bibliotecas e da base"
   ]
  },
  {
   "cell_type": "code",
   "execution_count": 54,
   "id": "b25cf464-a28c-447e-a402-e24f48b12b59",
   "metadata": {},
   "outputs": [],
   "source": [
    "import pandas as pd\n",
    "import numpy as np\n",
    "from sklearn.model_selection import train_test_split, KFold\n",
    "from sklearn.neighbors import KNeighborsClassifier\n",
    "from sklearn.metrics import accuracy_score\n",
    "\n",
    "# URL do dataset Wine\n",
    "url = 'https://archive.ics.uci.edu/ml/machine-learning-databases/wine/wine.data'\n",
    "\n",
    "# Nome das colunas em português BR\n",
    "column_names_pt_br = [\n",
    "    'classe',\n",
    "    'alcool',\n",
    "    'acido_malico',\n",
    "    'cinzas',\n",
    "    'alcalinidade_de_cinzas',\n",
    "    'magnesio',\n",
    "    'fenois_totais',\n",
    "    'flavanoides',\n",
    "    'fenois_nao_flavanoides',\n",
    "    'proantocianinas',\n",
    "    'intensidade_de_cor',\n",
    "    'matiz',\n",
    "    'od280_od315_de_vinhos_diluidos',\n",
    "    'prolina'\n",
    "]\n",
    "\n",
    "# Ler o arquivo CSV com as colunas especificadas, definindo a coluna 'classe' como object\n",
    "vinhos = pd.read_csv(url, names=column_names_pt_br, dtype={'classe': object})"
   ]
  },
  {
   "cell_type": "markdown",
   "id": "6ed69db1-d659-4690-adea-5cc9dd736b40",
   "metadata": {
    "jp-MarkdownHeadingCollapsed": true
   },
   "source": [
    "# Função de avaliação de random state e valor knn com Cross-Validation"
   ]
  },
  {
   "cell_type": "code",
   "execution_count": 56,
   "id": "2fe71c05-d730-48c7-ad2e-2eb35c87ed49",
   "metadata": {},
   "outputs": [],
   "source": [
    "def cross_validate_knn(random_state, vinhos):\n",
    "    print(f\"\\nCross-validation com random_state={random_state}\")\n",
    "    \n",
    "    # Separação dos dados\n",
    "    X = vinhos.drop('classe', axis=1)\n",
    "    y = vinhos['classe']\n",
    "    \n",
    "    # Configuração do KFold\n",
    "    kf = KFold(n_splits=10, shuffle=True, random_state=random_state)\n",
    "    \n",
    "    accuracies_k3 = []\n",
    "    accuracies_k5 = []\n",
    "    \n",
    "    # K-Fold Cross Validation\n",
    "    for train_index, test_index in kf.split(X):\n",
    "        X_train, X_test = X.iloc[train_index], X.iloc[test_index]\n",
    "        y_train, y_test = y.iloc[train_index], y.iloc[test_index]\n",
    "        \n",
    "        # KNN com k=3\n",
    "        knn_3 = KNeighborsClassifier(n_neighbors=3)\n",
    "        knn_3.fit(X_train, y_train)\n",
    "        y_pred_3 = knn_3.predict(X_test)\n",
    "        accuracies_k3.append(accuracy_score(y_test, y_pred_3))\n",
    "        \n",
    "        # KNN com k=5\n",
    "        knn_5 = KNeighborsClassifier(n_neighbors=5)\n",
    "        knn_5.fit(X_train, y_train)\n",
    "        y_pred_5 = knn_5.predict(X_test)\n",
    "        accuracies_k5.append(accuracy_score(y_test, y_pred_5))\n",
    "    \n",
    "    # Calculando média e desvio padrão\n",
    "    mean_k3 = np.mean(accuracies_k3)\n",
    "    std_k3 = np.std(accuracies_k3)\n",
    "    mean_k5 = np.mean(accuracies_k5)\n",
    "    std_k5 = np.std(accuracies_k5)\n",
    "    \n",
    "    print(f\"Média de acurácia (k=3): {mean_k3:.4f} ± {std_k3:.4f}\")\n",
    "    print(f\"Média de acurácia (k=5): {mean_k5:.4f} ± {std_k5:.4f}\")\n",
    "    \n",
    "    # Determinando o melhor valor de k\n",
    "    if mean_k3 > mean_k5:\n",
    "        best_k = 3\n",
    "    elif mean_k5 > mean_k3:\n",
    "        best_k = 5\n",
    "    else:\n",
    "        best_k = \"Empate\"\n",
    "    \n",
    "    print(f\"Melhor valor de k: {best_k}\")\n",
    "    \n",
    "    # Retornando os resultados\n",
    "    return {\n",
    "        \"random_state\": random_state,\n",
    "        \"mean_accuracy_k3\": mean_k3,\n",
    "        \"std_accuracy_k3\": std_k3,\n",
    "        \"mean_accuracy_k5\": mean_k5,\n",
    "        \"std_accuracy_k5\": std_k5,\n",
    "        \"best_k\": best_k\n",
    "    }"
   ]
  },
  {
   "cell_type": "markdown",
   "id": "1251f562-42f7-4d94-a241-c9ae46aa165b",
   "metadata": {
    "jp-MarkdownHeadingCollapsed": true
   },
   "source": [
    "# Comparando resultados"
   ]
  },
  {
   "cell_type": "code",
   "execution_count": 59,
   "id": "255f1ac6-2479-454b-bdc7-98798c554477",
   "metadata": {},
   "outputs": [
    {
     "name": "stdout",
     "output_type": "stream",
     "text": [
      "\n",
      "Cross-validation com random_state=42\n",
      "Média de acurácia (k=3): 0.7036 ± 0.1392\n",
      "Média de acurácia (k=5): 0.6641 ± 0.1001\n",
      "Melhor valor de k: 3\n",
      "\n",
      "Cross-validation com random_state=17\n",
      "Média de acurácia (k=3): 0.6987 ± 0.1040\n",
      "Média de acurácia (k=5): 0.6876 ± 0.1121\n",
      "Melhor valor de k: 3\n",
      "\n",
      "Cross-validation com random_state=24\n",
      "Média de acurácia (k=3): 0.7127 ± 0.0968\n",
      "Média de acurácia (k=5): 0.7127 ± 0.0940\n",
      "Melhor valor de k: Empate\n"
     ]
    }
   ],
   "source": [
    "# Executando os experimentos para os random_states especificados\n",
    "random_states = [42, 17, 24]\n",
    "results = []\n",
    "for rs in random_states:\n",
    "    result = cross_validate_knn(random_state=rs, vinhos=vinhos)\n",
    "    results.append(result)"
   ]
  },
  {
   "cell_type": "code",
   "execution_count": 61,
   "id": "584bb9ca-66cc-472e-9359-5e9a41967d6c",
   "metadata": {},
   "outputs": [
    {
     "name": "stdout",
     "output_type": "stream",
     "text": [
      "\n",
      "Resultados finais:\n",
      "{'random_state': 42, 'mean_accuracy_k3': 0.70359477124183, 'std_accuracy_k3': 0.13918691592617136, 'mean_accuracy_k5': 0.6640522875816993, 'std_accuracy_k5': 0.10007472964927165, 'best_k': 3}\n",
      "{'random_state': 17, 'mean_accuracy_k3': 0.6986928104575163, 'std_accuracy_k3': 0.10403044405660643, 'mean_accuracy_k5': 0.6875816993464052, 'std_accuracy_k5': 0.11211770116307625, 'best_k': 3}\n",
      "{'random_state': 24, 'mean_accuracy_k3': 0.7127450980392157, 'std_accuracy_k3': 0.09681644876344142, 'mean_accuracy_k5': 0.7127450980392157, 'std_accuracy_k5': 0.09397285976504524, 'best_k': 'Empate'}\n"
     ]
    }
   ],
   "source": [
    "# Analisando os resultados\n",
    "print(\"\\nResultados finais:\")\n",
    "for res in results:\n",
    "    print(res)"
   ]
  },
  {
   "cell_type": "code",
   "execution_count": null,
   "id": "1abf349d-1472-4153-862b-77899d5bac26",
   "metadata": {},
   "outputs": [],
   "source": []
  }
 ],
 "metadata": {
  "kernelspec": {
   "display_name": "Python 3 (ipykernel)",
   "language": "python",
   "name": "python3"
  },
  "language_info": {
   "codemirror_mode": {
    "name": "ipython",
    "version": 3
   },
   "file_extension": ".py",
   "mimetype": "text/x-python",
   "name": "python",
   "nbconvert_exporter": "python",
   "pygments_lexer": "ipython3",
   "version": "3.12.4"
  }
 },
 "nbformat": 4,
 "nbformat_minor": 5
}
