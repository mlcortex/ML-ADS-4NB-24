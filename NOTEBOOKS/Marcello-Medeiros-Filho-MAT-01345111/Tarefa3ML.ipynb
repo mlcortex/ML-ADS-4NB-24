{
  "nbformat": 4,
  "nbformat_minor": 0,
  "metadata": {
    "colab": {
      "provenance": []
    },
    "kernelspec": {
      "name": "python3",
      "display_name": "Python 3"
    },
    "language_info": {
      "name": "python"
    }
  },
  "cells": [
    {
      "cell_type": "markdown",
      "source": [
        "# **Tarefa 3 Machine learning**\n",
        "\n",
        "## Aluno: Marcello José Menezes de Medeiros Filho -01345111 - ADS - 4NB"
      ],
      "metadata": {
        "id": "FMkiJgxiBHAu"
      }
    },
    {
      "cell_type": "markdown",
      "source": [
        "### **1. Carregamento dos dados**"
      ],
      "metadata": {
        "id": "7uOZvltihRPg"
      }
    },
    {
      "cell_type": "code",
      "execution_count": null,
      "metadata": {
        "id": "7kwikSq0dFX8"
      },
      "outputs": [],
      "source": [
        "import pandas as pd\n",
        "\n",
        "# URL do dataset Wine\n",
        "url = 'https://archive.ics.uci.edu/ml/machine-learning-databases/wine/wine.data'\n",
        "\n",
        "# Nome das colunas em português BR\n",
        "column_names_pt_br = [\n",
        "    'classe',\n",
        "    'alcool',\n",
        "    'acido_malico',\n",
        "    'cinzas',\n",
        "    'alcalinidade_de_cinzas',\n",
        "    'magnesio',\n",
        "    'fenois_totais',\n",
        "    'flavanoides',\n",
        "    'fenois_nao_flavanoides',\n",
        "    'proantocianinas',\n",
        "    'intensidade_de_cor',\n",
        "    'matiz',\n",
        "    'od280_od315_de_vinhos_diluidos',\n",
        "    'prolina'\n",
        "]\n",
        "\n",
        "# Ler o arquivo CSV com as colunas especificadas, definindo a coluna 'classe' como object\n",
        "vinhos = pd.read_csv(url, names=column_names_pt_br, dtype={'classe': object})"
      ]
    },
    {
      "cell_type": "markdown",
      "source": [
        "### **2. Separação dos dados em treino e teste**"
      ],
      "metadata": {
        "id": "fO1WP8IihqyX"
      }
    },
    {
      "cell_type": "markdown",
      "source": [
        "**Identificando as colunas presentes na base de dados**"
      ],
      "metadata": {
        "id": "QCFQneB8jzk7"
      }
    },
    {
      "cell_type": "code",
      "source": [
        "vinhos.columns"
      ],
      "metadata": {
        "colab": {
          "base_uri": "https://localhost:8080/"
        },
        "id": "gkyCDjATjhhL",
        "outputId": "2b94e66f-ed01-474d-a7f5-53bd7a07000c"
      },
      "execution_count": null,
      "outputs": [
        {
          "output_type": "execute_result",
          "data": {
            "text/plain": [
              "Index(['classe', 'alcool', 'acido_malico', 'cinzas', 'alcalinidade_de_cinzas',\n",
              "       'magnesio', 'fenois_totais', 'flavanoides', 'fenois_nao_flavanoides',\n",
              "       'proantocianinas', 'intensidade_de_cor', 'matiz',\n",
              "       'od280_od315_de_vinhos_diluidos', 'prolina'],\n",
              "      dtype='object')"
            ]
          },
          "metadata": {},
          "execution_count": 3
        }
      ]
    },
    {
      "cell_type": "markdown",
      "source": [
        " *   Divida o conjunto de dados em treino e teste, utilizando uma proporção de 70% para treino e 30% para teste.\n",
        " *  Defina random_state=42 para garantir a replicabilidade dos resultados."
      ],
      "metadata": {
        "id": "toAcHknl99ql"
      }
    },
    {
      "cell_type": "code",
      "source": [
        "from sklearn.model_selection import train_test_split\n",
        "\n",
        "# Separando as features (X) e o target (y)\n",
        "\n",
        "# OPÇÃO 1\n",
        "\n",
        "# X = vinhos[[\n",
        "#     'alcool',\n",
        "#     'acido_malico',\n",
        "#     'cinzas',\n",
        "#     'alcalinidade_de_cinzas',\n",
        "#     'magnesio',\n",
        "#     'fenois_totais',\n",
        "#     'flavanoides',\n",
        "#     'fenois_nao_flavanoides',\n",
        "#     'proantocianinas',\n",
        "#     'intensidade_de_cor',\n",
        "#     'matiz',\n",
        "#     'od280_od315_de_vinhos_diluidos',\n",
        "#     'prolina'\n",
        "# ]]\n",
        "\n",
        "# OPÇÃO 2\n",
        "\n",
        "X = vinhos.drop('classe', axis=1)\n",
        "y = vinhos['classe']\n",
        "\n",
        "# Dividindo os dados em treino e teste (70% treino, 30% teste)\n",
        "X_train, X_test, y_train, y_test = train_test_split(X, y, test_size=0.3, random_state=42)"
      ],
      "metadata": {
        "id": "zN0P_YXunLXn"
      },
      "execution_count": null,
      "outputs": []
    },
    {
      "cell_type": "markdown",
      "source": [
        "### **3. Treinamento e Avaliação do Classificador KNN**"
      ],
      "metadata": {
        "id": "Wu8u_NIPukp4"
      }
    },
    {
      "cell_type": "markdown",
      "source": [
        " *   Treine um classificador KNN com ( k = 3 ) e avalie sua acurácia no conjunto de teste.\n",
        " *   Em seguida, treine um segundo classificador KNN com ( k = 5 ) e avalie sua acurácia no conjunto de teste.\n",
        " *   Apresente (print) o valor de accuracy_score para cada experimento e para cada modelo com ( k = 3 ) e ( k = 5 )."
      ],
      "metadata": {
        "id": "XrXxCuJT-Tw9"
      }
    },
    {
      "cell_type": "code",
      "source": [
        "from sklearn.neighbors import KNeighborsClassifier\n",
        "from sklearn.metrics import accuracy_score\n",
        "\n",
        "# Treinamento e avaliação com k=3\n",
        "knn_3 = KNeighborsClassifier(n_neighbors=3)\n",
        "knn_3.fit(X_train, y_train)\n",
        "y_pred_3 = knn_3.predict(X_test)\n",
        "accuracy_3 = accuracy_score(y_test, y_pred_3)\n",
        "print(f\"Acurácia para k=3: {accuracy_3}\")\n",
        "\n",
        "# Treinamento e avaliação com k=5\n",
        "knn_5 = KNeighborsClassifier(n_neighbors=5)\n",
        "knn_5.fit(X_train, y_train)\n",
        "y_pred_5 = knn_5.predict(X_test)\n",
        "accuracy_5 = accuracy_score(y_test, y_pred_5)\n",
        "print(f\"Acurácia para k=5: {accuracy_5}\")\n",
        "\n",
        "# Comparação dos resultados\n",
        "if accuracy_3 > accuracy_5:\n",
        "    print(f\"O modelo com k=3 apresentou melhor desempenho.\")\n",
        "elif accuracy_5 > accuracy_3:\n",
        "    print(f\"O modelo com k=5 apresentou melhor desempenho.\")\n",
        "else:\n",
        "    print(f\"Ambos os modelos apresentaram desempenho igual.\")"
      ],
      "metadata": {
        "colab": {
          "base_uri": "https://localhost:8080/"
        },
        "id": "obvhkuHu1zCV",
        "outputId": "b730c942-d8ca-4995-8acd-1940c5e83aff"
      },
      "execution_count": null,
      "outputs": [
        {
          "output_type": "stream",
          "name": "stdout",
          "text": [
            "Acurácia para k=3: 0.7407407407407407\n",
            "Acurácia para k=5: 0.6666666666666666\n",
            "O modelo com k=3 apresentou melhor desempenho.\n"
          ]
        }
      ]
    },
    {
      "cell_type": "markdown",
      "source": [
        "### **4. Análise com Diferentes Valores de random_state**"
      ],
      "metadata": {
        "id": "yEyySmZ93zKj"
      }
    },
    {
      "cell_type": "markdown",
      "source": [
        " *   Repita o procedimento acima (divisão dos dados, treinamento e avaliação dos modelos com ( k = 3 ) e ( k = 5 )) para os seguintes valores de random_state: 17 e 24.\n",
        " *   Para cada random_state, registre e apresente (print) a acurácia obtida com ( k = 3 ) e ( k = 5 ) e compare os resultados.\n"
      ],
      "metadata": {
        "id": "PK0nSOSN-m5f"
      }
    },
    {
      "cell_type": "code",
      "source": [
        "random_states = [17, 24]\n",
        "\n",
        "for random_state in random_states:\n",
        "    print(f\"\\nAnalisando com random_state = {random_state}\")\n",
        "    X_train, X_test, y_train, y_test = train_test_split(X, y, test_size=0.3, random_state=random_state)\n",
        "\n",
        "    # Treinamento e avaliação com k=3\n",
        "    knn_3 = KNeighborsClassifier(n_neighbors=3)\n",
        "    knn_3.fit(X_train, y_train)\n",
        "    y_pred_3 = knn_3.predict(X_test)\n",
        "    accuracy_3 = accuracy_score(y_test, y_pred_3)\n",
        "    print(f\"Acurácia para k=3: {accuracy_3}\")\n",
        "\n",
        "    # Treinamento e avaliação com k=5\n",
        "    knn_5 = KNeighborsClassifier(n_neighbors=5)\n",
        "    knn_5.fit(X_train, y_train)\n",
        "    y_pred_5 = knn_5.predict(X_test)\n",
        "    accuracy_5 = accuracy_score(y_test, y_pred_5)\n",
        "    print(f\"Acurácia para k=5: {accuracy_5}\")\n",
        "\n",
        "    # Comparação dos resultados para o random_state atual\n",
        "    if accuracy_3 > accuracy_5:\n",
        "        print(f\"O modelo com k=3 apresentou melhor desempenho para random_state = {random_state}.\")\n",
        "    elif accuracy_5 > accuracy_3:\n",
        "        print(f\"O modelo com k=5 apresentou melhor desempenho para random_state = {random_state}.\")\n",
        "    else:\n",
        "        print(f\"Ambos os modelos apresentaram desempenho igual para random_state = {random_state}.\")"
      ],
      "metadata": {
        "colab": {
          "base_uri": "https://localhost:8080/"
        },
        "id": "DYAAixD1260m",
        "outputId": "ca37907f-9de2-4ec4-ff39-6d4e5e0b65c3"
      },
      "execution_count": null,
      "outputs": [
        {
          "output_type": "stream",
          "name": "stdout",
          "text": [
            "\n",
            "Analisando com random_state = 17\n",
            "Acurácia para k=3: 0.6481481481481481\n",
            "Acurácia para k=5: 0.6666666666666666\n",
            "O modelo com k=5 apresentou melhor desempenho para random_state = 17.\n",
            "\n",
            "Analisando com random_state = 24\n",
            "Acurácia para k=3: 0.7407407407407407\n",
            "Acurácia para k=5: 0.6666666666666666\n",
            "O modelo com k=3 apresentou melhor desempenho para random_state = 24.\n"
          ]
        }
      ]
    },
    {
      "cell_type": "markdown",
      "source": [
        "### **5. Comparação Final**\n",
        "\n"
      ],
      "metadata": {
        "id": "6WDyAOxS6peU"
      }
    },
    {
      "cell_type": "markdown",
      "source": [
        " *   Ao final, faça uma análise comparativa dos três experimentos, considerando os diferentes valores de random_state e de ( k ).\n",
        " *   Indique qual configuração de random_state e ( k ) obteve o melhor desempenho geral."
      ],
      "metadata": {
        "id": "UfRcO63S9uVb"
      }
    },
    {
      "cell_type": "code",
      "source": [
        "# Inicializando um dicionário vazio para armazenar os resultados\n",
        "resultados = {\n",
        "    'random_state': [],  # Lista para armazenar os valores de random_state utilizados\n",
        "    'k': [],             # Lista para armazenar os valores de k (número de vizinhos) utilizados\n",
        "    'acuracia': []       # Lista para armazenar as acurácias calculadas para cada combinação\n",
        "}\n",
        "\n",
        "# Listas de valores que serão testados para random_state e k\n",
        "random_states = [42, 17, 24]  # Diferentes valores de random_state para controlar a aleatoriedade\n",
        "k_valores = [3, 5]            # Diferentes valores de k (quantidade de vizinhos no KNN)\n",
        "\n",
        "# Iteração dupla para testar todas as combinações de random_state e k\n",
        "for random_state in random_states:  # Itera sobre cada valor de random_state\n",
        "    for k in k_valores:            # Itera sobre cada valor de k\n",
        "\n",
        "        # Dividindo o conjunto de dados em treino e teste com o random_state atual\n",
        "        X_train, X_test, y_train, y_test = train_test_split(X, y, test_size=0.3, random_state=random_state)\n",
        "\n",
        "        # Criando e treinando o classificador KNN com o valor atual de k\n",
        "        knn = KNeighborsClassifier(n_neighbors=k)\n",
        "        knn.fit(X_train, y_train)\n",
        "\n",
        "        # Fazendo previsões no conjunto de teste\n",
        "        y_pred = knn.predict(X_test)\n",
        "\n",
        "        # Calculando a acurácia do modelo para a combinação atual de random_state e k\n",
        "        accuracy = accuracy_score(y_test, y_pred)\n",
        "\n",
        "        # Armazenando os resultados no dicionário\n",
        "        resultados['random_state'].append(random_state)  # Adiciona o random_state atual\n",
        "        resultados['k'].append(k)                        # Adiciona o valor de k atual\n",
        "        resultados['acuracia'].append(accuracy)          # Adiciona a acurácia calculada\n",
        "\n",
        "# Criando um DataFrame com os resultados para facilitar a visualização\n",
        "df_resultados = pd.DataFrame(resultados)\n",
        "\n",
        "# Identificando a linha do DataFrame com a maior acurácia\n",
        "melhor_resultado = df_resultados.loc[df_resultados['acuracia'].idxmax()]\n",
        "\n",
        "# Exibindo todos os resultados para comparação\n",
        "print(\"\\nComparação dos Resultados:\")\n",
        "print(df_resultados)\n",
        "\n",
        "# Exibindo o melhor desempenho com detalhes\n",
        "print(\"\\nMelhor Desempenho:\")\n",
        "print(f\"  Estado Aleatório (random_state): {melhor_resultado['random_state']}\")\n",
        "print(f\"  Valor de k: {melhor_resultado['k']}\")\n",
        "print(f\"  Acurácia: {melhor_resultado['acuracia']}\")\n"
      ],
      "metadata": {
        "colab": {
          "base_uri": "https://localhost:8080/"
        },
        "id": "twOFbgyc8mdc",
        "outputId": "49da0c9c-51c1-4bd3-9b58-3e3d5561e60b"
      },
      "execution_count": null,
      "outputs": [
        {
          "output_type": "stream",
          "name": "stdout",
          "text": [
            "\n",
            "Comparação dos Resultados:\n",
            "   random_state  k  acuracia\n",
            "0            42  3  0.740741\n",
            "1            42  5  0.740741\n",
            "2            17  3  0.648148\n",
            "3            17  5  0.666667\n",
            "4            24  3  0.740741\n",
            "5            24  5  0.666667\n",
            "\n",
            "Melhor Desempenho:\n",
            "  Estado Aleatório (random_state): 42.0\n",
            "  Valor de k: 3.0\n",
            "  Acurácia: 0.7407407407407407\n"
          ]
        }
      ]
    }
  ]
}