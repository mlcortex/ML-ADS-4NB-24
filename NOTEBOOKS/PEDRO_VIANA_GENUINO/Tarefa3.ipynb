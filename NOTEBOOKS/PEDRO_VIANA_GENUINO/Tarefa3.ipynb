{
  "nbformat": 4,
  "nbformat_minor": 0,
  "metadata": {
    "colab": {
      "provenance": []
    },
    "kernelspec": {
      "name": "python3",
      "display_name": "Python 3"
    },
    "language_info": {
      "name": "python"
    }
  },
  "cells": [
    {
      "cell_type": "code",
      "execution_count": 2,
      "metadata": {
        "id": "cVinkxvjtfYR"
      },
      "outputs": [],
      "source": [
        "import pandas as pd\n",
        "\n",
        "# URL do dataset Wine\n",
        "url = 'https://archive.ics.uci.edu/ml/machine-learning-databases/wine/wine.data'\n",
        "\n",
        "# Nome das colunas em português BR\n",
        "column_names_pt_br = [\n",
        "    'classe',\n",
        "    'alcool',\n",
        "    'acido_malico',\n",
        "    'cinzas',\n",
        "    'alcalinidade_de_cinzas',\n",
        "    'magnesio',\n",
        "    'fenois_totais',\n",
        "    'flavanoides',\n",
        "    'fenois_nao_flavanoides',\n",
        "    'proantocianinas',\n",
        "    'intensidade_de_cor',\n",
        "    'matiz',\n",
        "    'od280_od315_de_vinhos_diluidos',\n",
        "    'prolina'\n",
        "]\n",
        "\n",
        "# Ler o arquivo CSV com as colunas especificadas, definindo a coluna 'classe' como object\n",
        "vinhos = pd.read_csv(url, names=column_names_pt_br, dtype={'classe': object})"
      ]
    },
    {
      "cell_type": "markdown",
      "source": [
        "# 1. Separação dos Dados em Treino e Teste"
      ],
      "metadata": {
        "id": "B6OmqhVgFUiZ"
      }
    },
    {
      "cell_type": "code",
      "source": [
        "from sklearn.model_selection import train_test_split\n",
        "\n",
        "# Separação dos dados em features (X) e target (y)\n",
        "X = vinhos.drop('classe', axis=1)  # Features\n",
        "y = vinhos['classe']  # Target\n",
        "\n",
        "# Divisão dos dados em treino e teste\n",
        "X_treino, X_teste, y_treino, y_teste = train_test_split(X, y, test_size=0.3, random_state=42)"
      ],
      "metadata": {
        "id": "JAP5Bq6DuiXS"
      },
      "execution_count": 5,
      "outputs": []
    },
    {
      "cell_type": "code",
      "source": [
        "# Resultados\n",
        "print(\"Tamanho do conjunto de treino:\", X_treino.shape)\n",
        "print(\"Tamanho do conjunto de teste:\", X_teste.shape)"
      ],
      "metadata": {
        "colab": {
          "base_uri": "https://localhost:8080/"
        },
        "id": "MZdm2YuyFp1G",
        "outputId": "da076865-6b31-440e-ad8e-fe2e8c9a4075"
      },
      "execution_count": 6,
      "outputs": [
        {
          "output_type": "stream",
          "name": "stdout",
          "text": [
            "Tamanho do conjunto de treino: (124, 13)\n",
            "Tamanho do conjunto de teste: (54, 13)\n"
          ]
        }
      ]
    },
    {
      "cell_type": "markdown",
      "source": [
        "#2. Treinamento e Avaliação do Classificador KNN"
      ],
      "metadata": {
        "id": "yq0B3yVQGPMF"
      }
    },
    {
      "cell_type": "code",
      "source": [
        "from sklearn.neighbors import KNeighborsClassifier\n",
        "from sklearn.metrics import accuracy_score\n",
        "\n",
        "# Modelo com k=3\n",
        "knn_k3 = KNeighborsClassifier(n_neighbors=3)\n",
        "knn_k3.fit(X_treino, y_treino)  # Treinamento\n",
        "y_pred_k3 = knn_k3.predict(X_teste)  # Previsões no conjunto de teste\n",
        "accuracy_k3 = accuracy_score(y_teste, y_pred_k3)  # Avaliação\n",
        "\n",
        "# Modelo com k=5\n",
        "knn_k5 = KNeighborsClassifier(n_neighbors=5)\n",
        "knn_k5.fit(X_treino, y_treino)  # Treinamento\n",
        "y_pred_k5 = knn_k5.predict(X_teste)  # Previsões no conjunto de teste\n",
        "accuracy_k5 = accuracy_score(y_teste, y_pred_k5)  # Avaliação"
      ],
      "metadata": {
        "id": "J8SNGNHcFw9i"
      },
      "execution_count": 7,
      "outputs": []
    },
    {
      "cell_type": "code",
      "source": [
        "# Exibindo os resultados\n",
        "print(f\"Acurácia do modelo com k=3: {accuracy_k3:.4f}\")\n",
        "print(f\"Acurácia do modelo com k=5: {accuracy_k5:.4f}\")\n",
        "\n",
        "# Comparação\n",
        "if accuracy_k3 > accuracy_k5:\n",
        "    print(\"O modelo com k=3 apresentou melhor desempenho.\")\n",
        "elif accuracy_k3 < accuracy_k5:\n",
        "    print(\"O modelo com k=5 apresentou melhor desempenho.\")\n",
        "else:\n",
        "    print(\"Ambos os modelos apresentaram o mesmo desempenho.\")"
      ],
      "metadata": {
        "colab": {
          "base_uri": "https://localhost:8080/"
        },
        "id": "2DplG8EvGbJU",
        "outputId": "0e264224-a02b-4db1-8715-517366ebb988"
      },
      "execution_count": 8,
      "outputs": [
        {
          "output_type": "stream",
          "name": "stdout",
          "text": [
            "Acurácia do modelo com k=3: 0.7407\n",
            "Acurácia do modelo com k=5: 0.7407\n",
            "Ambos os modelos apresentaram o mesmo desempenho.\n"
          ]
        }
      ]
    },
    {
      "cell_type": "markdown",
      "source": [
        "##3. Análise com Diferentes Valores de random_state"
      ],
      "metadata": {
        "id": "bJD7dtATMiEp"
      }
    },
    {
      "cell_type": "code",
      "source": [
        "# Divisão dos dados em treino e teste\n",
        "X_treino, X_teste, y_treino, y_teste = train_test_split(X, y, test_size=0.3, random_state=17)\n",
        "\n",
        "print(\"Modelo com random_state = 17\")\n",
        "\n",
        "# Resultados\n",
        "print(\"Tamanho do conjunto de treino:\", X_treino.shape)\n",
        "print(\"Tamanho do conjunto de teste:\", X_teste.shape)\n",
        "\n",
        "# Modelo com k=3\n",
        "knn_k3 = KNeighborsClassifier(n_neighbors=3)\n",
        "knn_k3.fit(X_treino, y_treino)  # Treinamento\n",
        "y_pred_k3 = knn_k3.predict(X_teste)  # Previsões no conjunto de teste\n",
        "accuracy_k3 = accuracy_score(y_teste, y_pred_k3)  # Avaliação\n",
        "\n",
        "# Modelo com k=5\n",
        "knn_k5 = KNeighborsClassifier(n_neighbors=5)\n",
        "knn_k5.fit(X_treino, y_treino)  # Treinamento\n",
        "y_pred_k5 = knn_k5.predict(X_teste)  # Previsões no conjunto de teste\n",
        "accuracy_k5 = accuracy_score(y_teste, y_pred_k5)  # Avaliação\n",
        "\n",
        "# Exibindo os resultados\n",
        "print(f\"Acurácia do modelo com k=3: {accuracy_k3:.4f}\")\n",
        "print(f\"Acurácia do modelo com k=5: {accuracy_k5:.4f}\")\n",
        "\n",
        "# Comparação\n",
        "if accuracy_k3 > accuracy_k5:\n",
        "    print(\"O modelo com k=3 apresentou melhor desempenho.\")\n",
        "elif accuracy_k3 < accuracy_k5:\n",
        "    print(\"O modelo com k=5 apresentou melhor desempenho.\")\n",
        "else:\n",
        "    print(\"Ambos os modelos apresentaram o mesmo desempenho.\")\n"
      ],
      "metadata": {
        "colab": {
          "base_uri": "https://localhost:8080/"
        },
        "id": "NOXOSH2DGfGh",
        "outputId": "6e97640d-959d-44a3-dfe2-98fea343b02d"
      },
      "execution_count": 18,
      "outputs": [
        {
          "output_type": "stream",
          "name": "stdout",
          "text": [
            "Modelo com random_state = 17\n",
            "Tamanho do conjunto de treino: (124, 13)\n",
            "Tamanho do conjunto de teste: (54, 13)\n",
            "Acurácia do modelo com k=3: 0.6481\n",
            "Acurácia do modelo com k=5: 0.6667\n",
            "O modelo com k=5 apresentou melhor desempenho.\n"
          ]
        }
      ]
    },
    {
      "cell_type": "code",
      "source": [
        "# Divisão dos dados em treino e teste\n",
        "X_treino, X_teste, y_treino, y_teste = train_test_split(X, y, test_size=0.3, random_state=24)\n",
        "\n",
        "print(\"Modelo com random_state = 24\")\n",
        "\n",
        "# Resultados\n",
        "print(\"Tamanho do conjunto de treino:\", X_treino.shape)\n",
        "print(\"Tamanho do conjunto de teste:\", X_teste.shape)\n",
        "\n",
        "# Modelo com k=3\n",
        "knn_k3 = KNeighborsClassifier(n_neighbors=3)\n",
        "knn_k3.fit(X_treino, y_treino)  # Treinamento\n",
        "y_pred_k3 = knn_k3.predict(X_teste)  # Previsões no conjunto de teste\n",
        "accuracy_k3 = accuracy_score(y_teste, y_pred_k3)  # Avaliação\n",
        "\n",
        "# Modelo com k=5\n",
        "knn_k5 = KNeighborsClassifier(n_neighbors=5)\n",
        "knn_k5.fit(X_treino, y_treino)  # Treinamento\n",
        "y_pred_k5 = knn_k5.predict(X_teste)  # Previsões no conjunto de teste\n",
        "accuracy_k5 = accuracy_score(y_teste, y_pred_k5)  # Avaliação\n",
        "\n",
        "# Exibindo os resultados\n",
        "print(f\"Acurácia do modelo com k=3: {accuracy_k3:.4f}\")\n",
        "print(f\"Acurácia do modelo com k=5: {accuracy_k5:.4f}\")\n",
        "\n",
        "# Comparação\n",
        "if accuracy_k3 > accuracy_k5:\n",
        "    print(\"O modelo com k=3 apresentou melhor desempenho.\")\n",
        "elif accuracy_k3 < accuracy_k5:\n",
        "    print(\"O modelo com k=5 apresentou melhor desempenho.\")\n",
        "else:\n",
        "    print(\"Ambos os modelos apresentaram o mesmo desempenho.\")"
      ],
      "metadata": {
        "colab": {
          "base_uri": "https://localhost:8080/"
        },
        "id": "neOVvOtVHxQZ",
        "outputId": "53bd06ec-55bd-4b79-b462-10c97f38a106"
      },
      "execution_count": 17,
      "outputs": [
        {
          "output_type": "stream",
          "name": "stdout",
          "text": [
            "Modelo com random_state = 24\n",
            "Tamanho do conjunto de treino: (124, 13)\n",
            "Tamanho do conjunto de teste: (54, 13)\n",
            "Acurácia do modelo com k=3: 0.7407\n",
            "Acurácia do modelo com k=5: 0.6667\n",
            "O modelo com k=3 apresentou melhor desempenho.\n"
          ]
        }
      ]
    },
    {
      "cell_type": "markdown",
      "source": [
        "### Análise Comparativa Final\n",
        "\n",
        "Com base nos experimentos realizados, os desempenhos foram:\n",
        "\n",
        "1. **Random State = 42**:\n",
        "   - Acurácia com \\( k = 3 \\): 0.7407\n",
        "   - Acurácia com \\( k = 5 \\): 0.7407\n",
        "   - **Desempenho:** Ambos os modelos apresentaram o mesmo desempenho.\n",
        "\n",
        "2. **Random State = 17**:\n",
        "   - Acurácia com \\( k = 3 \\): 0.6481\n",
        "   - Acurácia com \\( k = 5 \\): 0.6667\n",
        "   - **Desempenho:** O modelo com \\( k = 5 \\) foi superior.\n",
        "\n",
        "3. **Random State = 24**:\n",
        "   - Acurácia com \\( k = 3 \\): 0.7407\n",
        "   - Acurácia com \\( k = 5 \\): 0.6667\n",
        "   - **Desempenho:** O modelo com \\( k = 3 \\) foi superior.\n",
        "\n",
        "### Configuração de Melhor Desempenho Geral\n",
        "A melhor configuração geral é escolhida com base na acurácia mais alta entre todos os experimentos:\n",
        "- A acurácia mais alta foi **0.7407**, obtida por:\n",
        "  - Ambos os valores de \\( k = 3 \\) e \\( k = 5 \\) com **random_state = 42**.\n",
        "  - \\( k = 3 \\) com **random_state = 24**.\n",
        "\n",
        "Portanto:\n",
        "- **Melhor Random State: 42, pois teve a maior acurácia com os dois \"k\"**\n",
        "- **Melhor  k :** \\( k = 3 \\), pois apresentou alta acurácia tanto para `random_state = 42` quanto `random_state = 24`.\n",
        "\n",
        "### Conclusão\n",
        "O modelo KNN com k = 3 e `random_state = 42` ou `random_state = 24` é a configuração mais consistente, atingindo a acurácia máxima de **0.7407**. Por outro lado, k = 5 teve um desempenho levemente inferior e mais variável dependendo do `random_state`."
      ],
      "metadata": {
        "id": "bo13CwJhLOEz"
      }
    },
    {
      "cell_type": "code",
      "source": [],
      "metadata": {
        "id": "GW_ZMU7TIwjF"
      },
      "execution_count": null,
      "outputs": []
    }
  ]
}