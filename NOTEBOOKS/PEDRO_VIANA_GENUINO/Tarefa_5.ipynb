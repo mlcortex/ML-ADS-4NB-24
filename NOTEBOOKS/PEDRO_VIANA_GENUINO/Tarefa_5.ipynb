{
  "nbformat": 4,
  "nbformat_minor": 0,
  "metadata": {
    "colab": {
      "provenance": []
    },
    "kernelspec": {
      "name": "python3",
      "display_name": "Python 3"
    },
    "language_info": {
      "name": "python"
    }
  },
  "cells": [
    {
      "cell_type": "code",
      "source": [
        "import pandas as pd\n",
        "from sklearn.preprocessing import MinMaxScaler\n",
        "\n",
        "# URL do dataset Wine\n",
        "url = 'https://archive.ics.uci.edu/ml/machine-learning-databases/wine/wine.data'\n",
        "\n",
        "# Nome das colunas em português BR\n",
        "column_names_pt_br = [\n",
        "    'classe',\n",
        "    'alcool',\n",
        "    'acido_malico',\n",
        "    'cinzas',\n",
        "    'alcalinidade_de_cinzas',\n",
        "    'magnesio',\n",
        "    'fenois_totais',\n",
        "    'flavanoides',\n",
        "    'fenois_nao_flavanoides',\n",
        "    'proantocianinas',\n",
        "    'intensidade_de_cor',\n",
        "    'matiz',\n",
        "    'od280_od315_de_vinhos_diluidos',\n",
        "    'prolina'\n",
        "]\n",
        "\n",
        "# Ler o arquivo CSV com as colunas especificadas, definindo a coluna 'classe' como object\n",
        "vinhos = pd.read_csv(url, names=column_names_pt_br, dtype={'classe': object})"
      ],
      "metadata": {
        "id": "W8J7PdWf54L_"
      },
      "execution_count": 1,
      "outputs": []
    },
    {
      "cell_type": "code",
      "source": [
        "# Dropar a coluna 'classe'\n",
        "X = vinhos.drop('classe', axis=1)\n",
        "\n",
        "# Reescala linear dos dados\n",
        "scaler = MinMaxScaler()\n",
        "X_scaled = scaler.fit_transform(X)"
      ],
      "metadata": {
        "id": "xiFsKyZE5_Gs"
      },
      "execution_count": 2,
      "outputs": []
    },
    {
      "cell_type": "code",
      "source": [
        "from sklearn.cluster import KMeans\n",
        "\n",
        "# Aplicar K-Means com 4 clusters\n",
        "kmeans = KMeans(n_clusters=4, random_state=42)\n",
        "vinhos['cluster'] = kmeans.fit_predict(X_scaled)\n",
        "\n",
        "# Apresentar o valor da inércia\n",
        "print(f'Inércia do modelo K-Means: {kmeans.inertia_}')\n"
      ],
      "metadata": {
        "colab": {
          "base_uri": "https://localhost:8080/"
        },
        "id": "TC2AKHw26Cb1",
        "outputId": "52df9740-1d9d-40fd-95a3-12675a4bd226"
      },
      "execution_count": 3,
      "outputs": [
        {
          "output_type": "stream",
          "name": "stdout",
          "text": [
            "Inércia do modelo K-Means: 44.887604580852816\n"
          ]
        }
      ]
    },
    {
      "cell_type": "code",
      "source": [
        "# Apresentar a contagem dos clusters\n",
        "print(\"Distribuição dos clusters:\")\n",
        "print(vinhos['cluster'].value_counts())\n"
      ],
      "metadata": {
        "colab": {
          "base_uri": "https://localhost:8080/"
        },
        "id": "IFu-dhNv6HxE",
        "outputId": "f0f8aa36-2988-4c8f-843a-4b30af90f112"
      },
      "execution_count": 4,
      "outputs": [
        {
          "output_type": "stream",
          "name": "stdout",
          "text": [
            "Distribuição dos clusters:\n",
            "cluster\n",
            "2    59\n",
            "1    50\n",
            "0    36\n",
            "3    33\n",
            "Name: count, dtype: int64\n"
          ]
        }
      ]
    },
    {
      "cell_type": "code",
      "source": [
        "# Comparar clusters com as classes originais\n",
        "comparacao_groupby = vinhos.groupby('cluster')['classe'].value_counts()\n",
        "print(\"Comparação usando groupby:\")\n",
        "print(comparacao_groupby)\n"
      ],
      "metadata": {
        "colab": {
          "base_uri": "https://localhost:8080/"
        },
        "id": "6_8xfjaC6UsM",
        "outputId": "976a6284-594c-49b1-dd17-df1e9bc9bd33"
      },
      "execution_count": 5,
      "outputs": [
        {
          "output_type": "stream",
          "name": "stdout",
          "text": [
            "Comparação usando groupby:\n",
            "cluster  classe\n",
            "0        2         34\n",
            "         1          2\n",
            "1        3         48\n",
            "         2          2\n",
            "2        1         57\n",
            "         2          2\n",
            "3        2         33\n",
            "Name: count, dtype: int64\n"
          ]
        }
      ]
    },
    {
      "cell_type": "code",
      "source": [
        "# Alternativa com pd.crosstab\n",
        "comparacao_crosstab = pd.crosstab(vinhos['classe'], vinhos['cluster'])\n",
        "print(\"Comparação usando pd.crosstab:\")\n",
        "print(comparacao_crosstab)\n"
      ],
      "metadata": {
        "colab": {
          "base_uri": "https://localhost:8080/"
        },
        "id": "y269xTMW6cyt",
        "outputId": "89e43180-d908-44cc-c4c7-3dfbde9462e6"
      },
      "execution_count": 6,
      "outputs": [
        {
          "output_type": "stream",
          "name": "stdout",
          "text": [
            "Comparação usando pd.crosstab:\n",
            "cluster   0   1   2   3\n",
            "classe                 \n",
            "1         2   0  57   0\n",
            "2        34   2   2  33\n",
            "3         0  48   0   0\n"
          ]
        }
      ]
    },
    {
      "cell_type": "markdown",
      "source": [
        "Resultado Esperado:\n",
        "Normalização: A matriz X_scaled contém os dados escalados entre 0 e 1.\n",
        "\n",
        "K-Means: Uma nova coluna cluster será adicionada ao DataFrame, indicando o cluster ao qual cada amostra foi atribuída.\n",
        "\n",
        "Distribuição dos Clusters: A contagem dos clusters mostrará o número de amostras atribuídas a cada cluster.\n",
        "\n",
        "Comparação com Classes Originais: A saída do groupby ou pd.crosstab mostrará como os clusters correspondem às classes originais.\n"
      ],
      "metadata": {
        "id": "oVaRsllw6oMj"
      }
    }
  ]
}