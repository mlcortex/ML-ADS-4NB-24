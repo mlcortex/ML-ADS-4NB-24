{
  "nbformat": 4,
  "nbformat_minor": 0,
  "metadata": {
    "colab": {
      "provenance": []
    },
    "kernelspec": {
      "name": "python3",
      "display_name": "Python 3"
    },
    "language_info": {
      "name": "python"
    }
  },
  "cells": [
    {
      "cell_type": "markdown",
      "source": [
        "# Classificação de Vinhos - KNN com Variação de Parâmetros"
      ],
      "metadata": {
        "id": "lUo_OPRu1VbS"
      }
    },
    {
      "cell_type": "code",
      "execution_count": 11,
      "metadata": {
        "id": "do87givhxCSv"
      },
      "outputs": [],
      "source": [
        "import pandas as pd\n",
        "from sklearn.model_selection import train_test_split\n",
        "\n",
        "# URL do dataset Wine\n",
        "url = 'https://archive.ics.uci.edu/ml/machine-learning-databases/wine/wine.data'\n",
        "\n",
        "# Nome das colunas em português BR\n",
        "column_names_pt_br = [\n",
        "    'classe',\n",
        "    'alcool',\n",
        "    'acido_malico',\n",
        "    'cinzas',\n",
        "    'alcalinidade_de_cinzas',\n",
        "    'magnesio',\n",
        "    'fenois_totais',\n",
        "    'flavanoides',\n",
        "    'fenois_nao_flavanoides',\n",
        "    'proantocianinas',\n",
        "    'intensidade_de_cor',\n",
        "    'matiz',\n",
        "    'od280_od315_de_vinhos_diluidos',\n",
        "    'prolina'\n",
        "]\n",
        "\n",
        "# Ler o arquivo CSV com as colunas especificadas, definindo a coluna 'classe' como object\n",
        "vinhos = pd.read_csv(url, names=column_names_pt_br, dtype={'classe': object})"
      ]
    },
    {
      "cell_type": "markdown",
      "source": [
        "## 1. Separação dos Dados em Treino e Teste"
      ],
      "metadata": {
        "id": "j4rihXqJ1Pnw"
      }
    },
    {
      "cell_type": "markdown",
      "source": [
        "### Carregando o BD e dividindo em Teste e treino"
      ],
      "metadata": {
        "id": "0IYRa1SHzO8K"
      }
    },
    {
      "cell_type": "code",
      "source": [
        "vinhos = pd.read_csv(url, names=column_names_pt_br, dtype={'classe': object})"
      ],
      "metadata": {
        "id": "VfR7rfswxtZz"
      },
      "execution_count": 12,
      "outputs": []
    },
    {
      "cell_type": "code",
      "source": [
        "X = vinhos.iloc[:, 1:]\n",
        "y = vinhos['classe']"
      ],
      "metadata": {
        "id": "vnTHhRSjyN5e"
      },
      "execution_count": 13,
      "outputs": []
    },
    {
      "cell_type": "code",
      "source": [
        "X_train, X_test, y_train, y_test = train_test_split(X, y, test_size=0.3, random_state=42)"
      ],
      "metadata": {
        "id": "-QgxznwSyX-2"
      },
      "execution_count": 14,
      "outputs": []
    },
    {
      "cell_type": "markdown",
      "source": [
        "### Testando se realmente dividiu os grupos"
      ],
      "metadata": {
        "id": "lGCUtunrzDjh"
      }
    },
    {
      "cell_type": "code",
      "source": [
        "print(f\"Tamanho do conjunto de treino: {X_train.shape[0]} amostras\")\n",
        "print(f\"Tamanho do conjunto de teste: {X_test.shape[0]} amostras\")"
      ],
      "metadata": {
        "colab": {
          "base_uri": "https://localhost:8080/"
        },
        "id": "VXLipEcmy9WF",
        "outputId": "a6843ff4-3592-404a-b853-140bf5a39ba0"
      },
      "execution_count": 15,
      "outputs": [
        {
          "output_type": "stream",
          "name": "stdout",
          "text": [
            "Tamanho do conjunto de treino: 124 amostras\n",
            "Tamanho do conjunto de teste: 54 amostras\n"
          ]
        }
      ]
    },
    {
      "cell_type": "markdown",
      "source": [
        "## 2. Treinamento e Avaliação do Classificador KNN"
      ],
      "metadata": {
        "id": "B4LnH1pw1IxY"
      }
    },
    {
      "cell_type": "markdown",
      "source": [
        "### Treinamento"
      ],
      "metadata": {
        "id": "PVLcpS2E2VzG"
      }
    },
    {
      "cell_type": "code",
      "source": [
        "from sklearn.neighbors import KNeighborsClassifier\n",
        "from sklearn.metrics import accuracy_score\n",
        "\n",
        "def train_and_evaluate_knn(X_train, X_test, y_train, y_test, k_values):\n",
        "    results = {}\n",
        "\n",
        "    for k in k_values:\n",
        "        knn = KNeighborsClassifier(n_neighbors=k)\n",
        "\n",
        "        knn.fit(X_train, y_train)\n",
        "\n",
        "        y_pred = knn.predict(X_test)\n",
        "\n",
        "        accuracy = accuracy_score(y_test, y_pred)\n",
        "\n",
        "        results[k] = accuracy\n",
        "        print(f\"Acurácia com k={k}: {accuracy:.9f}\")\n",
        "\n",
        "    return results\n",
        "\n",
        "k_values = [3, 5]\n",
        "\n",
        "results = train_and_evaluate_knn(X_train, X_test, y_train, y_test, k_values)\n"
      ],
      "metadata": {
        "colab": {
          "base_uri": "https://localhost:8080/"
        },
        "id": "49b0ZldCzCA5",
        "outputId": "5f6d6abf-856f-4e49-fbf1-4b07703062b7"
      },
      "execution_count": 25,
      "outputs": [
        {
          "output_type": "stream",
          "name": "stdout",
          "text": [
            "Acurácia com k=3: 0.740740741\n",
            "Acurácia com k=5: 0.740740741\n"
          ]
        }
      ]
    },
    {
      "cell_type": "markdown",
      "source": [
        "Deixei com 9 casas decimais ára ver se eles diferenciam, mas a diferença, se é que existe, deve ser muito pequena."
      ],
      "metadata": {
        "id": "z2lDLWAU43Xb"
      }
    },
    {
      "cell_type": "markdown",
      "source": [
        "### Teste de melhor desempenho"
      ],
      "metadata": {
        "id": "KgQLE0Gk2PyI"
      }
    },
    {
      "cell_type": "code",
      "source": [
        "best_k = max(results, key=results.get)\n",
        "print(f\"\\nMelhor desempenho foi obtido com k={best_k} (Acurácia: {results[best_k]:.9f})\")"
      ],
      "metadata": {
        "colab": {
          "base_uri": "https://localhost:8080/"
        },
        "id": "FWmD7ZGj2M5T",
        "outputId": "e4856f8e-be66-4fcd-aa18-bf62d31ab2e4"
      },
      "execution_count": 26,
      "outputs": [
        {
          "output_type": "stream",
          "name": "stdout",
          "text": [
            "\n",
            "Melhor desempenho foi obtido com k=3 (Acurácia: 0.740740741)\n"
          ]
        }
      ]
    },
    {
      "cell_type": "markdown",
      "source": [
        "## 3. Análise com Diferentes Valores de random_state"
      ],
      "metadata": {
        "id": "x4GD4sch1iAT"
      }
    },
    {
      "cell_type": "markdown",
      "source": [
        "### Treinamento com Random_States = 17"
      ],
      "metadata": {
        "id": "4Svy2XSz4MOY"
      }
    },
    {
      "cell_type": "code",
      "source": [
        "from sklearn.neighbors import KNeighborsClassifier\n",
        "from sklearn.metrics import accuracy_score\n",
        "\n",
        "X_train, X_test, y_train, y_test = train_test_split(X, y, test_size=0.3, random_state=17)\n",
        "\n",
        "print(\"Para o random state = 17: \\n\")\n",
        "\n",
        "def train_and_evaluate_knn(X_train, X_test, y_train, y_test, k_values):\n",
        "    results = {}\n",
        "\n",
        "    for k in k_values:\n",
        "        knn = KNeighborsClassifier(n_neighbors=k)\n",
        "\n",
        "        knn.fit(X_train, y_train)\n",
        "\n",
        "        y_pred = knn.predict(X_test)\n",
        "\n",
        "        accuracy = accuracy_score(y_test, y_pred)\n",
        "\n",
        "        results[k] = accuracy\n",
        "        print(f\"Acurácia com k={k}: {accuracy:.9f}\")\n",
        "\n",
        "    return results\n",
        "\n",
        "k_values = [3, 5]\n",
        "\n",
        "results = train_and_evaluate_knn(X_train, X_test, y_train, y_test, k_values)\n",
        "\n",
        "best_k = max(results, key=results.get)\n",
        "print(f\"\\nMelhor desempenho foi obtido com k={best_k} (Acurácia: {results[best_k]:.9f})\")"
      ],
      "metadata": {
        "colab": {
          "base_uri": "https://localhost:8080/"
        },
        "id": "SMfUwMOF3vk4",
        "outputId": "7b956770-2811-4b63-9ee6-fd70250cd655"
      },
      "execution_count": 33,
      "outputs": [
        {
          "output_type": "stream",
          "name": "stdout",
          "text": [
            "Para o random state = 17: \n",
            "\n",
            "Acurácia com k=3: 0.648148148\n",
            "Acurácia com k=5: 0.666666667\n",
            "\n",
            "Melhor desempenho foi obtido com k=5 (Acurácia: 0.666666667)\n"
          ]
        }
      ]
    },
    {
      "cell_type": "markdown",
      "source": [
        "### Treinamento com Random_States = 24"
      ],
      "metadata": {
        "id": "Graja3yp4bOR"
      }
    },
    {
      "cell_type": "code",
      "source": [
        "from sklearn.neighbors import KNeighborsClassifier\n",
        "from sklearn.metrics import accuracy_score\n",
        "\n",
        "X_train, X_test, y_train, y_test = train_test_split(X, y, test_size=0.3, random_state=24)\n",
        "\n",
        "print(\"Para o random state = 24: \\n\")\n",
        "\n",
        "def train_and_evaluate_knn(X_train, X_test, y_train, y_test, k_values):\n",
        "    results = {}\n",
        "\n",
        "    for k in k_values:\n",
        "        knn = KNeighborsClassifier(n_neighbors=k)\n",
        "\n",
        "        knn.fit(X_train, y_train)\n",
        "\n",
        "        y_pred = knn.predict(X_test)\n",
        "\n",
        "        accuracy = accuracy_score(y_test, y_pred)\n",
        "\n",
        "        results[k] = accuracy\n",
        "        print(f\"Acurácia com k={k}: {accuracy:.9f}\")\n",
        "\n",
        "    return results\n",
        "\n",
        "k_values = [3, 5]\n",
        "\n",
        "results = train_and_evaluate_knn(X_train, X_test, y_train, y_test, k_values)\n",
        "\n",
        "best_k = max(results, key=results.get)\n",
        "print(f\"\\nMelhor desempenho foi obtido com k={best_k} (Acurácia: {results[best_k]:.9f})\")"
      ],
      "metadata": {
        "colab": {
          "base_uri": "https://localhost:8080/"
        },
        "id": "MKv6J9vK4teO",
        "outputId": "34782067-3f3e-48d1-8f91-929fd7ed9244"
      },
      "execution_count": 36,
      "outputs": [
        {
          "output_type": "stream",
          "name": "stdout",
          "text": [
            "Para o random state = 24: \n",
            "\n",
            "Acurácia com k=3: 0.740740741\n",
            "Acurácia com k=5: 0.666666667\n",
            "\n",
            "Melhor desempenho foi obtido com k=3 (Acurácia: 0.740740741)\n"
          ]
        }
      ]
    },
    {
      "cell_type": "markdown",
      "source": [
        "## 4. Comparação Final"
      ],
      "metadata": {
        "id": "ijn2p9Zd5EfO"
      }
    },
    {
      "cell_type": "markdown",
      "source": [
        "**Análise Final**\n",
        "\n",
        "O random_state 24 e 42 com k=3 e o random_state 42 com k=5\n",
        "\n",
        "obtiveram os melhores desempenhos, com uma acurácia de 74,07%."
      ],
      "metadata": {
        "id": "r83pzFBh5whb"
      }
    }
  ]
}