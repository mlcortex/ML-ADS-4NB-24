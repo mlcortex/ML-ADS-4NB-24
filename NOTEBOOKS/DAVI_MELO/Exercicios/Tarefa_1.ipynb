{
 "cells": [
  {
   "cell_type": "markdown",
   "id": "fa197ace-11c2-4daa-af5c-de5f7ee38a88",
   "metadata": {},
   "source": [
    "## Para a seguinte lista de números:\r\n"
   ]
  },
  {
   "cell_type": "code",
   "execution_count": 2,
   "id": "b7717e75-67e3-4cd9-8b24-e51a1708dcfd",
   "metadata": {},
   "outputs": [],
   "source": [
    "valores = [4, 6, 3, 4, 5, 8, 4, 2]"
   ]
  },
  {
   "cell_type": "markdown",
   "id": "862fe689-a996-424b-a9ea-e6e741e4bdcb",
   "metadata": {},
   "source": [
    "### Crie um notebook que apresente as seguintes informações sobre a lista:"
   ]
  },
  {
   "cell_type": "markdown",
   "id": "6168d282-fe68-44c3-8394-1232eaa98914",
   "metadata": {},
   "source": [
    "1 - Valor máximo:\r\n"
   ]
  },
  {
   "cell_type": "code",
   "execution_count": 6,
   "id": "29cee414-8f30-41c8-b482-9602fda84106",
   "metadata": {},
   "outputs": [
    {
     "data": {
      "text/plain": [
       "8"
      ]
     },
     "execution_count": 6,
     "metadata": {},
     "output_type": "execute_result"
    }
   ],
   "source": [
    "valores.sort() # Ordenei os valores e trouxe o último valor [-1]\n",
    "valores[-1]"
   ]
  },
  {
   "cell_type": "markdown",
   "id": "4f9ca8e2-02fe-4a03-8ed8-a563909a8f39",
   "metadata": {},
   "source": [
    "2 - Valor mínimo:"
   ]
  },
  {
   "cell_type": "code",
   "execution_count": 9,
   "id": "e3bdff73-3bcd-4c40-9787-5a855ed582a9",
   "metadata": {},
   "outputs": [
    {
     "data": {
      "text/plain": [
       "2"
      ]
     },
     "execution_count": 9,
     "metadata": {},
     "output_type": "execute_result"
    }
   ],
   "source": [
    "valores[0] # Trouxe o primeiro número na ordenação, logo o menor [0]"
   ]
  },
  {
   "cell_type": "markdown",
   "id": "c9830f3e-57d4-4e90-8520-92ad9e53280e",
   "metadata": {},
   "source": [
    "3 - Média aritmética dos valores:\n"
   ]
  },
  {
   "cell_type": "code",
   "execution_count": 12,
   "id": "9eb234e4-d32d-4f4a-9f52-0aa480379e39",
   "metadata": {},
   "outputs": [
    {
     "name": "stdout",
     "output_type": "stream",
     "text": [
      "4.5\n"
     ]
    },
    {
     "data": {
      "text/plain": [
       "'\\nForma mais simples de se fazer:\\nmedia = sum(valores)/len(valores)\\n\\nprint(media)\\n'"
      ]
     },
     "execution_count": 12,
     "metadata": {},
     "output_type": "execute_result"
    }
   ],
   "source": [
    "soma_valores = 0\n",
    "contagem_valores = len(valores) # atribui o len a uma váriavel só pq queria escrever mais\n",
    "\n",
    "for i in valores: # Utilizei o for envés de um sum() apenas para praticar\n",
    "    soma_valores += i\n",
    "\n",
    "media = soma_valores / contagem_valores\n",
    "\n",
    "print(media)\n",
    "\n",
    "\n",
    "'''\n",
    "Forma mais simples de se fazer:\n",
    "media = sum(valores)/len(valores)\n",
    "\n",
    "print(media)\n",
    "'''\n"
   ]
  },
  {
   "cell_type": "markdown",
   "id": "4fa97a0e-41d5-4ce9-889c-5e3658650602",
   "metadata": {},
   "source": [
    "4 - Mediana dos valores:\r\n"
   ]
  },
  {
   "cell_type": "code",
   "execution_count": 15,
   "id": "accdb3a9-03e9-470d-89fc-968af624cc6f",
   "metadata": {},
   "outputs": [
    {
     "name": "stdout",
     "output_type": "stream",
     "text": [
      "4.0\n"
     ]
    }
   ],
   "source": [
    "# A lista da issue possui um número par de items, mas quis acrescentar o outro cenário\n",
    "if contagem_valores % 2 == 1:\n",
    "    mediana = valores[contagem_valores // 2]\n",
    "else:\n",
    "    mediana = (valores[contagem_valores//2 - 1] + valores[contagem_valores//2]) / 2\n",
    "\n",
    "print(mediana)"
   ]
  },
  {
   "cell_type": "markdown",
   "id": "a9448479-7f1d-40b6-bf44-86c6c8cd65c3",
   "metadata": {},
   "source": [
    "5 - Desvio padrão dos valores:\n"
   ]
  },
  {
   "cell_type": "code",
   "execution_count": 18,
   "id": "990bf9da-0293-4383-96c9-5a0c7a4f1631",
   "metadata": {},
   "outputs": [
    {
     "name": "stdout",
     "output_type": "stream",
     "text": [
      "1.8516401995451028\n"
     ]
    }
   ],
   "source": [
    "# Nunca calculei um desvio padrão, vou ter que pesquisar\n",
    "'''\n",
    "Se você quiser calcular o desvio padrão manualmente, aqui estão os passos:\n",
    "\n",
    "Calcule a média dos valores.\n",
    "Subtraia a média de cada valor da lista e eleve o resultado ao quadrado.\n",
    "Calcule a média desses quadrados.\n",
    "Tire a raiz quadrada do valor obtido.\n",
    "'''\n",
    "import math\n",
    "\n",
    "# Utilizado uma list comprehension, somando todos os resultados e atribuindo a uma variável \n",
    "variancia = sum((i - media) ** 2 for i in valores) / (contagem_valores - 1)\n",
    "\n",
    "# raiz quadrada\n",
    "desvio_padrao = math.sqrt(variancia) \n",
    "\n",
    "print(desvio_padrao)"
   ]
  }
 ],
 "metadata": {
  "kernelspec": {
   "display_name": "Python 3 (ipykernel)",
   "language": "python",
   "name": "python3"
  },
  "language_info": {
   "codemirror_mode": {
    "name": "ipython",
    "version": 3
   },
   "file_extension": ".py",
   "mimetype": "text/x-python",
   "name": "python",
   "nbconvert_exporter": "python",
   "pygments_lexer": "ipython3",
   "version": "3.12.4"
  }
 },
 "nbformat": 4,
 "nbformat_minor": 5
}
