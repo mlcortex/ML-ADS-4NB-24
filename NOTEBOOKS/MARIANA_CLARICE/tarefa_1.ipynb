## Aqui estão as informações sobre a lista valores = [4, 6, 3, 4, 5, 8, 4, 2]:

Valor máximo: 8
Valor mínimo: 2
Média aritmética: 4.5
Mediana: 4.0
Desvio padrão: 1.73 ​
