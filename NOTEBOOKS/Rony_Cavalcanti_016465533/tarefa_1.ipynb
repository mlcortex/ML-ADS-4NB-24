{
  "nbformat": 4,
  "nbformat_minor": 0,
  "metadata": {
    "colab": {
      "provenance": []
    },
    "kernelspec": {
      "name": "python3",
      "display_name": "Python 3"
    },
    "language_info": {
      "name": "python"
    }
  },
  "cells": [
    {
      "cell_type": "code",
      "execution_count": 1,
      "metadata": {
        "colab": {
          "base_uri": "https://localhost:8080/"
        },
        "id": "FVn_GMJCegKx",
        "outputId": "3fcfa647-5e6c-48ff-e7da-57a84b533df8"
      },
      "outputs": [
        {
          "output_type": "stream",
          "name": "stdout",
          "text": [
            "Valor máximo: 8\n",
            "Valor mínimo: 2\n",
            "Média aritmética: 4.5\n",
            "Mediana: 4.0\n",
            "Desvio padrão: 1.7320508075688772\n"
          ]
        }
      ],
      "source": [
        "import numpy as np\n",
        "\n",
        "valores = [4, 6, 3, 4, 5, 8, 4, 2]\n",
        "\n",
        "valor_maximo = max(valores)\n",
        "valor_minimo = min(valores)\n",
        "media = np.mean(valores)\n",
        "mediana = np.median(valores)\n",
        "desvio_padrao = np.std(valores)\n",
        "\n",
        "print(\"Valor máximo:\", valor_maximo)\n",
        "print(\"Valor mínimo:\", valor_minimo)\n",
        "print(\"Média aritmética:\", media)\n",
        "print(\"Mediana:\", mediana)\n",
        "print(\"Desvio padrão:\", desvio_padrao)\n"
      ]
    }
  ]
}