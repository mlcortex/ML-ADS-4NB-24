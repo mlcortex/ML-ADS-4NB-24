{
  "nbformat": 4,
  "nbformat_minor": 0,
  "metadata": {
    "colab": {
      "provenance": [],
      "authorship_tag": "ABX9TyMpaZ1AkpTlg0wo9KVCBiGY",
      "include_colab_link": true
    },
    "kernelspec": {
      "name": "python3",
      "display_name": "Python 3"
    },
    "language_info": {
      "name": "python"
    }
  },
  "cells": [
    {
      "cell_type": "markdown",
      "metadata": {
        "id": "view-in-github",
        "colab_type": "text"
      },
      "source": [
        "<a href=\"https://colab.research.google.com/github/thelucky19/ML-ADS-4NB-24/blob/01668968/tarefa_3.ipynb\" target=\"_parent\"><img src=\"https://colab.research.google.com/assets/colab-badge.svg\" alt=\"Open In Colab\"/></a>"
      ]
    },
    {
      "cell_type": "code",
      "execution_count": 10,
      "metadata": {
        "id": "MiwTANp9uuif"
      },
      "outputs": [],
      "source": [
        "import pandas as pd\n",
        "\n",
        "# URL do dataset Wine\n",
        "url = 'https://archive.ics.uci.edu/ml/machine-learning-databases/wine/wine.data'\n",
        "\n",
        "# Nome das colunas em português BR\n",
        "column_names_pt_br = [\n",
        "    'classe',\n",
        "    'alcool',\n",
        "    'acido_malico',\n",
        "    'cinzas',\n",
        "    'alcalinidade_de_cinzas',\n",
        "    'magnesio',\n",
        "    'fenois_totais',\n",
        "    'flavanoides',\n",
        "    'fenois_nao_flavanoides',\n",
        "    'proantocianinas',\n",
        "    'intensidade_de_cor',\n",
        "    'matiz',\n",
        "    'od280_od315_de_vinhos_diluidos',\n",
        "    'prolina'\n",
        "]\n",
        "\n",
        "# Ler o arquivo CSV com as colunas especificadas, definindo a coluna 'classe' como object\n",
        "vinhos = pd.read_csv(url, names=column_names_pt_br, dtype={'classe': object})"
      ]
    },
    {
      "cell_type": "markdown",
      "source": [
        "1. Separação dos Dados em Treino e Teste\n",
        "\n",
        "Divida o conjunto de dados em treino e teste, utilizando uma proporção de 70% para treino e 30% para teste.\n",
        "Defina random_state=42 para garantir a replicabilidade dos resultados."
      ],
      "metadata": {
        "id": "nl-vGGSuv_41"
      }
    },
    {
      "cell_type": "code",
      "source": [
        "from sklearn.model_selection import train_test_split\n",
        "\n",
        "# features vs target\n",
        "X = vinhos.drop('classe', axis=1)\n",
        "y = vinhos['classe']\n",
        "\n",
        "# Divisão dos dados em treino e teste\n",
        "X_treino, X_teste, y_treino, y_teste = train_test_split(X, y, test_size=0.3, random_state=42)"
      ],
      "metadata": {
        "id": "LDMZBGGgwTL4"
      },
      "execution_count": 11,
      "outputs": []
    },
    {
      "cell_type": "markdown",
      "source": [
        "2. Treinamento e Avaliação do Classificador KNN\n",
        "Treine um classificador KNN com ( k = 3 ) e avalie sua acurácia no conjunto de teste.\n",
        "Em seguida, treine um segundo classificador KNN com ( k = 5 ) e avalie sua acurácia no conjunto de teste.\n",
        "Apresente (print) o valor de accuracy_score para cada experimento e para cada modelo com ( k = 3 ) e ( k = 5 ).\n",
        "Compare os resultados para identificar qual dos modelos (com ( k = 3 ) ou ( k = 5 )) apresenta melhor desempenho."
      ],
      "metadata": {
        "id": "f-u3hVEjFmRT"
      }
    },
    {
      "cell_type": "code",
      "source": [
        "\n",
        "from sklearn.neighbors import KNeighborsClassifier\n",
        "from sklearn.metrics import accuracy_score\n",
        "\n",
        "# dictionary de acuracias\n",
        "dictio = {}\n",
        "\n",
        "# k = 3\n",
        "knn_3 = KNeighborsClassifier(n_neighbors=3)\n",
        "knn_3.fit(X_treino, y_treino)\n",
        "y_pred_3 = knn_3.predict(X_teste)\n",
        "accuracy = accuracy_score(y_teste, y_pred_3)\n",
        "print(f\"Acuracia com k = 3: {accuracy_3}\")\n",
        "\n",
        "# k = 5\n",
        "knn_5 = KNeighborsClassifier(n_neighbors=5)\n",
        "knn_5.fit(X_treino, y_treino)\n",
        "y_pred_5 = knn_5.predict(X_teste)\n",
        "accuracy_5 = accuracy_score(y_teste, y_pred_5)\n",
        "print(f\"Acuracia com k = 5: {accuracy_5}\")\n",
        "dictio[42] = {\n",
        "        3: accuracy_3,\n",
        "        5: accuracy_5\n",
        "    }\n",
        "\n",
        "# Comparação\n",
        "if accuracy_3 > accuracy_5:\n",
        "    print(\"O modelo com k = 3 teve melhor acuracia.\")\n",
        "elif accuracy_5 > accuracy_3:\n",
        "    print(\"O modelo com k = 5 teve melhor acuracia.\")\n",
        "else:\n",
        "    print(\"Ambos os modelos tiveram mesma acuracia.\")"
      ],
      "metadata": {
        "colab": {
          "base_uri": "https://localhost:8080/"
        },
        "id": "kxPbZsIeFrQ8",
        "outputId": "89065a0a-dfac-4afa-d340-21a15261ccc3"
      },
      "execution_count": 12,
      "outputs": [
        {
          "output_type": "stream",
          "name": "stdout",
          "text": [
            "Acuracia com k = 3: 0.7407407407407407\n",
            "Acuracia com k = 5: 0.7407407407407407\n",
            "Ambos os modelos tiveram mesma acuracia.\n"
          ]
        }
      ]
    },
    {
      "cell_type": "markdown",
      "source": [
        "3. Análise com Diferentes Valores de random_state\n",
        "Repita o procedimento acima (divisão dos dados, treinamento e avaliação dos modelos com ( k = 3 ) e ( k = 5 )) para os seguintes valores de random_state: 17 e 24.\n",
        "Para cada random_state, registre e apresente (print) a acurácia obtida com ( k = 3 ) e ( k = 5 ) e compare os resultados."
      ],
      "metadata": {
        "id": "4VTZjarWGjy6"
      }
    },
    {
      "cell_type": "code",
      "source": [
        "# URL do dataset Wine\n",
        "url = 'https://archive.ics.uci.edu/ml/machine-learning-databases/wine/wine.data'\n",
        "\n",
        "# Nome das colunas em português BR\n",
        "column_names_pt_br = [\n",
        "    'classe',\n",
        "    'alcool',\n",
        "    'acido_malico',\n",
        "    'cinzas',\n",
        "    'alcalinidade_de_cinzas',\n",
        "    'magnesio',\n",
        "    'fenois_totais',\n",
        "    'flavanoides',\n",
        "    'fenois_nao_flavanoides',\n",
        "    'proantocianinas',\n",
        "    'intensidade_de_cor',\n",
        "    'matiz',\n",
        "    'od280_od315_de_vinhos_diluidos',\n",
        "    'prolina'\n",
        "]\n",
        "\n",
        "# Ler o arquivo CSV com as colunas especificadas, definindo a coluna 'classe' como object\n",
        "vinhos = pd.read_csv(url, names=column_names_pt_br, dtype={'classe': object})\n",
        "\n",
        "# features vs target\n",
        "X = vinhos.drop('classe', axis=1)\n",
        "y = vinhos['classe']\n",
        "\n",
        "# lista de random states a ser iterada no for\n",
        "random_states = [17, 24]\n",
        "\n",
        "for random_state in random_states:\n",
        "    print(f\"\\nResultados para random_state = {random_state}:\")\n",
        "\n",
        "    # Divisão dos dados em treino e teste\n",
        "    X_treino, X_teste, y_treino, y_teste = train_test_split(X, y, test_size=0.3, random_state=random_state)\n",
        "\n",
        "    # k = 3\n",
        "    knn_3 = KNeighborsClassifier(n_neighbors=3)\n",
        "    knn_3.fit(X_treino, y_treino)\n",
        "    y_pred_3 = knn_3.predict(X_teste)\n",
        "    accuracy_3 = accuracy_score(y_teste, y_pred_3)\n",
        "    print(f\"Acuracia com k = 3: {accuracy_3}\")\n",
        "    # k = 5\n",
        "    knn_5 = KNeighborsClassifier(n_neighbors=5)\n",
        "    knn_5.fit(X_treino, y_treino)\n",
        "    y_pred_5 = knn_5.predict(X_teste)\n",
        "    accuracy_5 = accuracy_score(y_teste, y_pred_5)\n",
        "    print(f\"Acuracia com k = 5: {accuracy_5}\")\n",
        "    dictio[random_state] = {\n",
        "        3: accuracy_3,\n",
        "        5: accuracy_5\n",
        "    }\n",
        "\n",
        "\n",
        "    # Comparação\n",
        "    if accuracy_3 > accuracy_5:\n",
        "      print(\"O modelo com k = 3 teve melhor acuracia.\")\n",
        "    elif accuracy_5 > accuracy_3:\n",
        "      print(\"O modelo com k = 5 teve melhor acuracia.\")\n",
        "    else:\n",
        "      print(\"Ambos os modelos tiveram mesma acuracia.\")"
      ],
      "metadata": {
        "colab": {
          "base_uri": "https://localhost:8080/"
        },
        "id": "GuUZatZZGq5j",
        "outputId": "6f6c5684-10f8-4dab-b584-57edb801ccda"
      },
      "execution_count": 13,
      "outputs": [
        {
          "output_type": "stream",
          "name": "stdout",
          "text": [
            "\n",
            "Resultados para random_state = 17:\n",
            "Acuracia com k = 3: 0.6481481481481481\n",
            "Acuracia com k = 5: 0.6666666666666666\n",
            "{42: {3: 0.7407407407407407, 5: 0.7407407407407407}, 17: {3: 0.6481481481481481, 5: 0.6666666666666666}}\n",
            "O modelo com k = 5 teve melhor acuracia.\n",
            "\n",
            "Resultados para random_state = 24:\n",
            "Acuracia com k = 3: 0.7407407407407407\n",
            "Acuracia com k = 5: 0.6666666666666666\n",
            "{42: {3: 0.7407407407407407, 5: 0.7407407407407407}, 17: {3: 0.6481481481481481, 5: 0.6666666666666666}, 24: {3: 0.7407407407407407, 5: 0.6666666666666666}}\n",
            "O modelo com k = 3 teve melhor acuracia.\n"
          ]
        }
      ]
    },
    {
      "cell_type": "markdown",
      "source": [
        "4. Comparação Final\n",
        "Ao final, faça uma análise comparativa dos três experimentos, considerando os diferentes valores de random_state e de ( k ).\n",
        "Indique qual configuração de random_state e ( k ) obteve o melhor desempenho geral."
      ],
      "metadata": {
        "id": "duHy-agJHtIj"
      }
    },
    {
      "cell_type": "code",
      "source": [
        "print(dictio.items())\n",
        "\n",
        "max_rs = None\n",
        "max_k = None\n",
        "max_ac = 0\n",
        "\n",
        "for rs, acc in dictio.items():\n",
        "    for k, ac in acc.items():\n",
        "        if ac > max_ac:\n",
        "            max_ac = ac\n",
        "            max_rs = rs\n",
        "            max_k = k\n",
        "\n",
        "print(f\"\\nMelhor:\")\n",
        "print(f\"- random_state: {max_rs}\")\n",
        "print(f\"- k: {max_k}\")\n",
        "print(f\"- Acuracia: {max_ac}\")\n",
        "\n"
      ],
      "metadata": {
        "colab": {
          "base_uri": "https://localhost:8080/"
        },
        "id": "gKUZwxDaHw8P",
        "outputId": "58a31a08-9f9b-4917-922f-34ccae404e36"
      },
      "execution_count": 15,
      "outputs": [
        {
          "output_type": "stream",
          "name": "stdout",
          "text": [
            "dict_items([(42, {3: 0.7407407407407407, 5: 0.7407407407407407}), (17, {3: 0.6481481481481481, 5: 0.6666666666666666}), (24, {3: 0.7407407407407407, 5: 0.6666666666666666})])\n",
            "\n",
            "Melhor:\n",
            "- random_state: 42\n",
            "- k: 3\n",
            "- Acuracia: 0.7407407407407407\n"
          ]
        }
      ]
    }
  ]
}