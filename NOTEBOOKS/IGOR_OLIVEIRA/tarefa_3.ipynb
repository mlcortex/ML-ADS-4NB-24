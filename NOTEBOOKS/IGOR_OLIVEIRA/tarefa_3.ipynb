 Classificação de Vinhos - KNN com Variação de Parâmetros

# Importação das bibliotecas
import pandas as pd
from sklearn.model_selection import train_test_split
from sklearn.neighbors import KNeighborsClassifier
from sklearn.metrics import accuracy_score

# 1. Carregamento dos Dados
# URL do dataset Wine
url = 'https://archive.ics.uci.edu/ml/machine-learning-databases/wine/wine.data'

# Nome das colunas em português BR
column_names_pt_br = [
    'classe',
    'alcool',
    'acido_malico',
    'cinzas',
    'alcalinidade_de_cinzas',
    'magnesio',
    'fenois_totais',
    'flavanoides',
    'fenois_nao_flavanoides',
    'proantocianinas',
    'intensidade_de_cor',
    'matiz',
    'od280_od315_de_vinhos_diluidos',
    'prolina'
]

# Ler o arquivo CSV
vinhos = pd.read_csv(url, names=column_names_pt_br, dtype={'classe': object})

# Visualizando os primeiros registros
vinhos.head()
1. Separação dos Dados em Treino e Teste
python
Copiar código
# Separando as features e o alvo
X = vinhos.drop(columns=['classe'])
y = vinhos['classe']

# Dividindo os dados em treino e teste (70% treino, 30% teste) com random_state=42
X_train, X_test, y_train, y_test = train_test_split(X, y, test_size=0.3, random_state=42)
2. Treinamento e Avaliação do Classificador KNN
python
Copiar código
# Treinando o modelo com k=3
knn_k3 = KNeighborsClassifier(n_neighbors=3)
knn_k3.fit(X_train, y_train)
y_pred_k3 = knn_k3.predict(X_test)

# Avaliando o modelo com k=3
accuracy_k3 = accuracy_score(y_test, y_pred_k3)
print(f"Acurácia do modelo KNN com k=3: {accuracy_k3:.2f}")

# Treinando o modelo com k=5
knn_k5 = KNeighborsClassifier(n_neighbors=5)
knn_k5.fit(X_train, y_train)
y_pred_k5 = knn_k5.predict(X_test)

# Avaliando o modelo com k=5
accuracy_k5 = accuracy_score(y_test, y_pred_k5)
print(f"Acurácia do modelo KNN com k=5: {accuracy_k5:.2f}")
3. Análise com Diferentes Valores de random_state
python
Copiar código
# Função para realizar o experimento com diferentes valores de random_state
def avaliar_knn(random_state):
    # Divisão dos dados
    X_train, X_test, y_train, y_test = train_test_split(X, y, test_size=0.3, random_state=random_state)
    
    # Modelo com k=3
    knn_k3 = KNeighborsClassifier(n_neighbors=3)
    knn_k3.fit(X_train, y_train)
    accuracy_k3 = accuracy_score(y_test, knn_k3.predict(X_test))
    
    # Modelo com k=5
    knn_k5 = KNeighborsClassifier(n_neighbors=5)
    knn_k5.fit(X_train, y_train)
    accuracy_k5 = accuracy_score(y_test, knn_k5.predict(X_test))
    
    return accuracy_k3, accuracy_k5

# Executando para random_state=17
accuracy_k3_17, accuracy_k5_17 = avaliar_knn(random_state=17)
print(f"random_state=17 | k=3: {accuracy_k3_17:.2f}, k=5: {accuracy_k5_17:.2f}")

# Executando para random_state=24
accuracy_k3_24, accuracy_k5_24 = avaliar_knn(random_state=24)
print(f"random_state=24 | k=3: {accuracy_k3_24:.2f}, k=5: {accuracy_k5_24:.2f}")
4. Comparação Final
python
Copiar código
# Resumo dos resultados
resultados = pd.DataFrame({
    'random_state': [42, 17, 24],
    'k=3': [accuracy_k3, accuracy_k3_17, accuracy_k3_24],
    'k=5': [accuracy_k5, accuracy_k5_17, accuracy_k5_24]
})

print("Resumo dos Resultados:")
print(resultados)

# Gráfico comparativo
resultados.set_index('random_state').plot(kind='bar', figsize=(10, 6), title='Comparação de Acurácia')
plt.ylabel('Acurácia')
plt.xlabel('Random State')
plt.xticks(rotation=0)
plt.show()
