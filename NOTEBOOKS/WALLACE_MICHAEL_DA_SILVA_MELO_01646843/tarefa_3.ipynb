{
  "nbformat": 4,
  "nbformat_minor": 0,
  "metadata": {
    "colab": {
      "provenance": []
    },
    "kernelspec": {
      "name": "python3",
      "display_name": "Python 3"
    },
    "language_info": {
      "name": "python"
    }
  },
  "cells": [
    {
      "cell_type": "code",
      "execution_count": null,
      "metadata": {
        "id": "cCLlRBxzNE0a"
      },
      "outputs": [],
      "source": [
        "import pandas as pd\n",
        "\n",
        "# URL do dataset Wine\n",
        "url = 'https://archive.ics.uci.edu/ml/machine-learning-databases/wine/wine.data'\n",
        "\n",
        "# Nome das colunas em português BR\n",
        "column_names_pt_br = [\n",
        "    'classe',\n",
        "    'alcool',\n",
        "    'acido_malico',\n",
        "    'cinzas',\n",
        "    'alcalinidade_de_cinzas',\n",
        "    'magnesio',\n",
        "    'fenois_totais',\n",
        "    'flavanoides',\n",
        "    'fenois_nao_flavanoides',\n",
        "    'proantocianinas',\n",
        "    'intensidade_de_cor',\n",
        "    'matiz',\n",
        "    'od280_od315_de_vinhos_diluidos',\n",
        "    'prolina'\n",
        "]\n",
        "\n",
        "# Ler o arquivo CSV com as colunas especificadas, definindo a coluna 'classe' como object\n",
        "vinhos = pd.read_csv(url, names=column_names_pt_br, dtype={'classe': object})"
      ]
    },
    {
      "cell_type": "markdown",
      "source": [
        "# Separação dos Dados em Treino e Teste\n",
        "\n",
        "*   Divida o conjunto de dados em treino e teste, utilizando uma proporção de 70% para treino e 30% para teste.\n",
        "*   Defina random_state=42 para garantir a replicabilidade dos resultados.\n"
      ],
      "metadata": {
        "id": "OnyY3C4mj7UX"
      }
    },
    {
      "cell_type": "code",
      "source": [
        "from sklearn.model_selection import train_test_split\n",
        "\n",
        "# Separando as features (X) e o target (y)\n",
        "X = vinhos.drop('classe', axis=1)\n",
        "y = vinhos['classe']\n",
        "\n",
        "# Dividindo os dados em treino e teste\n",
        "X_treino, X_teste, y_treino, y_teste = train_test_split(X, y, test_size=0.3, random_state=42)"
      ],
      "metadata": {
        "id": "25NlKSVlkvkW"
      },
      "execution_count": null,
      "outputs": []
    },
    {
      "cell_type": "markdown",
      "source": [
        "# Treinamento e Avaliação do Classificador KNN\n",
        "Treine um classificador KNN com ( k = 3 ) e avalie sua acurácia no conjunto de\n",
        "\n",
        "*   Treine um classificador KNN com ( k = 3 ) e avalie sua acurácia no conjunto de teste\n",
        "*   Em seguida, treine um segundo classificador KNN com ( k = 5 ) e avalie sua acurácia no conjunto de teste.\n",
        "*   Apresente (print) o valor de accuracy_score para cada experimento e para cada modelo com ( k = 3 ) e ( k = 5 ).\n",
        "*   Compare os resultados para identificar qual dos modelos (com ( k = 3 ) ou ( k = 5 )) apresenta melhor desempenho.\n",
        "\n",
        "\n",
        "\n",
        "\n",
        "\n",
        "*Dica: Use a biblioteca scikit-learn para implementar e avaliar o modelo, utilizando KNeighborsClassifier para o treinamento e accuracy_score para a avaliação.*"
      ],
      "metadata": {
        "id": "0o_8m-85k3KE"
      }
    },
    {
      "cell_type": "code",
      "source": [
        "from sklearn.neighbors import KNeighborsClassifier\n",
        "from sklearn.metrics import accuracy_score\n",
        "\n",
        "# Treinamento e avaliação do modelo com k = 3\n",
        "knn_3 = KNeighborsClassifier(n_neighbors=3)\n",
        "knn_3.fit(X_treino, y_treino)\n",
        "y_pred_3 = knn_3.predict(X_teste)\n",
        "accuracy_3 = accuracy_score(y_teste, y_pred_3)\n",
        "print(f\"Acurácia do modelo com k = 3: {accuracy_3}\")\n",
        "\n",
        "# Treinamento e avaliação do modelo com k = 5\n",
        "knn_5 = KNeighborsClassifier(n_neighbors=5)\n",
        "knn_5.fit(X_treino, y_treino)\n",
        "y_pred_5 = knn_5.predict(X_teste)\n",
        "accuracy_5 = accuracy_score(y_teste, y_pred_5)\n",
        "print(f\"Acurácia do modelo com k = 5: {accuracy_5}\")\n",
        "\n",
        "# Comparação dos resultados\n",
        "if accuracy_3 > accuracy_5:\n",
        "    print(\"O modelo com k = 3 apresentou melhor desempenho.\")\n",
        "elif accuracy_5 > accuracy_3:\n",
        "    print(\"O modelo com k = 5 apresentou melhor desempenho.\")\n",
        "else:\n",
        "    print(\"Ambos os modelos apresentaram o mesmo desempenho.\")"
      ],
      "metadata": {
        "colab": {
          "base_uri": "https://localhost:8080/"
        },
        "id": "M8VfTsCBlYuF",
        "outputId": "4e98fd29-17bf-4a41-9e72-d86cab2a7e3e"
      },
      "execution_count": null,
      "outputs": [
        {
          "output_type": "stream",
          "name": "stdout",
          "text": [
            "Acurácia do modelo com k = 3: 0.7407407407407407\n",
            "Acurácia do modelo com k = 5: 0.7407407407407407\n",
            "Ambos os modelos apresentaram o mesmo desempenho.\n"
          ]
        }
      ]
    },
    {
      "cell_type": "markdown",
      "source": [
        "# Análise com Diferentes Valores de random_state\n",
        "*   Repita o procedimento acima (divisão dos dados, treinamento e avaliação dos modelos com ( k = 3 ) e ( k = 5 )) para os seguintes valores de random_state: 17 e 24.\n",
        "*   Para cada random_state, registre e apresente (print) a acurácia obtida com ( k = 3 ) e ( k = 5 ) e compare os resultados."
      ],
      "metadata": {
        "id": "rBKnM9hslzLR"
      }
    },
    {
      "cell_type": "code",
      "source": [
        "import pandas as pd\n",
        "from sklearn.model_selection import train_test_split\n",
        "from sklearn.neighbors import KNeighborsClassifier\n",
        "from sklearn.metrics import accuracy_score\n",
        "\n",
        "# URL do dataset Wine\n",
        "url = 'https://archive.ics.uci.edu/ml/machine-learning-databases/wine/wine.data'\n",
        "\n",
        "# Nome das colunas em português BR\n",
        "column_names_pt_br = [\n",
        "    'classe',\n",
        "    'alcool',\n",
        "    'acido_malico',\n",
        "    'cinzas',\n",
        "    'alcalinidade_de_cinzas',\n",
        "    'magnesio',\n",
        "    'fenois_totais',\n",
        "    'flavanoides',\n",
        "    'fenois_nao_flavanoides',\n",
        "    'proantocianinas',\n",
        "    'intensidade_de_cor',\n",
        "    'matiz',\n",
        "    'od280_od315_de_vinhos_diluidos',\n",
        "    'prolina'\n",
        "]\n",
        "\n",
        "# Ler o arquivo CSV com as colunas especificadas, definindo a coluna 'classe' como object\n",
        "vinhos = pd.read_csv(url, names=column_names_pt_br, dtype={'classe': object})\n",
        "\n",
        "# Separando as features (X) e o target (y)\n",
        "X = vinhos.drop('classe', axis=1)\n",
        "y = vinhos['classe']\n",
        "\n",
        "random_states = [17, 24]\n",
        "\n",
        "for random_state in random_states:\n",
        "    print(f\"\\nResultados para random_state = {random_state}:\")\n",
        "    X_treino, X_teste, y_treino, y_teste = train_test_split(X, y, test_size=0.3, random_state=random_state)\n",
        "\n",
        "    # k = 3\n",
        "    knn_3 = KNeighborsClassifier(n_neighbors=3)\n",
        "    knn_3.fit(X_treino, y_treino)\n",
        "    y_pred_3 = knn_3.predict(X_teste)\n",
        "    accuracy_3 = accuracy_score(y_teste, y_pred_3)\n",
        "    print(f\"Acurácia do modelo com k = 3: {accuracy_3}\")\n",
        "\n",
        "    # k = 5\n",
        "    knn_5 = KNeighborsClassifier(n_neighbors=5)\n",
        "    knn_5.fit(X_treino, y_treino)\n",
        "    y_pred_5 = knn_5.predict(X_teste)\n",
        "    accuracy_5 = accuracy_score(y_teste, y_pred_5)\n",
        "    print(f\"Acurácia do modelo com k = 5: {accuracy_5}\")\n",
        "\n",
        "    # Comparação\n",
        "    if accuracy_3 > accuracy_5:\n",
        "        print(\"O modelo com k = 3 apresentou melhor desempenho.\")\n",
        "    elif accuracy_5 > accuracy_3:\n",
        "        print(\"O modelo com k = 5 apresentou melhor desempenho.\")\n",
        "    else:\n",
        "        print(\"Ambos os modelos apresentaram o mesmo desempenho.\")"
      ],
      "metadata": {
        "colab": {
          "base_uri": "https://localhost:8080/"
        },
        "id": "UraY1P8rnNN7",
        "outputId": "6be517b5-5df4-4aad-8005-93100c68ec5e"
      },
      "execution_count": null,
      "outputs": [
        {
          "output_type": "stream",
          "name": "stdout",
          "text": [
            "\n",
            "Resultados para random_state = 17:\n",
            "Acurácia do modelo com k = 3: 0.6481481481481481\n",
            "Acurácia do modelo com k = 5: 0.6666666666666666\n",
            "O modelo com k = 5 apresentou melhor desempenho.\n",
            "\n",
            "Resultados para random_state = 24:\n",
            "Acurácia do modelo com k = 3: 0.7407407407407407\n",
            "Acurácia do modelo com k = 5: 0.6666666666666666\n",
            "O modelo com k = 3 apresentou melhor desempenho.\n"
          ]
        }
      ]
    },
    {
      "cell_type": "markdown",
      "source": [
        "# Comparação Final\n",
        "\n",
        "*   Ao final, faça uma análise comparativa dos três experimentos, considerando os diferentes valores de random_state e de ( k ).\n",
        "*   Indique qual configuração de random_state e ( k ) obteve o melhor desempenho geral.\n"
      ],
      "metadata": {
        "id": "UxEvnLvduB2x"
      }
    },
    {
      "cell_type": "code",
      "source": [
        "results = {\n",
        "    42: {'k=3': accuracy_3, 'k=5': accuracy_5},\n",
        "    17: {'k=3': accuracy_3, 'k=5': accuracy_5},\n",
        "    24: {'k=3': accuracy_3, 'k=5': accuracy_5}\n",
        "}\n",
        "\n",
        "best_random_state = None\n",
        "best_k = None\n",
        "best_accuracy = 0\n",
        "\n",
        "for random_state, accuracies in results.items():\n",
        "    for k, accuracy in accuracies.items():\n",
        "        if accuracy > best_accuracy:\n",
        "            best_accuracy = accuracy\n",
        "            best_random_state = random_state\n",
        "            best_k = k\n",
        "\n",
        "print(f\"\\nMelhor desempenho geral:\")\n",
        "print(f\"- random_state: {best_random_state}\")\n",
        "print(f\"- k: {best_k}\")\n",
        "print(f\"- Acurácia: {best_accuracy}\")"
      ],
      "metadata": {
        "colab": {
          "base_uri": "https://localhost:8080/"
        },
        "id": "1AVdt6-duIlu",
        "outputId": "1d8028ea-49c3-4bc8-d71a-4d0fa34d0780"
      },
      "execution_count": null,
      "outputs": [
        {
          "output_type": "stream",
          "name": "stdout",
          "text": [
            "\n",
            "Melhor desempenho geral:\n",
            "- random_state: 42\n",
            "- k: k=3\n",
            "- Acurácia: 0.7407407407407407\n"
          ]
        }
      ]
    }
  ]
}