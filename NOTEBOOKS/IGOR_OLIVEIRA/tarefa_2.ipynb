# Análise Exploratória de Dados - Vinhos (UCI)

# Importação das bibliotecas necessárias
import pandas as pd
import matplotlib.pyplot as plt
import seaborn as sns

# URL do dataset Wine
url = 'https://archive.ics.uci.edu/ml/machine-learning-databases/wine/wine.data'

# Nome das colunas em português BR
column_names_pt_br = [
    'classe',
    'alcool',
    'acido_malico',
    'cinzas',
    'alcalinidade_de_cinzas',
    'magnesio',
    'fenois_totais',
    'flavanoides',
    'fenois_nao_flavanoides',
    'proantocianinas',
    'intensidade_de_cor',
    'matiz',
    'od280_od315_de_vinhos_diluidos',
    'prolina'
]

# Leitura do dataset
vinhos = pd.read_csv(url, names=column_names_pt_br, dtype={'classe': object})

# Exibir as 5 primeiras linhas do dataset
vinhos.head()
1. Análise Exploratória de Variáveis
python

# Estatísticas descritivas das variáveis selecionadas
vinhos[['classe', 'alcool', 'acido_malico', 'magnesio', 'matiz']].describe()

# Contagem de valores únicos na coluna 'classe'
print("Contagem de classes no dataset:")
print(vinhos['classe'].value_counts())
2. Criação de Boxplots
python

# Boxplots para explorar a dispersão dos dados
fig, axs = plt.subplots(2, 2, figsize=(12, 10))
sns.boxplot(x=vinhos['magnesio'], ax=axs[0, 0]).set_title('Boxplot de Magnésio')
sns.boxplot(x=vinhos['prolina'], ax=axs[0, 1]).set_title('Boxplot de Prolina')
sns.boxplot(x=vinhos['cinzas'], ax=axs[1, 0]).set_title('Boxplot de Cinzas')
sns.boxplot(x=vinhos['alcool'], ax=axs[1, 1]).set_title('Boxplot de Álcool')

for ax in axs.flat:
    ax.set_xlabel("")
plt.tight_layout()
plt.show()
3. Boxplots Segregados por Classe
python

# Boxplots segregados por classe
for col in ['magnesio', 'fenois_totais', 'acido_malico', 'alcool']:
    vinhos.boxplot(column=col, by='classe', figsize=(8, 6))
    plt.title(f'Boxplot de {col.capitalize()} por Classe')
    plt.suptitle("")
    plt.xlabel('Classe')
    plt.ylabel(col.capitalize())
    plt.show()
4. Criação de Histogramas
python

# Histograma para a coluna 'fenois_totais'
plt.figure(figsize=(8, 6))
sns.histplot(vinhos['fenois_totais'], bins=10, kde=True, color='blue')
plt.title('Histograma de Fenóis Totais')
plt.xlabel('Fenóis Totais')
plt.ylabel('Frequência')
plt.show()

# Histograma para a coluna 'fenois_totais' filtrado pela classe 3
plt.figure(figsize=(8, 6))
sns.histplot(vinhos[vinhos['classe'] == '3']['fenois_totais'], bins=10, kde=True, color='green')
plt.title('Histograma de Fenóis Totais - Classe 3')
plt.xlabel('Fenóis Totais (Classe 3)')
plt.ylabel('Frequência')
plt.show()
