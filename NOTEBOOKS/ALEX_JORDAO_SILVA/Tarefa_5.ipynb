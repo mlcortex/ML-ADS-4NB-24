{
 "cells": [
  {
   "cell_type": "code",
   "execution_count": 1,
   "id": "60de57b0-73aa-4bdd-bd7a-ec6754b18c50",
   "metadata": {},
   "outputs": [],
   "source": [
    "import pandas as pd\n",
    "\n",
    "# URL do dataset Wine\n",
    "url = 'https://archive.ics.uci.edu/ml/machine-learning-databases/wine/wine.data'\n",
    "\n",
    "# Nome das colunas em português BR\n",
    "column_names_pt_br = [\n",
    "    'classe',\n",
    "    'alcool',\n",
    "    'acido_malico',\n",
    "    'cinzas',\n",
    "    'alcalinidade_de_cinzas',\n",
    "    'magnesio',\n",
    "    'fenois_totais',\n",
    "    'flavanoides',\n",
    "    'fenois_nao_flavanoides',\n",
    "    'proantocianinas',\n",
    "    'intensidade_de_cor',\n",
    "    'matiz',\n",
    "    'od280_od315_de_vinhos_diluidos',\n",
    "    'prolina'\n",
    "]\n",
    "\n",
    "# Ler o arquivo CSV com as colunas especificadas, definindo a coluna 'classe' como object\n",
    "vinhos = pd.read_csv(url, names=column_names_pt_br, dtype={'classe': object})"
   ]
  },
  {
   "cell_type": "code",
   "execution_count": 6,
   "id": "4187ff38-da40-4336-a5d5-aa51c1e61cd1",
   "metadata": {},
   "outputs": [
    {
     "name": "stdout",
     "output_type": "stream",
     "text": [
      "     alcool  acido_malico    cinzas  alcalinidade_de_cinzas  magnesio  \\\n",
      "0  0.842105      0.191700  0.572193                0.257732  0.619565   \n",
      "1  0.571053      0.205534  0.417112                0.030928  0.326087   \n",
      "2  0.560526      0.320158  0.700535                0.412371  0.336957   \n",
      "3  0.878947      0.239130  0.609626                0.319588  0.467391   \n",
      "4  0.581579      0.365613  0.807487                0.536082  0.521739   \n",
      "\n",
      "   fenois_totais  flavanoides  fenois_nao_flavanoides  proantocianinas  \\\n",
      "0       0.627586     0.573840                0.283019         0.593060   \n",
      "1       0.575862     0.510549                0.245283         0.274448   \n",
      "2       0.627586     0.611814                0.320755         0.757098   \n",
      "3       0.989655     0.664557                0.207547         0.558360   \n",
      "4       0.627586     0.495781                0.490566         0.444795   \n",
      "\n",
      "   intensidade_de_cor     matiz  od280_od315_de_vinhos_diluidos   prolina  \\\n",
      "0            0.372014  0.455285                        0.970696  0.561341   \n",
      "1            0.264505  0.463415                        0.780220  0.550642   \n",
      "2            0.375427  0.447154                        0.695971  0.646933   \n",
      "3            0.556314  0.308943                        0.798535  0.857347   \n",
      "4            0.259386  0.455285                        0.608059  0.325963   \n",
      "\n",
      "    cluster  \n",
      "0  0.666667  \n",
      "1  0.666667  \n",
      "2  0.666667  \n",
      "3  0.666667  \n",
      "4  0.666667  \n"
     ]
    }
   ],
   "source": [
    "import pandas as pd\n",
    "from sklearn.preprocessing import MinMaxScaler\n",
    "\n",
    "# ... (código para carregar os dados do vinho - igual ao anterior) ...\n",
    "\n",
    "# Dropando a coluna 'classe'\n",
    "X = vinhos.drop('classe', axis=1)\n",
    "\n",
    "# Criando o objeto MinMaxScaler\n",
    "scaler = MinMaxScaler()\n",
    "\n",
    "# Normalizando os dados\n",
    "X_normalized = scaler.fit_transform(X)\n",
    "\n",
    "# (Opcional) Convertendo o array NumPy resultante de volta para um DataFrame Pandas\n",
    "X_normalized = pd.DataFrame(X_normalized, columns=X.columns)\n",
    "\n",
    "# (Opcional) Imprimindo as primeiras linhas para verificar\n",
    "print(X_normalized.head())"
   ]
  },
  {
   "cell_type": "code",
   "execution_count": 7,
   "id": "f1687f88-32d5-4d47-ac6b-fbbdb478c7fb",
   "metadata": {},
   "outputs": [
    {
     "name": "stdout",
     "output_type": "stream",
     "text": [
      "Inércia do modelo: 44.88760458085281\n"
     ]
    },
    {
     "name": "stderr",
     "output_type": "stream",
     "text": [
      "C:\\Users\\gmelosil\\anaconda3\\Lib\\site-packages\\sklearn\\cluster\\_kmeans.py:1446: UserWarning: KMeans is known to have a memory leak on Windows with MKL, when there are less chunks than available threads. You can avoid it by setting the environment variable OMP_NUM_THREADS=1.\n",
      "  warnings.warn(\n"
     ]
    }
   ],
   "source": [
    "import pandas as pd\n",
    "from sklearn.preprocessing import MinMaxScaler\n",
    "from sklearn.cluster import KMeans\n",
    "\n",
    "# Criando o objeto KMeans com 4 clusters e random_state=42\n",
    "kmeans = KMeans(n_clusters=4, random_state=42)\n",
    "\n",
    "# Aplicando o KMeans aos dados normalizados\n",
    "kmeans.fit(X_normalized)\n",
    "\n",
    "# Imprimindo a inércia\n",
    "print(f\"Inércia do modelo: {kmeans.inertia_}\")"
   ]
  },
  {
   "cell_type": "code",
   "execution_count": 8,
   "id": "fa2f0789-31c4-4072-91f1-80541950497c",
   "metadata": {},
   "outputs": [
    {
     "name": "stdout",
     "output_type": "stream",
     "text": [
      "cluster\n",
      "2    59\n",
      "1    50\n",
      "0    36\n",
      "3    33\n",
      "Name: count, dtype: int64\n"
     ]
    }
   ],
   "source": [
    "# Adicionando os rótulos dos clusters ao DataFrame original\n",
    "vinhos['cluster'] = kmeans.labels_\n",
    "\n",
    "# Mostrando a distribuição dos clusters\n",
    "print(vinhos['cluster'].value_counts())"
   ]
  },
  {
   "cell_type": "code",
   "execution_count": 9,
   "id": "792bd812-bdb4-4634-9298-4589102b5193",
   "metadata": {},
   "outputs": [
    {
     "name": "stdout",
     "output_type": "stream",
     "text": [
      "classe  cluster\n",
      "1       2          57\n",
      "        0           2\n",
      "2       0          34\n",
      "        3          33\n",
      "        1           2\n",
      "        2           2\n",
      "3       1          48\n",
      "Name: count, dtype: int64\n"
     ]
    }
   ],
   "source": [
    "import pandas as pd\n",
    "from sklearn.preprocessing import MinMaxScaler\n",
    "from sklearn.cluster import KMeans\n",
    "# Comparando a distribuição dos clusters com as classes originais\n",
    "print(vinhos.groupby('classe')['cluster'].value_counts())\n",
    "\n",
    "\n",
    "#Alternativa com crosstab para visualização tabular.\n",
    "#from sklearn.metrics import confusion_matrix\n",
    "#pd.crosstab(vinhos['classe'],kmeans.labels_)"
   ]
  },
  {
   "cell_type": "code",
   "execution_count": null,
   "id": "9d639b25-25f0-4f3c-ae97-524386ce8606",
   "metadata": {},
   "outputs": [],
   "source": []
  }
 ],
 "metadata": {
  "kernelspec": {
   "display_name": "Python 3 (ipykernel)",
   "language": "python",
   "name": "python3"
  },
  "language_info": {
   "codemirror_mode": {
    "name": "ipython",
    "version": 3
   },
   "file_extension": ".py",
   "mimetype": "text/x-python",
   "name": "python",
   "nbconvert_exporter": "python",
   "pygments_lexer": "ipython3",
   "version": "3.12.4"
  }
 },
 "nbformat": 4,
 "nbformat_minor": 5
}
