{
  "nbformat": 4,
  "nbformat_minor": 0,
  "metadata": {
    "colab": {
      "provenance": []
    },
    "kernelspec": {
      "name": "python3",
      "display_name": "Python 3"
    },
    "language_info": {
      "name": "python"
    }
  },
  "cells": [
    {
      "cell_type": "code",
      "source": [
        "# tarefa_2.ipynb\n",
        "\n",
        "import pandas as pd\n",
        "import numpy as np\n",
        "import matplotlib.pyplot as plt\n",
        "import seaborn as sns\n",
        "\n",
        "# URL do dataset Wine\n",
        "url = 'https://archive.ics.uci.edu/ml/machine-learning-databases/wine/wine.data'\n",
        "\n",
        "# Nome das colunas em português BR\n",
        "column_names_pt_br = [\n",
        "    'classe',\n",
        "    'alcool',\n",
        "    'acido_malico',\n",
        "    'cinzas',\n",
        "    'alcalinidade_de_cinzas',\n",
        "    'magnesio',\n",
        "    'fenois_totais',\n",
        "    'flavanoides',\n",
        "    'fenois_nao_flavanoides',\n",
        "    'proantocianinas',\n",
        "    'intensidade_de_cor',\n",
        "    'matiz',\n",
        "    'od280_od315_de_vinhos_diluidos',\n",
        "    'prolina'\n",
        "]\n",
        "\n",
        "# Ler o arquivo CSV\n",
        "vinhos = pd.read_csv(url, names=column_names_pt_br, dtype={'classe': object})\n",
        "\n",
        "# Tarefa 1: Análise Exploratória de Variáveis\n",
        "print(\"Contagem de classes:\")\n",
        "print(vinhos['classe'].value_counts())\n",
        "\n",
        "print(\"\\nEstatísticas descritivas:\")\n",
        "print(vinhos[['alcool', 'acido_malico', 'magnesio', 'matiz']].describe())\n",
        "\n",
        "# Tarefa 2: Criação de Boxplots\n",
        "plt.figure(figsize=(12, 6))\n",
        "sns.boxplot(data=vinhos[['magnesio', 'prolina', 'cinzas', 'alcool']])\n",
        "plt.title(\"Boxplots de Variáveis\")\n",
        "plt.show()\n",
        "\n",
        "# Tarefa 3: Boxplots Segregados por Classe\n",
        "for col in ['magnesio', 'fenois_totais', 'acido_malico', 'alcool']:\n",
        "    plt.figure(figsize=(8, 6))\n",
        "    vinhos.boxplot(column=col, by='classe')\n",
        "    plt.title(f'Boxplot de {col} segregado por Classe')\n",
        "    plt.suptitle('')\n",
        "    plt.show()\n",
        "\n",
        "# Tarefa 4: Criação de Histograma\n",
        "plt.figure(figsize=(8, 6))\n",
        "sns.histplot(vinhos['fenois_totais'], bins=10, kde=True)\n",
        "plt.title(\"Histograma de Fenóis Totais\")\n",
        "plt.xlabel(\"Fenóis Totais\")\n",
        "plt.ylabel(\"Frequência\")\n",
        "plt.show()\n",
        "\n",
        "# Histograma da coluna fenois_totais filtrando a classe 3\n",
        "plt.figure(figsize=(8, 6))\n",
        "sns.histplot(vinhos[vinhos['classe'] == '3']['fenois_totais'], bins=10, kde=True)\n",
        "plt.title(\"Histograma de Fenóis Totais (Classe 3)\")\n",
        "plt.xlabel(\"Fenóis Totais\")\n",
        "plt.ylabel(\"Frequência\")\n",
        "plt.show()\n"
      ],
      "metadata": {
        "id": "SeoBWI_vhhjA"
      },
      "execution_count": null,
      "outputs": []
    }
  ]
}