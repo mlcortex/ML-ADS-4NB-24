{
  "nbformat": 4,
  "nbformat_minor": 0,
  "metadata": {
    "colab": {
      "provenance": []
    },
    "kernelspec": {
      "name": "python3",
      "display_name": "Python 3"
    },
    "language_info": {
      "name": "python"
    }
  },
  "cells": [
    {
      "cell_type": "code",
      "execution_count": 1,
      "metadata": {
        "colab": {
          "base_uri": "https://localhost:8080/"
        },
        "id": "tBjGse6jpKzK",
        "outputId": "8d553f73-3602-4ccf-bc09-2b18a3802c95"
      },
      "outputs": [
        {
          "output_type": "stream",
          "name": "stdout",
          "text": [
            "Valor máximo: 8\n",
            "Valor mínimo: 2\n",
            "Média aritmética: 4.5\n",
            "Mediana: 4.0\n",
            "Desvio padrão: 1.8516401995451028\n"
          ]
        }
      ],
      "source": [
        "valores = [4, 6, 3, 4, 5, 8, 4, 2]\n",
        "\n",
        "valor_maximo = max(valores)\n",
        "print(\"Valor máximo:\", valor_maximo)\n",
        "\n",
        "valor_minimo = min(valores)\n",
        "print(\"Valor mínimo:\", valor_minimo)\n",
        "\n",
        "media = sum(valores) / len(valores)\n",
        "print(\"Média aritmética:\", media)\n",
        "\n",
        "valores_ordenados = sorted(valores)\n",
        "n = len(valores_ordenados)\n",
        "if n % 2 == 0:\n",
        "    mediana = (valores_ordenados[n//2 - 1] + valores_ordenados[n//2]) / 2\n",
        "else:\n",
        "    mediana = valores_ordenados[n//2]\n",
        "print(\"Mediana:\", mediana)\n",
        "\n",
        "import statistics\n",
        "desvio_padrao = statistics.stdev(valores)\n",
        "print(\"Desvio padrão:\", desvio_padrao)"
      ]
    }
  ]
}