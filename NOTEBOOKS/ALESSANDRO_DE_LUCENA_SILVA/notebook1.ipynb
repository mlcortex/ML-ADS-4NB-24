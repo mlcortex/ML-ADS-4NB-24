{
  "nbformat": 4,
  "nbformat_minor": 0,
  "metadata": {
    "colab": {
      "provenance": []
    },
    "kernelspec": {
      "name": "python3",
      "display_name": "Python 3"
    },
    "language_info": {
      "name": "python"
    }
  },
  "cells": [
    {
      "cell_type": "code",
      "execution_count": 13,
      "metadata": {
        "colab": {
          "base_uri": "https://localhost:8080/"
        },
        "id": "8DyF0FHS0brG",
        "outputId": "ba4c3f8e-5ead-43a5-e6a9-065ecbf39535"
      },
      "outputs": [
        {
          "output_type": "stream",
          "name": "stdout",
          "text": [
            "8\n",
            "2\n",
            "4.5\n",
            "1.732\n"
          ]
        }
      ],
      "source": [
        "import math\n",
        "valores = [4, 6, 3, 4, 5, 8, 4, 2]\n",
        "\n",
        "def getMaxValue(array):\n",
        "  maxValue = None\n",
        "  for value in array:\n",
        "    if maxValue == None:\n",
        "      maxValue = value\n",
        "    elif maxValue < value:\n",
        "      maxValue = value\n",
        "\n",
        "  return maxValue\n",
        "\n",
        "def getMinValue(array):\n",
        "  minValue = None\n",
        "  for value in array:\n",
        "    if minValue == None:\n",
        "      minValue = value\n",
        "    elif minValue > value:\n",
        "      minValue = value\n",
        "\n",
        "  return minValue\n",
        "\n",
        "def getAvgValue(array):\n",
        "    avgValue = 0\n",
        "    for value in array:\n",
        "      avgValue += value\n",
        "\n",
        "    return avgValue / len(array)\n",
        "\n",
        "def getMedianValue(array):\n",
        "  array.sort()\n",
        "  if (len(array) + 1) % 2 == 0:\n",
        "    return array[((len(array) + 1) // 2) - 1]\n",
        "  else:\n",
        "    nPosition = len(array) // 2\n",
        "    firstElement = array[nPosition - 1]\n",
        "    secondElement = array[(nPosition + 1) - 1]\n",
        "\n",
        "    return getAvgValue([firstElement, secondElement])\n",
        "\n",
        "def getStandardDeviation(array, sample = False):\n",
        "  avg = getAvgValue(array)\n",
        "  length = len(array)\n",
        "  squaredSum = 0\n",
        "  variance = None\n",
        "  for value in array:\n",
        "    difference = value - avg\n",
        "    squaredSum += difference ** 2\n",
        "\n",
        "  if sample:\n",
        "    variance = squaredSum / (length - 1)\n",
        "  else:\n",
        "    variance = squaredSum / length\n",
        "\n",
        "  return math.sqrt(variance)\n",
        "\n",
        "print(getMaxValue(valores))\n",
        "print(getMinValue(valores))\n",
        "print(getAvgValue(valores))\n",
        "print(round(getStandardDeviation(valores), 3))"
      ]
    },
    {
      "cell_type": "code",
      "source": [],
      "metadata": {
        "id": "7637ch4R0nrS"
      },
      "execution_count": null,
      "outputs": []
    }
  ]
}