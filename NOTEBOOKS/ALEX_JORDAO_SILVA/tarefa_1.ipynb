import numpy as np # type: ignore

valores = [4, 6, 3, 4, 5, 8, 4, 2]

valor_maximo = np.max(valores)
valor_minimo = np.min(valores)
media = np.mean(valores)
mediana = np.median(valores)
desvio_padrao = np.std(valores)

print(f'Valor máximo: {valor_maximo}')
print(f'Valor mínimo: {valor_minimo}')
print(f'Média aritmética: {media}')
print(f'Mediana: {mediana}')
print(f'Desvio padrão: {desvio_padrao}')
