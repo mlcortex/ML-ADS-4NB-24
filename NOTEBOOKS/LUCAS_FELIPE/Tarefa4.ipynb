{
  "nbformat": 4,
  "nbformat_minor": 0,
  "metadata": {
    "colab": {
      "provenance": []
    },
    "kernelspec": {
      "name": "python3",
      "display_name": "Python 3"
    },
    "language_info": {
      "name": "python"
    }
  },
  "cells": [
    {
      "cell_type": "code",
      "execution_count": 1,
      "metadata": {
        "id": "QWfELkrmkad8"
      },
      "outputs": [],
      "source": [
        "import pandas as pd\n",
        "\n",
        "# URL do dataset Wine\n",
        "url = 'https://archive.ics.uci.edu/ml/machine-learning-databases/wine/wine.data'\n",
        "\n",
        "# Nome das colunas em português BR\n",
        "column_names_pt_br = [\n",
        "    'classe',\n",
        "    'alcool',\n",
        "    'acido_malico',\n",
        "    'cinzas',\n",
        "    'alcalinidade_de_cinzas',\n",
        "    'magnesio',\n",
        "    'fenois_totais',\n",
        "    'flavanoides',\n",
        "    'fenois_nao_flavanoides',\n",
        "    'proantocianinas',\n",
        "    'intensidade_de_cor',\n",
        "    'matiz',\n",
        "    'od280_od315_de_vinhos_diluidos',\n",
        "    'prolina'\n",
        "]\n",
        "\n",
        "# Ler o arquivo CSV com as colunas especificadas, definindo a coluna 'classe' como object\n",
        "vinhos = pd.read_csv(url, names=column_names_pt_br, dtype={'classe': object})"
      ]
    },
    {
      "cell_type": "code",
      "source": [
        "import pandas as pd\n",
        "from sklearn.model_selection import KFold\n",
        "from sklearn.neighbors import KNeighborsClassifier\n",
        "from sklearn.metrics import accuracy_score\n",
        "import numpy as np\n",
        "\n",
        "#  Carregando o dataset\n",
        "url = 'https://archive.ics.uci.edu/ml/machine-learning-databases/wine/wine.data'\n",
        "column_names_pt_br = [\n",
        "    'classe', 'alcool', 'acido_malico', 'cinzas', 'alcalinidade_de_cinzas',\n",
        "    'magnesio', 'fenois_totais', 'flavanoides', 'fenois_nao_flavanoides',\n",
        "    'proantocianinas', 'intensidade_de_cor', 'matiz',\n",
        "    'od280_od315_de_vinhos_diluidos', 'prolina'\n",
        "]\n",
        "\n",
        "vinhos = pd.read_csv(url, names=column_names_pt_br, dtype={'classe': object})"
      ],
      "metadata": {
        "id": "eAznpTzlmNap"
      },
      "execution_count": 2,
      "outputs": []
    },
    {
      "cell_type": "code",
      "source": [
        "#2 Separando variáveis X e y\n",
        "X = vinhos.drop(columns='classe')\n",
        "y = vinhos['classe']"
      ],
      "metadata": {
        "id": "b4A9DwLOmOLM"
      },
      "execution_count": 3,
      "outputs": []
    },
    {
      "cell_type": "code",
      "source": [
        "# 3. Configuração do experimento\n",
        "random_states = [42, 17, 24]\n",
        "ks = [3, 5]  # Valores de k para o KNN\n",
        "\n",
        "resultados = {}"
      ],
      "metadata": {
        "id": "yTF_BJOJmog6"
      },
      "execution_count": 8,
      "outputs": []
    },
    {
      "cell_type": "code",
      "source": [
        "# 4. Loop para random_states\n",
        "for random_state in random_states:\n",
        "    print(f\"\\nExperimento com random_state = {random_state}\")\n",
        "    kf = KFold(n_splits=10, shuffle=True, random_state=random_state)\n",
        "\n",
        "    # Para armazenar resultados de cada k\n",
        "    medias = {}\n",
        "    desvios = {}\n",
        "\n",
        "    for k in ks:\n",
        "        print(f\"  Avaliando KNN com k = {k}\")\n",
        "        accuracies = []\n",
        "\n",
        "        # K-Fold Cross-Validation\n",
        "        for train_index, test_index in kf.split(X):\n",
        "            X_train, X_test = X.iloc[train_index], X.iloc[test_index]\n",
        "            y_train, y_test = y.iloc[train_index], y.iloc[test_index]\n",
        "\n",
        "            # Treinando o modelo\n",
        "            knn = KNeighborsClassifier(n_neighbors=k)\n",
        "            knn.fit(X_train, y_train)\n",
        "\n",
        "            # Fazendo previsões\n",
        "            y_pred = knn.predict(X_test)\n",
        "\n",
        "            # Calculando a acurácia\n",
        "            accuracy = accuracy_score(y_test, y_pred)\n",
        "            accuracies.append(accuracy)\n",
        "\n",
        "        # Calculando média e desvio padrão das acurácias\n",
        "        media = np.mean(accuracies)\n",
        "        desvio = np.std(accuracies)\n",
        "        medias[k] = media\n",
        "        desvios[k] = desvio\n",
        "\n",
        "        print(f\"    Média de acurácia: {media:.4f}, Desvio padrão: {desvio:.4f}\")\n",
        "\n",
        "    # Armazenar resultados para o random_state atual\n",
        "    resultados[random_state] = {'medias': medias, 'desvios': desvios}"
      ],
      "metadata": {
        "colab": {
          "base_uri": "https://localhost:8080/"
        },
        "id": "UXU32Edvm1iG",
        "outputId": "2c13e37d-eb8f-4632-bbe1-9f1692abba52"
      },
      "execution_count": 6,
      "outputs": [
        {
          "output_type": "stream",
          "name": "stdout",
          "text": [
            "\n",
            "Experimento com random_state = 42\n",
            "  Avaliando KNN com k = 3\n",
            "    Média de acurácia: 0.7036, Desvio padrão: 0.1392\n",
            "  Avaliando KNN com k = 5\n",
            "    Média de acurácia: 0.6641, Desvio padrão: 0.1001\n",
            "\n",
            "Experimento com random_state = 17\n",
            "  Avaliando KNN com k = 3\n",
            "    Média de acurácia: 0.6987, Desvio padrão: 0.1040\n",
            "  Avaliando KNN com k = 5\n",
            "    Média de acurácia: 0.6876, Desvio padrão: 0.1121\n",
            "\n",
            "Experimento com random_state = 24\n",
            "  Avaliando KNN com k = 3\n",
            "    Média de acurácia: 0.7127, Desvio padrão: 0.0968\n",
            "  Avaliando KNN com k = 5\n",
            "    Média de acurácia: 0.7127, Desvio padrão: 0.0940\n"
          ]
        }
      ]
    },
    {
      "cell_type": "code",
      "source": [
        "# 5. Análise dos resultados\n",
        "print(\"\\nResultados Finais:\")\n",
        "for random_state, valores in resultados.items():\n",
        "    print(f\"Random State {random_state}:\")\n",
        "    for k, media in valores['medias'].items():\n",
        "        print(f\"  k = {k}: Média = {media:.4f}, Desvio Padrão = {valores['desvios'][k]:.4f}\")"
      ],
      "metadata": {
        "colab": {
          "base_uri": "https://localhost:8080/"
        },
        "id": "O5WPx7Jym6Rs",
        "outputId": "0c4c1264-bc1a-4457-a612-4d473833472c"
      },
      "execution_count": 7,
      "outputs": [
        {
          "output_type": "stream",
          "name": "stdout",
          "text": [
            "\n",
            "Resultados Finais:\n",
            "Random State 42:\n",
            "  k = 3: Média = 0.7036, Desvio Padrão = 0.1392\n",
            "  k = 5: Média = 0.6641, Desvio Padrão = 0.1001\n",
            "Random State 17:\n",
            "  k = 3: Média = 0.6987, Desvio Padrão = 0.1040\n",
            "  k = 5: Média = 0.6876, Desvio Padrão = 0.1121\n",
            "Random State 24:\n",
            "  k = 3: Média = 0.7127, Desvio Padrão = 0.0968\n",
            "  k = 5: Média = 0.7127, Desvio Padrão = 0.0940\n"
          ]
        }
      ]
    }
  ]
}