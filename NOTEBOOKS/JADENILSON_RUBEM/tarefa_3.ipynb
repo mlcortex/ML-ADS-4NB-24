{
 "cells": [
  {
   "cell_type": "code",
   "execution_count": 7,
   "metadata": {},
   "outputs": [
    {
     "name": "stdout",
     "output_type": "stream",
     "text": [
      "\n",
      "Resultados Finais:\n",
      "           3         5\n",
      "42  0.740741  0.740741\n",
      "17  0.648148  0.666667\n",
      "24  0.740741  0.666667\n"
     ]
    },
    {
     "data": {
      "image/png": "[encoded data removed]",
      "text/plain": [
       "<Figure size 1000x600 with 1 Axes>"
      ]
     },
     "metadata": {},
     "output_type": "display_data"
    },
    {
     "name": "stdout",
     "output_type": "stream",
     "text": [
      "\n",
      "Configuração com melhor desempenho: Random State = 3, k = 42 com Acurácia de 0.7407\n"
     ]
    }
   ],
   "source": [
    "# Apresentar os resultados em um DataFrame para facilitar a visualização\n",
    "resultados_df = pd.DataFrame(resultados).T\n",
    "print(\"\\nResultados Finais:\")\n",
    "print(resultados_df)\n",
    "\n",
    "# Análise visual com gráfico de barras\n",
    "resultados_df.plot(kind='bar', figsize=(10, 6))\n",
    "plt.title('Acurácia dos Modelos KNN com Diferentes Valores de k e Random State')\n",
    "plt.xlabel('Random State')\n",
    "plt.ylabel('Acurácia')\n",
    "plt.legend(title='Valor de k')\n",
    "plt.show()\n",
    "\n",
    "# Identificando o melhor desempenho\n",
    "melhor_random_state = resultados_df.max().idxmax()\n",
    "melhor_k = resultados_df.idxmax().max()\n",
    "melhor_acuracia = resultados_df.max().max()\n",
    "print(f\"\\nConfiguração com melhor desempenho: Random State = {\n",
    "      melhor_random_state}, k = {melhor_k} com Acurácia de {melhor_acuracia:.4f}\")"
   ]
  },
  {
   "cell_type": "code",
   "execution_count": 6,
   "metadata": {},
   "outputs": [
    {
     "name": "stdout",
     "output_type": "stream",
     "text": [
      "\n",
      "Random State: 42\n",
      "Acurácia para k = 3: 0.7407\n",
      "Acurácia para k = 5: 0.7407\n",
      "\n",
      "Random State: 17\n",
      "Acurácia para k = 3: 0.6481\n",
      "Acurácia para k = 5: 0.6667\n",
      "\n",
      "Random State: 24\n",
      "Acurácia para k = 3: 0.7407\n",
      "Acurácia para k = 5: 0.6667\n"
     ]
    }
   ],
   "source": [
    "# Função para repetir a análise com diferentes random_state\n",
    "def avaliar_com_diferentes_random_states(random_states, k_values):\n",
    "    resultados = {}\n",
    "    for state in random_states:\n",
    "        print(f\"\\nRandom State: {state}\")\n",
    "        X_train, X_test, y_train, y_test = train_test_split(\n",
    "            X, y, test_size=0.3, random_state=state)\n",
    "        resultados[state] = {}\n",
    "        for k in k_values:\n",
    "            accuracy = treinar_e_avaliar_knn(\n",
    "                k, X_train, X_test, y_train, y_test)\n",
    "            resultados[state][k] = accuracy\n",
    "    return resultados\n",
    "\n",
    "\n",
    "# Definindo os valores de random_state e k a serem testados\n",
    "random_states = [42, 17, 24]\n",
    "k_values = [3, 5]\n",
    "\n",
    "# Avaliação dos modelos\n",
    "resultados = avaliar_com_diferentes_random_states(random_states, k_values)"
   ]
  },
  {
   "cell_type": "code",
   "execution_count": 5,
   "metadata": {},
   "outputs": [
    {
     "name": "stdout",
     "output_type": "stream",
     "text": [
      "Random State: 42\n",
      "Acurácia para k = 3: 0.7407\n",
      "Acurácia para k = 5: 0.7407\n"
     ]
    }
   ],
   "source": [
    "# Função para treinar e avaliar o KNN\n",
    "def treinar_e_avaliar_knn(k, X_train, X_test, y_train, y_test):\n",
    "    knn = KNeighborsClassifier(n_neighbors=k)\n",
    "    knn.fit(X_train, y_train)\n",
    "    y_pred = knn.predict(X_test)\n",
    "    accuracy = accuracy_score(y_test, y_pred)\n",
    "    print(f\"Acurácia para k = {k}: {accuracy:.4f}\")\n",
    "    return accuracy\n",
    "\n",
    "\n",
    "# Avaliação para k = 3 e k = 5\n",
    "print(\"Random State: 42\")\n",
    "accuracy_k3 = treinar_e_avaliar_knn(3, X_train, X_test, y_train, y_test)\n",
    "accuracy_k5 = treinar_e_avaliar_knn(5, X_train, X_test, y_train, y_test)"
   ]
  },
  {
   "cell_type": "code",
   "execution_count": 4,
   "metadata": {},
   "outputs": [],
   "source": [
    "# Separar variáveis independentes (X) e variável dependente (y)\n",
    "X = vinhos.drop('classe', axis=1)\n",
    "y = vinhos['classe']\n",
    "\n",
    "# Dividir o conjunto de dados\n",
    "X_train, X_test, y_train, y_test = train_test_split(\n",
    "    X, y, test_size=0.3, random_state=42)"
   ]
  },
  {
   "cell_type": "code",
   "execution_count": null,
   "metadata": {},
   "outputs": [
    {
     "data": {
      "text/html": [
       "<div>\n",
       "<style scoped>\n",
       "    .dataframe tbody tr th:only-of-type {\n",
       "        vertical-align: middle;\n",
       "    }\n",
       "\n",
       "    .dataframe tbody tr th {\n",
       "        vertical-align: top;\n",
       "    }\n",
       "\n",
       "    .dataframe thead th {\n",
       "        text-align: right;\n",
       "    }\n",
       "</style>\n",
       "<table border=\"1\" class=\"dataframe\">\n",
       "  <thead>\n",
       "    <tr style=\"text-align: right;\">\n",
       "      <th></th>\n",
       "      <th>classe</th>\n",
       "      <th>alcool</th>\n",
       "      <th>acido_malico</th>\n",
       "      <th>cinzas</th>\n",
       "      <th>alcalinidade_de_cinzas</th>\n",
       "      <th>magnesio</th>\n",
       "      <th>fenois_totais</th>\n",
       "      <th>flavanoides</th>\n",
       "      <th>fenois_nao_flavanoides</th>\n",
       "      <th>proantocianinas</th>\n",
       "      <th>intensidade_de_cor</th>\n",
       "      <th>matiz</th>\n",
       "      <th>od280_od315_de_vinhos_diluidos</th>\n",
       "      <th>prolina</th>\n",
       "    </tr>\n",
       "  </thead>\n",
       "  <tbody>\n",
       "    <tr>\n",
       "      <th>0</th>\n",
       "      <td>1</td>\n",
       "      <td>14.23</td>\n",
       "      <td>1.71</td>\n",
       "      <td>2.43</td>\n",
       "      <td>15.6</td>\n",
       "      <td>127</td>\n",
       "      <td>2.80</td>\n",
       "      <td>3.06</td>\n",
       "      <td>0.28</td>\n",
       "      <td>2.29</td>\n",
       "      <td>5.64</td>\n",
       "      <td>1.04</td>\n",
       "      <td>3.92</td>\n",
       "      <td>1065</td>\n",
       "    </tr>\n",
       "    <tr>\n",
       "      <th>1</th>\n",
       "      <td>1</td>\n",
       "      <td>13.20</td>\n",
       "      <td>1.78</td>\n",
       "      <td>2.14</td>\n",
       "      <td>11.2</td>\n",
       "      <td>100</td>\n",
       "      <td>2.65</td>\n",
       "      <td>2.76</td>\n",
       "      <td>0.26</td>\n",
       "      <td>1.28</td>\n",
       "      <td>4.38</td>\n",
       "      <td>1.05</td>\n",
       "      <td>3.40</td>\n",
       "      <td>1050</td>\n",
       "    </tr>\n",
       "    <tr>\n",
       "      <th>2</th>\n",
       "      <td>1</td>\n",
       "      <td>13.16</td>\n",
       "      <td>2.36</td>\n",
       "      <td>2.67</td>\n",
       "      <td>18.6</td>\n",
       "      <td>101</td>\n",
       "      <td>2.80</td>\n",
       "      <td>3.24</td>\n",
       "      <td>0.30</td>\n",
       "      <td>2.81</td>\n",
       "      <td>5.68</td>\n",
       "      <td>1.03</td>\n",
       "      <td>3.17</td>\n",
       "      <td>1185</td>\n",
       "    </tr>\n",
       "    <tr>\n",
       "      <th>3</th>\n",
       "      <td>1</td>\n",
       "      <td>14.37</td>\n",
       "      <td>1.95</td>\n",
       "      <td>2.50</td>\n",
       "      <td>16.8</td>\n",
       "      <td>113</td>\n",
       "      <td>3.85</td>\n",
       "      <td>3.49</td>\n",
       "      <td>0.24</td>\n",
       "      <td>2.18</td>\n",
       "      <td>7.80</td>\n",
       "      <td>0.86</td>\n",
       "      <td>3.45</td>\n",
       "      <td>1480</td>\n",
       "    </tr>\n",
       "    <tr>\n",
       "      <th>4</th>\n",
       "      <td>1</td>\n",
       "      <td>13.24</td>\n",
       "      <td>2.59</td>\n",
       "      <td>2.87</td>\n",
       "      <td>21.0</td>\n",
       "      <td>118</td>\n",
       "      <td>2.80</td>\n",
       "      <td>2.69</td>\n",
       "      <td>0.39</td>\n",
       "      <td>1.82</td>\n",
       "      <td>4.32</td>\n",
       "      <td>1.04</td>\n",
       "      <td>2.93</td>\n",
       "      <td>735</td>\n",
       "    </tr>\n",
       "  </tbody>\n",
       "</table>\n",
       "</div>"
      ],
      "text/plain": [
       "  classe  alcool  acido_malico  cinzas  alcalinidade_de_cinzas  magnesio  \\\n",
       "0      1   14.23          1.71    2.43                    15.6       127   \n",
       "1      1   13.20          1.78    2.14                    11.2       100   \n",
       "2      1   13.16          2.36    2.67                    18.6       101   \n",
       "3      1   14.37          1.95    2.50                    16.8       113   \n",
       "4      1   13.24          2.59    2.87                    21.0       118   \n",
       "\n",
       "   fenois_totais  flavanoides  fenois_nao_flavanoides  proantocianinas  \\\n",
       "0           2.80         3.06                    0.28             2.29   \n",
       "1           2.65         2.76                    0.26             1.28   \n",
       "2           2.80         3.24                    0.30             2.81   \n",
       "3           3.85         3.49                    0.24             2.18   \n",
       "4           2.80         2.69                    0.39             1.82   \n",
       "\n",
       "   intensidade_de_cor  matiz  od280_od315_de_vinhos_diluidos  prolina  \n",
       "0                5.64   1.04                            3.92     1065  \n",
       "1                4.38   1.05                            3.40     1050  \n",
       "2                5.68   1.03                            3.17     1185  \n",
       "3                7.80   0.86                            3.45     1480  \n",
       "4                4.32   1.04                            2.93      735  "
      ]
     },
     "execution_count": 3,
     "metadata": {},
     "output_type": "execute_result"
    }
   ],
   "source": [
    "# URL do dataset Wine\n",
    "url = 'https://archive.ics.uci.edu/ml/machine-learning-databases/wine/wine.data'\n",
    "\n",
    "# Nome das colunas em português BR\n",
    "column_names_pt_br = [\n",
    "    'classe', 'alcool', 'acido_malico', 'cinzas', 'alcalinidade_de_cinzas',\n",
    "    'magnesio', 'fenois_totais', 'flavanoides', 'fenois_nao_flavanoides',\n",
    "    'proantocianinas', 'intensidade_de_cor', 'matiz',\n",
    "    'od280_od315_de_vinhos_diluidos', 'prolina'\n",
    "]\n",
    "\n",
    "# Carregar dados e definir a coluna 'classe' como categórica\n",
    "vinhos = pd.read_csv(url, names=column_names_pt_br, dtype={'classe': 'object'})\n",
    "\n",
    "# Verificar as primeiras linhas do dataset\n",
    "vinhos.head()"
   ]
  },
  {
   "cell_type": "code",
   "execution_count": 2,
   "metadata": {},
   "outputs": [],
   "source": [
    "# Importando bibliotecas\n",
    "import pandas as pd\n",
    "from sklearn.model_selection import train_test_split\n",
    "from sklearn.neighbors import KNeighborsClassifier\n",
    "from sklearn.metrics import accuracy_score\n",
    "import matplotlib.pyplot as plt\n",
    "import seaborn as sns"
   ]
  }
 ],
 "metadata": {
  "kernelspec": {
   "display_name": "Python 3",
   "language": "python",
   "name": "python3"
  },
  "language_info": {
   "codemirror_mode": {
    "name": "ipython",
    "version": 3
   },
   "file_extension": ".py",
   "mimetype": "text/x-python",
   "name": "python",
   "nbconvert_exporter": "python",
   "pygments_lexer": "ipython3",
   "version": "3.12.0"
  }
 },
 "nbformat": 4,
 "nbformat_minor": 2
}
