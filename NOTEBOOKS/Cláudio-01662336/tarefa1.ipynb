{
  "nbformat": 4,
  "nbformat_minor": 0,
  "metadata": {
    "colab": {
      "provenance": []
    },
    "kernelspec": {
      "name": "python3",
      "display_name": "Python 3"
    },
    "language_info": {
      "name": "python"
    }
  },
  "cells": [
    {
      "cell_type": "code",
      "execution_count": null,
      "metadata": {
        "colab": {
          "base_uri": "https://localhost:8080/"
        },
        "id": "oH08m3jbV10k",
        "outputId": "16c43e96-d362-4ddf-a511-b4f3cb214510"
      },
      "outputs": [
        {
          "output_type": "stream",
          "name": "stdout",
          "text": [
            "Maior valor: 8\n",
            "Menor valor: 2\n",
            "Média aritmética: 4.5\n",
            "Mediana: 4.0\n",
            "Desvio padrão: 1.7320508075688772\n"
          ]
        }
      ],
      "source": [
        "import numpy as np\n",
        "\n",
        "# Definir os dados\n",
        "valores = np.array([4, 6, 3, 4, 5, 8, 4, 2])\n",
        "\n",
        "# Calcular as estatísticas\n",
        "maior_valor = np.max(valores)\n",
        "menor_valor = np.min(valores)\n",
        "media = np.mean(valores)\n",
        "mediana = np.median(valores)\n",
        "desvio_padrao = np.std(valores)\n",
        "\n",
        "# Imprimir os resultados\n",
        "print(\"Maior valor:\", maior_valor)\n",
        "print(\"Menor valor:\", menor_valor)\n",
        "print(\"Média aritmética:\", media)\n",
        "print(\"Mediana:\", mediana)\n",
        "print(\"Desvio padrão:\", desvio_padrao)\n",
        "\n"
      ]
    }
  ]
}