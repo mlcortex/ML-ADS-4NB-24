{
  "nbformat": 4,
  "nbformat_minor": 0,
  "metadata": {
    "colab": {
      "provenance": []
    },
    "kernelspec": {
      "name": "python3",
      "display_name": "Python 3"
    },
    "language_info": {
      "name": "python"
    }
  },
  "cells": [
    {
      "cell_type": "code",
      "execution_count": 13,
      "metadata": {
        "id": "Zdy65IUqUIe7"
      },
      "outputs": [],
      "source": [
        "import pandas as pd\n",
        "from sklearn.model_selection import train_test_split\n",
        "from sklearn.model_selection import KFold\n",
        "from sklearn.neighbors import KNeighborsClassifier\n",
        "from sklearn.metrics import accuracy_score\n",
        "import numpy as np\n",
        "\n",
        "# URL do dataset Wine\n",
        "url = 'https://archive.ics.uci.edu/ml/machine-learning-databases/wine/wine.data'\n",
        "\n",
        "# Nome das colunas em português BR\n",
        "column_names_pt_br = [\n",
        "    'classe',\n",
        "    'alcool',\n",
        "    'acido_malico',\n",
        "    'cinzas',\n",
        "    'alcalinidade_de_cinzas',\n",
        "    'magnesio',\n",
        "    'fenois_totais',\n",
        "    'flavanoides',\n",
        "    'fenois_nao_flavanoides',\n",
        "    'proantocianinas',\n",
        "    'intensidade_de_cor',\n",
        "    'matiz',\n",
        "    'od280_od315_de_vinhos_diluidos',\n",
        "    'prolina'\n",
        "]\n",
        "\n",
        "# Ler o arquivo CSV com as colunas especificadas, definindo a coluna 'classe' como object\n",
        "vinhos = pd.read_csv(url, names=column_names_pt_br, dtype={'classe': object})"
      ]
    },
    {
      "cell_type": "code",
      "source": [
        "X = vinhos.drop('classe', axis=1)\n",
        "y = vinhos['classe']"
      ],
      "metadata": {
        "id": "F3HIWN8SUMLA"
      },
      "execution_count": 9,
      "outputs": []
    },
    {
      "cell_type": "code",
      "source": [
        "random_states = [42, 17, 24]\n",
        "k_values = [3, 5]\n",
        "\n",
        "for random_state in random_states:\n",
        "  print(f\"Experimento com random_state = {random_state}\")\n",
        "  X_train, X_test, y_train, y_test = train_test_split(X, y, test_size=0.3, random_state=random_state)\n",
        "\n",
        "  for k in k_values:\n",
        "    print(f\"  KNN com k = {k}\")\n",
        "    knn = KNeighborsClassifier(n_neighbors=k)\n",
        "    knn.fit(X_train, y_train)\n",
        "    y_pred = knn.predict(X_test)\n",
        "    accuracy = accuracy_score(y_test, y_pred)\n",
        "    print(f\"    Acurácia: {accuracy}\")"
      ],
      "metadata": {
        "id": "6LF7z-LTUXM4"
      },
      "execution_count": null,
      "outputs": []
    },
    {
      "cell_type": "code",
      "source": [
        "random_states = [42, 17, 24]\n",
        "k_values = [3, 5]\n",
        "\n",
        "for random_state in random_states:\n",
        "  print(f\"Experimento com random_state = {random_state}\")\n",
        "  kf = KFold(n_splits=10, shuffle=True, random_state=random_state)\n",
        "  for k in k_values:\n",
        "    print(f\"  KNN com k = {k}\")\n",
        "    accuracies = []\n",
        "    for train_index, test_index in kf.split(X):\n",
        "      X_train, X_test = X.iloc[train_index], X.iloc[test_index]\n",
        "      y_train, y_test = y.iloc[train_index], y.iloc[test_index]\n",
        "      knn = KNeighborsClassifier(n_neighbors=k)\n",
        "      knn.fit(X_train, y_train)\n",
        "      y_pred = knn.predict(X_test)\n",
        "      accuracy = accuracy_score(y_test, y_pred)\n",
        "      accuracies.append(accuracy)\n",
        "\n",
        "    mean_accuracy = np.mean(accuracies)\n",
        "    std_accuracy = np.std(accuracies)\n",
        "    print(f\"    Acurácia média: {mean_accuracy}\")\n",
        "    print(f\"    Desvio padrão da acurácia: {std_accuracy}\")"
      ],
      "metadata": {
        "id": "tummfHVVUrYS"
      },
      "execution_count": null,
      "outputs": []
    },
    {
      "cell_type": "code",
      "source": [
        "random_states = [42, 17, 24]\n",
        "k_values = [3, 5]\n",
        "results = {}\n",
        "\n",
        "# aqui o código vai realizar cada k_values pelo laço de repetição dentro do outro laço\n",
        "for random_state in random_states:\n",
        "  results[random_state] = {}\n",
        "  print(f\"Experimento com random_state = {random_state}\")\n",
        "  kf = KFold(n_splits=10, shuffle=True, random_state=random_state)\n",
        "  # aqui o código vai realizar cada k_values pelo laço de repetição dentro do outro laço\n",
        "  for k in k_values:\n",
        "    print(f\"  KNN com k = {k}\")\n",
        "    accuracies = []\n",
        "    # aqui ele realiza a validação cruzada\n",
        "    for train_index, test_index in kf.split(X):\n",
        "      X_train, X_test = X.iloc[train_index], X.iloc[test_index]\n",
        "      y_train, y_test = y.iloc[train_index], y.iloc[test_index]\n",
        "      knn = KNeighborsClassifier(n_neighbors=k)\n",
        "      knn.fit(X_train, y_train)\n",
        "      y_pred = knn.predict(X_test)\n",
        "      accuracy = accuracy_score(y_test, y_pred)\n",
        "      accuracies.append(accuracy)\n",
        "\n",
        "    # definindo e mostrando as médias aritméticas e desvio padrão\n",
        "    mean_accuracy = np.mean(accuracies)\n",
        "    std_accuracy = np.std(accuracies)\n",
        "    print(f\"    Acurácia média: {mean_accuracy}\")\n",
        "    print(f\"    Desvio padrão da acurácia: {std_accuracy}\")\n",
        "    results[random_state][k] = mean_accuracy\n",
        "\n",
        "# aqui ele identifica o melhor valor de k para o Knn de cada random_state\n",
        "for random_state, k_results in results.items():\n",
        "  best_k = max(k_results, key=k_results.get)\n",
        "  # mostrando os KNN de melhor resultado para cada random_state\n",
        "  print(f\"\\nMelhor valor de k para random_state {random_state}:\")\n",
        "  if k_results[3] == k_results[5]:\n",
        "      print(\"Ambos possuem resultados iguais\")\n",
        "  else:\n",
        "      print(f\"  KNN com k = {best_k}\")"
      ],
      "metadata": {
        "colab": {
          "base_uri": "https://localhost:8080/"
        },
        "id": "cnpxcDK5WOQV",
        "outputId": "f40e759b-0f89-464a-c61c-b3357a0998a7"
      },
      "execution_count": 30,
      "outputs": [
        {
          "output_type": "stream",
          "name": "stdout",
          "text": [
            "Experimento com random_state = 42\n",
            "  KNN com k = 3\n",
            "    Acurácia média: 0.70359477124183\n",
            "    Desvio padrão da acurácia: 0.13918691592617136\n",
            "  KNN com k = 5\n",
            "    Acurácia média: 0.6640522875816993\n",
            "    Desvio padrão da acurácia: 0.10007472964927165\n",
            "Experimento com random_state = 17\n",
            "  KNN com k = 3\n",
            "    Acurácia média: 0.6986928104575163\n",
            "    Desvio padrão da acurácia: 0.10403044405660643\n",
            "  KNN com k = 5\n",
            "    Acurácia média: 0.6875816993464052\n",
            "    Desvio padrão da acurácia: 0.11211770116307625\n",
            "Experimento com random_state = 24\n",
            "  KNN com k = 3\n",
            "    Acurácia média: 0.7127450980392157\n",
            "    Desvio padrão da acurácia: 0.09681644876344142\n",
            "  KNN com k = 5\n",
            "    Acurácia média: 0.7127450980392157\n",
            "    Desvio padrão da acurácia: 0.09397285976504524\n",
            "\n",
            "Melhor valor de k para random_state 42:\n",
            "  KNN com k = 3\n",
            "\n",
            "Melhor valor de k para random_state 17:\n",
            "  KNN com k = 3\n",
            "\n",
            "Melhor valor de k para random_state 24:\n",
            "Ambos possuem resultados iguais\n"
          ]
        }
      ]
    }
  ]
}