{
 "cells": [
  {
   "cell_type": "markdown",
   "id": "112c140c",
   "metadata": {},
   "source": [
    "\n",
    "Aqui estão as informações sobre a lista `valores = [4, 6, 3, 4, 5, 8, 4, 2]`:\n",
    "\n",
    "- **Valor máximo**: 8\n",
    "- **Valor mínimo**: 2\n",
    "- **Média aritmética**: 4.5\n",
    "- **Mediana**: 4.0\n",
    "- **Desvio padrão**: 1.73\n"
   ]
  },
  {
   "cell_type": "code",
   "execution_count": null,
   "id": "c0fbe7f3",
   "metadata": {},
   "outputs": [],
   "source": [
    "\n",
    "import numpy as np\n",
    "import statistics as stats\n",
    "\n",
    "# Lista de números\n",
    "valores = [4, 6, 3, 4, 5, 8, 4, 2]\n",
    "\n",
    "# Calcular as informações\n",
    "valor_maximo = max(valores)\n",
    "valor_minimo = min(valores)\n",
    "media_aritmetica = np.mean(valores)\n",
    "mediana = np.median(valores)\n",
    "desvio_padrao = np.std(valores)\n",
    "\n",
    "# Exibir os resultados\n",
    "valor_maximo, valor_minimo, media_aritmetica, mediana, desvio_padrao\n"
   ]
  }
 ],
 "metadata": {},
 "nbformat": 4,
 "nbformat_minor": 5
}
