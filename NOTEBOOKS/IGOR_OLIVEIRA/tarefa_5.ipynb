# Clustering com K-Means - Dataset Vinhos (UCI)

# Importação das bibliotecas necessárias
import pandas as pd
from sklearn.preprocessing import MinMaxScaler
from sklearn.cluster import KMeans

# 1. Leitura dos Dados
# URL do dataset Wine
url = 'https://archive.ics.uci.edu/ml/machine-learning-databases/wine/wine.data'

# Nome das colunas em português BR
column_names_pt_br = [
    'classe',
    'alcool',
    'acido_malico',
    'cinzas',
    'alcalinidade_de_cinzas',
    'magnesio',
    'fenois_totais',
    'flavanoides',
    'fenois_nao_flavanoides',
    'proantocianinas',
    'intensidade_de_cor',
    'matiz',
    'od280_od315_de_vinhos_diluidos',
    'prolina'
]

# Ler o arquivo CSV
vinhos = pd.read_csv(url, names=column_names_pt_br, dtype={'classe': object})

# Exibindo as primeiras linhas do dataset
vinhos.head()
1. Normalização dos Dados
python

# Dropar a coluna 'classe' para realizar o agrupamento
X = vinhos.drop('classe', axis=1)

# Reescala linear dos dados para o intervalo (0, 1)
scaler = MinMaxScaler()
X_scaled = scaler.fit_transform(X)

# Exibindo os dados normalizados
pd.DataFrame(X_scaled, columns=X.columns).head()
2. Aplicação do K-Means
python

# Aplicar K-Means com 4 clusters
kmeans = KMeans(n_clusters=4, random_state=42)
vinhos['cluster'] = kmeans.fit_predict(X_scaled)

# Apresentar o valor da inércia
print(f'Inércia do modelo K-Means: {kmeans.inertia_}')
3. Análise dos Clusters
python

# Apresentar a contagem dos clusters
print("Distribuição dos clusters:")
print(vinhos['cluster'].value_counts())
4. Comparação com Classes Originais
python

# Comparação dos clusters com as classes originais
# Usando groupby()
comparacao_groupby = vinhos.groupby('cluster')['classe'].value_counts()
print("Comparação usando groupby():")
print(comparacao_groupby)

# Usando pd.crosstab
comparacao_crosstab = pd.crosstab(vinhos['classe'], vinhos['cluster'])
print("\nComparação usando pd.crosstab:")
print(comparacao_crosstab)
