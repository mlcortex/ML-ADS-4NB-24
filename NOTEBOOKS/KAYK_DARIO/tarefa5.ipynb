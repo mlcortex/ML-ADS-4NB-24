{
 "cells": [
  {
   "cell_type": "code",
   "execution_count": null,
   "metadata": {
    "id": "kZ36J9yf9B1l"
   },
   "outputs": [],
   "source": [
    "import pandas as pd\n",
    "from sklearn.preprocessing import MinMaxScaler\n",
    "from sklearn.cluster import KMeans\n",
    "\n",
    "\n",
    "url = 'https://archive.ics.uci.edu/ml/machine-learning-databases/wine/wine.data'\n",
    "\n",
    "\n",
    "column_names_pt_br = [\n",
    "    'classe',\n",
    "    'alcool',\n",
    "    'acido_malico',\n",
    "    'cinzas',\n",
    "    'alcalinidade_de_cinzas',\n",
    "    'magnesio',\n",
    "    'fenois_totais',\n",
    "    'flavanoides',\n",
    "    'fenois_nao_flavanoides',\n",
    "    'proantocianinas',\n",
    "    'intensidade_de_cor',\n",
    "    'matiz',\n",
    "    'od280_od315_de_vinhos_diluidos',\n",
    "    'prolina'\n",
    "]\n",
    "\n",
    "\n",
    "vinhos = pd.read_csv(url, names=column_names_pt_br, dtype={'classe': object})"
   ]
  },
  {
   "cell_type": "code",
   "execution_count": null,
   "metadata": {
    "colab": {
     "base_uri": "https://localhost:8080/"
    },
    "id": "-V0868OU-pTA",
    "outputId": "98b99289-02ca-4d18-9fef-b6835a015b17"
   },
   "outputs": [
    {
     "name": "stdout",
     "output_type": "stream",
     "text": [
      "     alcool  acido_malico    cinzas  alcalinidade_de_cinzas  magnesio  \\\n",
      "0  0.842105      0.191700  0.572193                0.257732  0.619565   \n",
      "1  0.571053      0.205534  0.417112                0.030928  0.326087   \n",
      "2  0.560526      0.320158  0.700535                0.412371  0.336957   \n",
      "3  0.878947      0.239130  0.609626                0.319588  0.467391   \n",
      "4  0.581579      0.365613  0.807487                0.536082  0.521739   \n",
      "\n",
      "   fenois_totais  flavanoides  fenois_nao_flavanoides  proantocianinas  \\\n",
      "0       0.627586     0.573840                0.283019         0.593060   \n",
      "1       0.575862     0.510549                0.245283         0.274448   \n",
      "2       0.627586     0.611814                0.320755         0.757098   \n",
      "3       0.989655     0.664557                0.207547         0.558360   \n",
      "4       0.627586     0.495781                0.490566         0.444795   \n",
      "\n",
      "   intensidade_de_cor     matiz  od280_od315_de_vinhos_diluidos   prolina  \n",
      "0            0.372014  0.455285                        0.970696  0.561341  \n",
      "1            0.264505  0.463415                        0.780220  0.550642  \n",
      "2            0.375427  0.447154                        0.695971  0.646933  \n",
      "3            0.556314  0.308943                        0.798535  0.857347  \n",
      "4            0.259386  0.455285                        0.608059  0.325963  \n"
     ]
    }
   ],
   "source": [
    "\n",
    "vinhos = pd.read_csv(url, names=column_names_pt_br, dtype={'classe': object})\n",
    "\n",
    "\n",
    "X = vinhos.drop('classe', axis=1)\n",
    "\n",
    "# Reescala linear dos dados para o intervalo (0, 1)\n",
    "scaler = MinMaxScaler()\n",
    "X_scaled = scaler.fit_transform(X)\n",
    "\n",
    "\n",
    "print(pd.DataFrame(X_scaled, columns=X.columns).head())"
   ]
  },
  {
   "cell_type": "code",
   "execution_count": null,
   "metadata": {
    "colab": {
     "base_uri": "https://localhost:8080/"
    },
    "id": "e92v0A_I-74n",
    "outputId": "eb593de4-2d6f-4438-dcee-fc1ed52eec0b"
   },
   "outputs": [
    {
     "name": "stdout",
     "output_type": "stream",
     "text": [
      "Inércia do modelo K-Means: 44.887604580852816\n"
     ]
    }
   ],
   "source": [
    "\n",
    "kmeans = KMeans(n_clusters=4, random_state=42)\n",
    "\n",
    "\n",
    "vinhos['cluster'] = kmeans.fit_predict(X_scaled)\n",
    "\n",
    "\n",
    "print(f'Inércia do modelo K-Means: {kmeans.inertia_}')"
   ]
  },
  {
   "cell_type": "code",
   "execution_count": null,
   "metadata": {
    "colab": {
     "base_uri": "https://localhost:8080/"
    },
    "id": "ACofOOEp_CIY",
    "outputId": "399fcf9a-5673-4545-cbae-4874e386b1b2"
   },
   "outputs": [
    {
     "name": "stdout",
     "output_type": "stream",
     "text": [
      "cluster\n",
      "2    59\n",
      "1    50\n",
      "0    36\n",
      "3    33\n",
      "Name: count, dtype: int64\n"
     ]
    }
   ],
   "source": [
    "\n",
    "print(vinhos['cluster'].value_counts())"
   ]
  },
  {
   "cell_type": "code",
   "execution_count": null,
   "metadata": {
    "colab": {
     "base_uri": "https://localhost:8080/"
    },
    "id": "Vt7Yc7jj_EMo",
    "outputId": "e8429b8c-4951-4eca-9411-86c7e88c8fc7"
   },
   "outputs": [
    {
     "name": "stdout",
     "output_type": "stream",
     "text": [
      "cluster  classe\n",
      "0        2         34\n",
      "         1          2\n",
      "1        3         48\n",
      "         2          2\n",
      "2        1         57\n",
      "         2          2\n",
      "3        2         33\n",
      "Name: count, dtype: int64\n",
      "cluster   0   1   2   3\n",
      "classe                 \n",
      "1         2   0  57   0\n",
      "2        34   2   2  33\n",
      "3         0  48   0   0\n"
     ]
    }
   ],
   "source": [
    "\n",
    "comparacao = vinhos.groupby('cluster')['classe'].value_counts()\n",
    "print(comparacao)\n",
    "\n",
    "\n",
    "comparacao = pd.crosstab(vinhos['classe'], vinhos['cluster'])\n",
    "print(comparacao)"
   ]
  }
 ],
 "metadata": {
  "colab": {
   "provenance": []
  },
  "kernelspec": {
   "display_name": "Python 3",
   "name": "python3"
  },
  "language_info": {
   "name": "python"
  }
 },
 "nbformat": 4,
 "nbformat_minor": 0
}
