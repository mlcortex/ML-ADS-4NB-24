{
  "nbformat": 4,
  "nbformat_minor": 0,
  "metadata": {
    "colab": {
      "provenance": [],
      "authorship_tag": "ABX9TyO0vEddzql+NsVqsCQPsU+S",
      "include_colab_link": true
    },
    "kernelspec": {
      "name": "python3",
      "display_name": "Python 3"
    },
    "language_info": {
      "name": "python"
    }
  },
  "cells": [
    {
      "cell_type": "markdown",
      "metadata": {
        "id": "view-in-github",
        "colab_type": "text"
      },
      "source": [
        "<a href=\"https://colab.research.google.com/github/thelucky19/ML-ADS-4NB-24/blob/01668968/tarefa_4.ipynb\" target=\"_parent\"><img src=\"https://colab.research.google.com/assets/colab-badge.svg\" alt=\"Open In Colab\"/></a>"
      ]
    },
    {
      "cell_type": "code",
      "execution_count": 1,
      "metadata": {
        "id": "kCWHaSaxQpd6"
      },
      "outputs": [],
      "source": [
        "import pandas as pd\n",
        "\n",
        "# URL do dataset Wine\n",
        "url = 'https://archive.ics.uci.edu/ml/machine-learning-databases/wine/wine.data'\n",
        "\n",
        "# Nome das colunas em português BR\n",
        "column_names_pt_br = [\n",
        "    'classe',\n",
        "    'alcool',\n",
        "    'acido_malico',\n",
        "    'cinzas',\n",
        "    'alcalinidade_de_cinzas',\n",
        "    'magnesio',\n",
        "    'fenois_totais',\n",
        "    'flavanoides',\n",
        "    'fenois_nao_flavanoides',\n",
        "    'proantocianinas',\n",
        "    'intensidade_de_cor',\n",
        "    'matiz',\n",
        "    'od280_od315_de_vinhos_diluidos',\n",
        "    'prolina'\n",
        "]\n",
        "\n",
        "# Ler o arquivo CSV com as colunas especificadas, definindo a coluna 'classe' como object\n",
        "vinhos = pd.read_csv(url, names=column_names_pt_br, dtype={'classe': object})"
      ]
    },
    {
      "cell_type": "markdown",
      "source": [
        "2. Pré-processamento dos Dados\n",
        "Separe as variáveis da seguinte forma:\n",
        "\n",
        "X: Todas as colunas, exceto classe.\n",
        "y: Coluna classe, que será a variável-alvo para a classificação."
      ],
      "metadata": {
        "id": "2Uz7iGaKQuCU"
      }
    },
    {
      "cell_type": "code",
      "source": [
        "X = vinhos.drop('classe', axis=1)\n",
        "y = vinhos['classe']"
      ],
      "metadata": {
        "id": "-Lf9OZrmQyu-"
      },
      "execution_count": 2,
      "outputs": []
    },
    {
      "cell_type": "markdown",
      "source": [
        "3. Configuração do Experimento\n",
        "Realize três experimentos, alterando o random_state para os valores 42, 17 e 24. Para cada experimento, aplique o KNN com k=3 e k=5."
      ],
      "metadata": {
        "id": "53xU-U10Q4aI"
      }
    },
    {
      "cell_type": "code",
      "source": [
        "from sklearn.model_selection import train_test_split\n",
        "from sklearn.neighbors import KNeighborsClassifier\n",
        "from sklearn.metrics import accuracy_score\n",
        "\n",
        "random_states = [42, 17, 24]\n",
        "k_values = [3, 5]\n",
        "\n",
        "for random_state in random_states:\n",
        "  X_train, X_test, y_train, y_test = train_test_split(X, y, test_size=0.3, random_state=random_state)\n",
        "\n",
        "  for k in k_values:\n",
        "    knn = KNeighborsClassifier(n_neighbors=k)\n",
        "    knn.fit(X_train, y_train)\n",
        "    y_pred = knn.predict(X_test)\n",
        "    accuracy = accuracy_score(y_test, y_pred)\n",
        "\n",
        "    print(f\"Experimento com random_state={random_state} e k={k}: Acurácia = {accuracy}\")\n"
      ],
      "metadata": {
        "colab": {
          "base_uri": "https://localhost:8080/"
        },
        "id": "XqJDEDZpQ8xH",
        "outputId": "2af53103-6f62-4b06-ab7e-b285996d0590"
      },
      "execution_count": 3,
      "outputs": [
        {
          "output_type": "stream",
          "name": "stdout",
          "text": [
            "Experimento com random_state=42 e k=3: Acurácia = 0.7407407407407407\n",
            "Experimento com random_state=42 e k=5: Acurácia = 0.7407407407407407\n",
            "Experimento com random_state=17 e k=3: Acurácia = 0.6481481481481481\n",
            "Experimento com random_state=17 e k=5: Acurácia = 0.6666666666666666\n",
            "Experimento com random_state=24 e k=3: Acurácia = 0.7407407407407407\n",
            "Experimento com random_state=24 e k=5: Acurácia = 0.6666666666666666\n"
          ]
        }
      ]
    },
    {
      "cell_type": "markdown",
      "source": [
        "4. Estrutura de Cross-Validation com KFold\n",
        "Para cada valor de random_state, siga estas instruções:\n",
        "\n",
        "Use KFold para dividir o dataset em 10 folds, com shuffle=True e o random_state especificado.\n",
        "Para cada fold, divida os dados em treino e teste.\n",
        "Treine o classificador KNN para cada valor de k (3 e 5) e avalie o desempenho usando accuracy_score.\n",
        "Armazene as acurácias de cada fold para calcular a média e o desvio padrão para cada valor de k."
      ],
      "metadata": {
        "id": "LU9Nn7c0RNtk"
      }
    },
    {
      "cell_type": "code",
      "source": [
        "from sklearn.model_selection import KFold\n",
        "import numpy as np\n",
        "\n",
        "# URL do dataset Wine\n",
        "url = 'https://archive.ics.uci.edu/ml/machine-learning-databases/wine/wine.data'\n",
        "\n",
        "# Nome das colunas em português BR\n",
        "column_names_pt_br = [\n",
        "    'classe',\n",
        "    'alcool',\n",
        "    'acido_malico',\n",
        "    'cinzas',\n",
        "    'alcalinidade_de_cinzas',\n",
        "    'magnesio',\n",
        "    'fenois_totais',\n",
        "    'flavanoides',\n",
        "    'fenois_nao_flavanoides',\n",
        "    'proantocianinas',\n",
        "    'intensidade_de_cor',\n",
        "    'matiz',\n",
        "    'od280_od315_de_vinhos_diluidos',\n",
        "    'prolina'\n",
        "]\n",
        "\n",
        "# Ler o arquivo CSV com as colunas especificadas, definindo a coluna 'classe' como object\n",
        "vinhos = pd.read_csv(url, names=column_names_pt_br, dtype={'classe': object})\n",
        "\n",
        "# Separar as variáveis\n",
        "X = vinhos.drop('classe', axis=1)\n",
        "y = vinhos['classe']\n",
        "\n",
        "random_states = [42, 17, 24]\n",
        "k_values = [3, 5]\n",
        "\n",
        "for random_state in random_states:\n",
        "    kf = KFold(n_splits=10, shuffle=True, random_state=random_state)\n",
        "    for k in k_values:\n",
        "        accuracies = []\n",
        "        for train_index, test_index in kf.split(X):\n",
        "            X_train, X_test = X.iloc[train_index], X.iloc[test_index]\n",
        "            y_train, y_test = y.iloc[train_index], y.iloc[test_index]\n",
        "\n",
        "            knn = KNeighborsClassifier(n_neighbors=k)\n",
        "            knn.fit(X_train, y_train)\n",
        "            y_pred = knn.predict(X_test)\n",
        "            accuracy = accuracy_score(y_test, y_pred)\n",
        "            accuracies.append(accuracy)\n",
        "\n",
        "        mean_accuracy = np.mean(accuracies)\n",
        "        std_accuracy = np.std(accuracies)\n",
        "        print(f\"Experimento com random_state={random_state} e k={k}:\")\n",
        "        print(f\"Acurácias: {accuracies}\")\n",
        "        print(f\"Média da Acurácia: {mean_accuracy}\")\n",
        "        print(f\"Desvio Padrão da Acurácia: {std_accuracy}\")\n",
        "        print(\"-\" * 20)"
      ],
      "metadata": {
        "colab": {
          "base_uri": "https://localhost:8080/"
        },
        "id": "xfP_pdRIRTx7",
        "outputId": "8571178b-940e-44a6-a68a-2e8d381245c5"
      },
      "execution_count": 4,
      "outputs": [
        {
          "output_type": "stream",
          "name": "stdout",
          "text": [
            "Experimento com random_state=42 e k=3:\n",
            "Acurácias: [0.8333333333333334, 0.8333333333333334, 0.7777777777777778, 0.5, 0.7222222222222222, 0.6111111111111112, 0.6666666666666666, 0.4444444444444444, 0.7647058823529411, 0.8823529411764706]\n",
            "Média da Acurácia: 0.70359477124183\n",
            "Desvio Padrão da Acurácia: 0.13918691592617136\n",
            "--------------------\n",
            "Experimento com random_state=42 e k=5:\n",
            "Acurácias: [0.7222222222222222, 0.7222222222222222, 0.6666666666666666, 0.6111111111111112, 0.6666666666666666, 0.5555555555555556, 0.7222222222222222, 0.4444444444444444, 0.8235294117647058, 0.7058823529411765]\n",
            "Média da Acurácia: 0.6640522875816993\n",
            "Desvio Padrão da Acurácia: 0.10007472964927165\n",
            "--------------------\n",
            "Experimento com random_state=17 e k=3:\n",
            "Acurácias: [0.6111111111111112, 0.6666666666666666, 0.6666666666666666, 0.6666666666666666, 0.6666666666666666, 0.6666666666666666, 0.5555555555555556, 0.7222222222222222, 0.8235294117647058, 0.9411764705882353]\n",
            "Média da Acurácia: 0.6986928104575163\n",
            "Desvio Padrão da Acurácia: 0.10403044405660643\n",
            "--------------------\n",
            "Experimento com random_state=17 e k=5:\n",
            "Acurácias: [0.6666666666666666, 0.6111111111111112, 0.7222222222222222, 0.6666666666666666, 0.6111111111111112, 0.5555555555555556, 0.5555555555555556, 0.7222222222222222, 0.8823529411764706, 0.8823529411764706]\n",
            "Média da Acurácia: 0.6875816993464052\n",
            "Desvio Padrão da Acurácia: 0.11211770116307625\n",
            "--------------------\n",
            "Experimento com random_state=24 e k=3:\n",
            "Acurácias: [0.6111111111111112, 0.7222222222222222, 0.7222222222222222, 0.9444444444444444, 0.7777777777777778, 0.6111111111111112, 0.7777777777777778, 0.6666666666666666, 0.6470588235294118, 0.6470588235294118]\n",
            "Média da Acurácia: 0.7127450980392157\n",
            "Desvio Padrão da Acurácia: 0.09681644876344142\n",
            "--------------------\n",
            "Experimento com random_state=24 e k=5:\n",
            "Acurácias: [0.6111111111111112, 0.7777777777777778, 0.6111111111111112, 0.8888888888888888, 0.8333333333333334, 0.7222222222222222, 0.7222222222222222, 0.6666666666666666, 0.7058823529411765, 0.5882352941176471]\n",
            "Média da Acurácia: 0.7127450980392157\n",
            "Desvio Padrão da Acurácia: 0.09397285976504524\n",
            "--------------------\n"
          ]
        }
      ]
    },
    {
      "cell_type": "markdown",
      "source": [
        "5. Análise dos Resultados\n",
        "\n",
        "Após realizar o k-fold cross-validation, siga as instruções abaixo:\n",
        "\n",
        "Calcule a média e o desvio padrão da acurácia para cada valor de k em cada experimento.\n",
        "Identifique o melhor valor de k para cada random_state.\n",
        "Caso haja empate nas acurácias médias para k=3 e k=5, registre o empate nos resultados."
      ],
      "metadata": {
        "id": "lkV-YtopRmEu"
      }
    },
    {
      "cell_type": "code",
      "source": [
        "random_states = [42, 17, 24]\n",
        "k_values = [3, 5]\n",
        "\n",
        "results = {}\n",
        "\n",
        "for random_state in random_states:\n",
        "    results[random_state] = {}\n",
        "    kf = KFold(n_splits=10, shuffle=True, random_state=random_state)\n",
        "    for k in k_values:\n",
        "        accuracies = []\n",
        "        for train_index, test_index in kf.split(X):\n",
        "            X_train, X_test = X.iloc[train_index], X.iloc[test_index]\n",
        "            y_train, y_test = y.iloc[train_index], y.iloc[test_index]\n",
        "\n",
        "            knn = KNeighborsClassifier(n_neighbors=k)\n",
        "            knn.fit(X_train, y_train)\n",
        "            y_pred = knn.predict(X_test)\n",
        "            accuracy = accuracy_score(y_test, y_pred)\n",
        "            accuracies.append(accuracy)\n",
        "\n",
        "        mean_accuracy = np.mean(accuracies)\n",
        "        std_accuracy = np.std(accuracies)\n",
        "        results[random_state][k] = {'mean': mean_accuracy, 'std': std_accuracy, 'accuracies': accuracies}\n",
        "        print(f\"Experimento com random_state={random_state} e k={k}:\")\n",
        "        print(f\"Acurácias: {accuracies}\")\n",
        "        print(f\"Média da Acurácia: {mean_accuracy}\")\n",
        "        print(f\"Desvio Padrão da Acurácia: {std_accuracy}\")\n",
        "        print(\"-\" * 20)\n",
        "\n",
        "# Análise final\n",
        "print(\"\\nAnálise Final:\")\n",
        "for random_state, k_results in results.items():\n",
        "    mean_accuracy_k3 = k_results[3]['mean']\n",
        "    mean_accuracy_k5 = k_results[5]['mean']\n",
        "\n",
        "    if mean_accuracy_k3 > mean_accuracy_k5:\n",
        "        best_k = 3\n",
        "    elif mean_accuracy_k5 > mean_accuracy_k3:\n",
        "        best_k = 5\n",
        "    else:\n",
        "        best_k = \"Empate entre k=3 e k=5\"\n",
        "\n",
        "    print(f\"Experimento com random_state={random_state}: Melhor k = {best_k}\")\n",
        "    print(f\"    Média k=3: {mean_accuracy_k3:.4f}\")\n",
        "    print(f\"    Média k=5: {mean_accuracy_k5:.4f}\")"
      ],
      "metadata": {
        "colab": {
          "base_uri": "https://localhost:8080/"
        },
        "id": "L8ODuPPKRm-E",
        "outputId": "7ded5f31-28ea-41d1-cca2-0afdb691e2ea"
      },
      "execution_count": 5,
      "outputs": [
        {
          "output_type": "stream",
          "name": "stdout",
          "text": [
            "Experimento com random_state=42 e k=3:\n",
            "Acurácias: [0.8333333333333334, 0.8333333333333334, 0.7777777777777778, 0.5, 0.7222222222222222, 0.6111111111111112, 0.6666666666666666, 0.4444444444444444, 0.7647058823529411, 0.8823529411764706]\n",
            "Média da Acurácia: 0.70359477124183\n",
            "Desvio Padrão da Acurácia: 0.13918691592617136\n",
            "--------------------\n",
            "Experimento com random_state=42 e k=5:\n",
            "Acurácias: [0.7222222222222222, 0.7222222222222222, 0.6666666666666666, 0.6111111111111112, 0.6666666666666666, 0.5555555555555556, 0.7222222222222222, 0.4444444444444444, 0.8235294117647058, 0.7058823529411765]\n",
            "Média da Acurácia: 0.6640522875816993\n",
            "Desvio Padrão da Acurácia: 0.10007472964927165\n",
            "--------------------\n",
            "Experimento com random_state=17 e k=3:\n",
            "Acurácias: [0.6111111111111112, 0.6666666666666666, 0.6666666666666666, 0.6666666666666666, 0.6666666666666666, 0.6666666666666666, 0.5555555555555556, 0.7222222222222222, 0.8235294117647058, 0.9411764705882353]\n",
            "Média da Acurácia: 0.6986928104575163\n",
            "Desvio Padrão da Acurácia: 0.10403044405660643\n",
            "--------------------\n",
            "Experimento com random_state=17 e k=5:\n",
            "Acurácias: [0.6666666666666666, 0.6111111111111112, 0.7222222222222222, 0.6666666666666666, 0.6111111111111112, 0.5555555555555556, 0.5555555555555556, 0.7222222222222222, 0.8823529411764706, 0.8823529411764706]\n",
            "Média da Acurácia: 0.6875816993464052\n",
            "Desvio Padrão da Acurácia: 0.11211770116307625\n",
            "--------------------\n",
            "Experimento com random_state=24 e k=3:\n",
            "Acurácias: [0.6111111111111112, 0.7222222222222222, 0.7222222222222222, 0.9444444444444444, 0.7777777777777778, 0.6111111111111112, 0.7777777777777778, 0.6666666666666666, 0.6470588235294118, 0.6470588235294118]\n",
            "Média da Acurácia: 0.7127450980392157\n",
            "Desvio Padrão da Acurácia: 0.09681644876344142\n",
            "--------------------\n",
            "Experimento com random_state=24 e k=5:\n",
            "Acurácias: [0.6111111111111112, 0.7777777777777778, 0.6111111111111112, 0.8888888888888888, 0.8333333333333334, 0.7222222222222222, 0.7222222222222222, 0.6666666666666666, 0.7058823529411765, 0.5882352941176471]\n",
            "Média da Acurácia: 0.7127450980392157\n",
            "Desvio Padrão da Acurácia: 0.09397285976504524\n",
            "--------------------\n",
            "\n",
            "Análise Final:\n",
            "Experimento com random_state=42: Melhor k = 3\n",
            "    Média k=3: 0.7036\n",
            "    Média k=5: 0.6641\n",
            "Experimento com random_state=17: Melhor k = 3\n",
            "    Média k=3: 0.6987\n",
            "    Média k=5: 0.6876\n",
            "Experimento com random_state=24: Melhor k = Empate entre k=3 e k=5\n",
            "    Média k=3: 0.7127\n",
            "    Média k=5: 0.7127\n"
          ]
        }
      ]
    }
  ]
}