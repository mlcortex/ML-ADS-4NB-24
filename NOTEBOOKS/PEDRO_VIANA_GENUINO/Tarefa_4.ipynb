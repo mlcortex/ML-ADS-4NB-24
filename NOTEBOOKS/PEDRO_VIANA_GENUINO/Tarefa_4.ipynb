{
  "nbformat": 4,
  "nbformat_minor": 0,
  "metadata": {
    "colab": {
      "provenance": []
    },
    "kernelspec": {
      "name": "python3",
      "display_name": "Python 3"
    },
    "language_info": {
      "name": "python"
    }
  },
  "cells": [
    {
      "cell_type": "code",
      "execution_count": 2,
      "metadata": {
        "id": "5zbbyB9OOJbp"
      },
      "outputs": [],
      "source": [
        "import pandas as pd\n",
        "from sklearn.model_selection import train_test_split\n",
        "from sklearn.neighbors import KNeighborsClassifier\n",
        "from sklearn.metrics import accuracy_score\n",
        "\n",
        "# URL do dataset Wine\n",
        "url = 'https://archive.ics.uci.edu/ml/machine-learning-databases/wine/wine.data'\n",
        "\n",
        "# Nome das colunas em português BR\n",
        "column_names_pt_br = [\n",
        "    'classe',\n",
        "    'alcool',\n",
        "    'acido_malico',\n",
        "    'cinzas',\n",
        "    'alcalinidade_de_cinzas',\n",
        "    'magnesio',\n",
        "    'fenois_totais',\n",
        "    'flavanoides',\n",
        "    'fenois_nao_flavanoides',\n",
        "    'proantocianinas',\n",
        "    'intensidade_de_cor',\n",
        "    'matiz',\n",
        "    'od280_od315_de_vinhos_diluidos',\n",
        "    'prolina'\n",
        "]\n",
        "\n",
        "# Ler o arquivo CSV com as colunas especificadas, definindo a coluna 'classe' como object\n",
        "vinhos = pd.read_csv(url, names=column_names_pt_br, dtype={'classe': object})\n",
        "\n",
        "# Separando variáveis X e y\n",
        "X = vinhos.drop(columns=['classe'])\n",
        "y = vinhos['classe']"
      ]
    },
    {
      "cell_type": "markdown",
      "source": [
        "###Random_state 42"
      ],
      "metadata": {
        "id": "zV3oIw1MNnhQ"
      }
    },
    {
      "cell_type": "code",
      "source": [
        "# Divisão dos dados em treino e teste\n",
        "X_treino, X_teste, y_treino, y_teste = train_test_split(X, y, test_size=0.3, random_state=42)\n",
        "\n",
        "print(\"Modelo com random_state = 42\")\n",
        "\n",
        "# Resultados\n",
        "print(\"Tamanho do conjunto de treino:\", X_treino.shape)\n",
        "print(\"Tamanho do conjunto de teste:\", X_teste.shape)\n",
        "\n",
        "# Modelo com k=3\n",
        "knn_k3 = KNeighborsClassifier(n_neighbors=3)\n",
        "knn_k3.fit(X_treino, y_treino)  # Treinamento\n",
        "y_pred_k3 = knn_k3.predict(X_teste)  # Previsões no conjunto de teste\n",
        "accuracy_k3 = accuracy_score(y_teste, y_pred_k3)  # Avaliação\n",
        "\n",
        "# Modelo com k=5\n",
        "knn_k5 = KNeighborsClassifier(n_neighbors=5)\n",
        "knn_k5.fit(X_treino, y_treino)  # Treinamento\n",
        "y_pred_k5 = knn_k5.predict(X_teste)  # Previsões no conjunto de teste\n",
        "accuracy_k5 = accuracy_score(y_teste, y_pred_k5)  # Avaliação\n",
        "\n",
        "# Exibindo os resultados\n",
        "print(f\"Acurácia do modelo com k=3: {accuracy_k3:.4f}\")\n",
        "print(f\"Acurácia do modelo com k=5: {accuracy_k5:.4f}\")\n",
        "\n",
        "# Comparação\n",
        "if accuracy_k3 > accuracy_k5:\n",
        "    print(\"O modelo com k=3 apresentou melhor desempenho.\")\n",
        "elif accuracy_k3 < accuracy_k5:\n",
        "    print(\"O modelo com k=5 apresentou melhor desempenho.\")\n",
        "else:\n",
        "    print(\"Ambos os modelos apresentaram o mesmo desempenho.\")"
      ],
      "metadata": {
        "colab": {
          "base_uri": "https://localhost:8080/"
        },
        "id": "lLF_oJ0sNJSC",
        "outputId": "a5b9338f-8fba-4b60-febd-5302b15165e0"
      },
      "execution_count": 4,
      "outputs": [
        {
          "output_type": "stream",
          "name": "stdout",
          "text": [
            "Modelo com random_state = 42\n",
            "Tamanho do conjunto de treino: (124, 13)\n",
            "Tamanho do conjunto de teste: (54, 13)\n",
            "Acurácia do modelo com k=3: 0.7407\n",
            "Acurácia do modelo com k=5: 0.7407\n",
            "Ambos os modelos apresentaram o mesmo desempenho.\n"
          ]
        }
      ]
    },
    {
      "cell_type": "markdown",
      "source": [
        "###Random state 17"
      ],
      "metadata": {
        "id": "7WsAaxeFN6lQ"
      }
    },
    {
      "cell_type": "code",
      "source": [
        "# Divisão dos dados em treino e teste\n",
        "X_treino, X_teste, y_treino, y_teste = train_test_split(X, y, test_size=0.3, random_state=17)\n",
        "\n",
        "print(\"Modelo com random_state = 17\")\n",
        "\n",
        "# Resultados\n",
        "print(\"Tamanho do conjunto de treino:\", X_treino.shape)\n",
        "print(\"Tamanho do conjunto de teste:\", X_teste.shape)\n",
        "\n",
        "# Modelo com k=3\n",
        "knn_k3 = KNeighborsClassifier(n_neighbors=3)\n",
        "knn_k3.fit(X_treino, y_treino)  # Treinamento\n",
        "y_pred_k3 = knn_k3.predict(X_teste)  # Previsões no conjunto de teste\n",
        "accuracy_k3 = accuracy_score(y_teste, y_pred_k3)  # Avaliação\n",
        "\n",
        "# Modelo com k=5\n",
        "knn_k5 = KNeighborsClassifier(n_neighbors=5)\n",
        "knn_k5.fit(X_treino, y_treino)  # Treinamento\n",
        "y_pred_k5 = knn_k5.predict(X_teste)  # Previsões no conjunto de teste\n",
        "accuracy_k5 = accuracy_score(y_teste, y_pred_k5)  # Avaliação\n",
        "\n",
        "# Exibindo os resultados\n",
        "print(f\"Acurácia do modelo com k=3: {accuracy_k3:.4f}\")\n",
        "print(f\"Acurácia do modelo com k=5: {accuracy_k5:.4f}\")\n",
        "\n",
        "# Comparação\n",
        "if accuracy_k3 > accuracy_k5:\n",
        "    print(\"O modelo com k=3 apresentou melhor desempenho.\")\n",
        "elif accuracy_k3 < accuracy_k5:\n",
        "    print(\"O modelo com k=5 apresentou melhor desempenho.\")\n",
        "else:\n",
        "    print(\"Ambos os modelos apresentaram o mesmo desempenho.\")"
      ],
      "metadata": {
        "colab": {
          "base_uri": "https://localhost:8080/"
        },
        "id": "ubh6mMnTNiFM",
        "outputId": "ac0cd0c2-0e77-4168-f760-e3e2e0589fbb"
      },
      "execution_count": 5,
      "outputs": [
        {
          "output_type": "stream",
          "name": "stdout",
          "text": [
            "Modelo com random_state = 17\n",
            "Tamanho do conjunto de treino: (124, 13)\n",
            "Tamanho do conjunto de teste: (54, 13)\n",
            "Acurácia do modelo com k=3: 0.6481\n",
            "Acurácia do modelo com k=5: 0.6667\n",
            "O modelo com k=5 apresentou melhor desempenho.\n"
          ]
        }
      ]
    },
    {
      "cell_type": "markdown",
      "source": [
        "###Random state 24"
      ],
      "metadata": {
        "id": "eD--RNCCOCEf"
      }
    },
    {
      "cell_type": "code",
      "source": [
        "# Divisão dos dados em treino e teste\n",
        "X_treino, X_teste, y_treino, y_teste = train_test_split(X, y, test_size=0.3, random_state=24)\n",
        "\n",
        "print(\"Modelo com random_state = 24\")\n",
        "\n",
        "# Resultados\n",
        "print(\"Tamanho do conjunto de treino:\", X_treino.shape)\n",
        "print(\"Tamanho do conjunto de teste:\", X_teste.shape)\n",
        "\n",
        "# Modelo com k=3\n",
        "knn_k3 = KNeighborsClassifier(n_neighbors=3)\n",
        "knn_k3.fit(X_treino, y_treino)  # Treinamento\n",
        "y_pred_k3 = knn_k3.predict(X_teste)  # Previsões no conjunto de teste\n",
        "accuracy_k3 = accuracy_score(y_teste, y_pred_k3)  # Avaliação\n",
        "\n",
        "# Modelo com k=5\n",
        "knn_k5 = KNeighborsClassifier(n_neighbors=5)\n",
        "knn_k5.fit(X_treino, y_treino)  # Treinamento\n",
        "y_pred_k5 = knn_k5.predict(X_teste)  # Previsões no conjunto de teste\n",
        "accuracy_k5 = accuracy_score(y_teste, y_pred_k5)  # Avaliação\n",
        "\n",
        "# Exibindo os resultados\n",
        "print(f\"Acurácia do modelo com k=3: {accuracy_k3:.4f}\")\n",
        "print(f\"Acurácia do modelo com k=5: {accuracy_k5:.4f}\")\n",
        "\n",
        "# Comparação\n",
        "if accuracy_k3 > accuracy_k5:\n",
        "    print(\"O modelo com k=3 apresentou melhor desempenho.\")\n",
        "elif accuracy_k3 < accuracy_k5:\n",
        "    print(\"O modelo com k=5 apresentou melhor desempenho.\")\n",
        "else:\n",
        "    print(\"Ambos os modelos apresentaram o mesmo desempenho.\")"
      ],
      "metadata": {
        "colab": {
          "base_uri": "https://localhost:8080/"
        },
        "id": "zStwkD6vN17o",
        "outputId": "8c270a06-77d5-492d-9d69-233515fa890d"
      },
      "execution_count": 6,
      "outputs": [
        {
          "output_type": "stream",
          "name": "stdout",
          "text": [
            "Modelo com random_state = 24\n",
            "Tamanho do conjunto de treino: (124, 13)\n",
            "Tamanho do conjunto de teste: (54, 13)\n",
            "Acurácia do modelo com k=3: 0.7407\n",
            "Acurácia do modelo com k=5: 0.6667\n",
            "O modelo com k=3 apresentou melhor desempenho.\n"
          ]
        }
      ]
    },
    {
      "cell_type": "markdown",
      "source": [
        "#4. Estrutura de Cross-Validation com KFold / 5. Análise dos Resultados"
      ],
      "metadata": {
        "id": "KmUnbS_PP8oq"
      }
    },
    {
      "cell_type": "code",
      "source": [
        "from sklearn.model_selection import KFold\n",
        "import numpy as np\n",
        "\n",
        "# Configuração dos valores de random_state\n",
        "random_states = [42, 17, 24]\n",
        "\n",
        "# Loop para cada random_state\n",
        "for random_state in random_states:\n",
        "    print(f\"\\nRandom State: {random_state}\")\n",
        "    # Configuração do KFold\n",
        "    kf = KFold(n_splits=10, shuffle=True, random_state=random_state)\n",
        "\n",
        "    # Armazenamento das acurácias para cada valor de k\n",
        "    accuracies_k3 = []\n",
        "    accuracies_k5 = []\n",
        "\n",
        "    # K-Fold Cross-Validation\n",
        "    for train_index, test_index in kf.split(X):\n",
        "        X_train, X_test = X.iloc[train_index], X.iloc[test_index]\n",
        "        y_train, y_test = y.iloc[train_index], y.iloc[test_index]\n",
        "\n",
        "        # Modelo com k=3\n",
        "        knn_k3 = KNeighborsClassifier(n_neighbors=3)\n",
        "        knn_k3.fit(X_train, y_train)\n",
        "        y_pred_k3 = knn_k3.predict(X_test)\n",
        "        accuracy_k3 = accuracy_score(y_test, y_pred_k3)\n",
        "        accuracies_k3.append(accuracy_k3)\n",
        "\n",
        "        # Modelo com k=5\n",
        "        knn_k5 = KNeighborsClassifier(n_neighbors=5)\n",
        "        knn_k5.fit(X_train, y_train)\n",
        "        y_pred_k5 = knn_k5.predict(X_test)\n",
        "        accuracy_k5 = accuracy_score(y_test, y_pred_k5)\n",
        "        accuracies_k5.append(accuracy_k5)\n",
        "\n",
        "    # Cálculo da média e desvio padrão\n",
        "    mean_k3 = np.mean(accuracies_k3)\n",
        "    std_k3 = np.std(accuracies_k3)\n",
        "    mean_k5 = np.mean(accuracies_k5)\n",
        "    std_k5 = np.std(accuracies_k5)\n",
        "\n",
        "    # Exibindo os resultados\n",
        "    print(f\"  k=3: Média da Acurácia = {mean_k3:.4f}, Desvio Padrão = {std_k3:.4f}\")\n",
        "    print(f\"  k=5: Média da Acurácia = {mean_k5:.4f}, Desvio Padrão = {std_k5:.4f}\")\n",
        "\n",
        "    # Comparação de desempenho\n",
        "    if mean_k3 > mean_k5:\n",
        "        print(\"  Melhor desempenho geral: k=3\")\n",
        "    elif mean_k3 < mean_k5:\n",
        "        print(\"  Melhor desempenho geral: k=5\")\n",
        "    else:\n",
        "        print(\"  Ambos os modelos tiveram desempenho igual.\")\n"
      ],
      "metadata": {
        "colab": {
          "base_uri": "https://localhost:8080/"
        },
        "id": "cvDvWDRhN4mX",
        "outputId": "4cd9db18-1883-4fb2-f84b-4f75700041be"
      },
      "execution_count": 7,
      "outputs": [
        {
          "output_type": "stream",
          "name": "stdout",
          "text": [
            "\n",
            "Random State: 42\n",
            "  k=3: Média da Acurácia = 0.7036, Desvio Padrão = 0.1392\n",
            "  k=5: Média da Acurácia = 0.6641, Desvio Padrão = 0.1001\n",
            "  Melhor desempenho geral: k=3\n",
            "\n",
            "Random State: 17\n",
            "  k=3: Média da Acurácia = 0.6987, Desvio Padrão = 0.1040\n",
            "  k=5: Média da Acurácia = 0.6876, Desvio Padrão = 0.1121\n",
            "  Melhor desempenho geral: k=3\n",
            "\n",
            "Random State: 24\n",
            "  k=3: Média da Acurácia = 0.7127, Desvio Padrão = 0.0968\n",
            "  k=5: Média da Acurácia = 0.7127, Desvio Padrão = 0.0940\n",
            "  Ambos os modelos tiveram desempenho igual.\n"
          ]
        }
      ]
    }
  ]
}