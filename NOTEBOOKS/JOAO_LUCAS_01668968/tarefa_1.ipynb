{
  "cells": [
    {
      "cell_type": "code",
      "execution_count": 29,
      "metadata": {
        "id": "0NJD0sK1G0kZ"
      },
      "outputs": [],
      "source": [
        "valores = [4, 6, 3, 4, 5, 8, 4, 2]"
      ]
    },
    {
      "cell_type": "markdown",
      "metadata": {},
      "source": [
        "De forma mais direta:"
      ]
    },
    {
      "cell_type": "code",
      "execution_count": null,
      "metadata": {},
      "outputs": [],
      "source": [
        "print(f\"Max: {max(valores)}\")\n",
        "print(f\"Min: {min(valores)}\")\n",
        "print(f\"Mean: {sum(valores) / len(valores)}\")\n",
        "import numpy as np\n",
        "print(f\"Median: {np.median(valores)}\")\n",
        "print(f\"Std Dev: {np.std(valores, ddof = 1)}\")\n",
        "#std do numpy divide por N default, ddof = 1 e divide por N - 1 igual ao pandas\n"
      ]
    },
    {
      "cell_type": "markdown",
      "metadata": {},
      "source": [
        "Ou entao, via pandas:"
      ]
    },
    {
      "cell_type": "code",
      "execution_count": null,
      "metadata": {},
      "outputs": [],
      "source": [
        "import pandas as pd\n",
        "df = pd.DataFrame(valores)\n",
        "print(f'max da coluna= {df[0].max()}')\n",
        "print(f'min da coluna= {df[0].min()}')\n",
        "print(f'mean da coluna= {df[0].mean()}')\n",
        "print(f'median da coluna= {df[0].median()}')\n",
        "print(f'std da coluna= {df[0].std()}')"
      ]
    }
  ],
  "metadata": {
    "colab": {
      "provenance": []
    },
    "kernelspec": {
      "display_name": "Python 3",
      "name": "python3"
    },
    "language_info": {
      "name": "python"
    }
  },
  "nbformat": 4,
  "nbformat_minor": 0
}
