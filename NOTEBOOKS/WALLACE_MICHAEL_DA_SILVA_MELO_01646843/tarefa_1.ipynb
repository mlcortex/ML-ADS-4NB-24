{
  "nbformat": 4,
  "nbformat_minor": 0,
  "metadata": {
    "colab": {
      "provenance": []
    },
    "kernelspec": {
      "name": "python3",
      "display_name": "Python 3"
    },
    "language_info": {
      "name": "python"
    }
  },
  "cells": [
    {
      "cell_type": "markdown",
      "source": [
        "Crie um notebook que apresente as seguintes informações sobre a lista:\n",
        "\n",
        "*   Valor máximo\n",
        "*   Valor mínimo\n",
        "*   Média aritmética dos valores\n",
        "*   Mediana dos valores\n",
        "*   Desvio padrão dos valores.\n",
        "\n",
        "\n",
        "valores = [4, 6, 3, 4, 5, 8, 4, 2]"
      ],
      "metadata": {
        "id": "7IF6N0ECLZ-v"
      }
    },
    {
      "cell_type": "code",
      "execution_count": 1,
      "metadata": {
        "colab": {
          "base_uri": "https://localhost:8080/"
        },
        "id": "0TBUNNkULX1M",
        "outputId": "8d4e6654-64e7-43f5-85de-43dc1e9dd6e3"
      },
      "outputs": [
        {
          "output_type": "stream",
          "name": "stdout",
          "text": [
            "Valor máximo: 8\n",
            "Valor mínimo: 2\n",
            "Média aritmética: 4.5\n",
            "Mediana: 4.0\n",
            "Desvio padrão: 1.8516401995451028\n"
          ]
        }
      ],
      "source": [
        "valores = [4, 6, 3, 4, 5, 8, 4, 2]\n",
        "\n",
        "# Valor máximo\n",
        "valor_maximo = max(valores)\n",
        "print(\"Valor máximo:\", valor_maximo)\n",
        "\n",
        "# Valor mínimo\n",
        "valor_minimo = min(valores)\n",
        "print(\"Valor mínimo:\", valor_minimo)\n",
        "\n",
        "# Média aritmética\n",
        "media = sum(valores) / len(valores)\n",
        "print(\"Média aritmética:\", media)\n",
        "\n",
        "# Mediana\n",
        "valores_ordenados = sorted(valores)\n",
        "n = len(valores_ordenados)\n",
        "if n % 2 == 0:\n",
        "  mediana = (valores_ordenados[n//2 - 1] + valores_ordenados[n//2]) / 2\n",
        "else:\n",
        "  mediana = valores_ordenados[n//2]\n",
        "print(\"Mediana:\", mediana)\n",
        "\n",
        "# Desvio padrão\n",
        "import statistics\n",
        "desvio_padrao = statistics.stdev(valores)\n",
        "print(\"Desvio padrão:\", desvio_padrao)"
      ]
    }
  ]
}