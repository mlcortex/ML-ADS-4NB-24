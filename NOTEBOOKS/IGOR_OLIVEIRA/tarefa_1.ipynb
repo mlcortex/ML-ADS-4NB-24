{
 "cells": [
  {
   "cell_type": "markdown",
   "id": "d1bdaa87",
   "metadata": {},
   "source": [
    "# Análise da Lista de Valores"
   ]
  },
  {
   "cell_type": "code",
   "execution_count": null,
   "id": "065891f8",
   "metadata": {},
   "outputs": [],
   "source": [
    "\n",
    "valores = [4, 6, 3, 4, 5, 8, 4, 2]\n"
   ]
  },
  {
   "cell_type": "code",
   "execution_count": null,
   "id": "170e7b26",
   "metadata": {},
   "outputs": [],
   "source": [
    "\n",
    "import numpy as np\n",
    "import pandas as pd\n"
   ]
  },
  {
   "cell_type": "code",
   "execution_count": null,
   "id": "2321338c",
   "metadata": {},
   "outputs": [],
   "source": [
    "\n",
    "# Cálculos\n",
    "valor_maximo = max(valores)\n",
    "valor_minimo = min(valores)\n",
    "media_aritmetica = np.mean(valores)\n",
    "mediana = np.median(valores)\n",
    "desvio_padrao = np.std(valores)\n",
    "\n",
    "# Exibindo resultados em DataFrame\n",
    "df = pd.DataFrame({\n",
    "    \"Métrica\": [\"Valor Máximo\", \"Valor Mínimo\", \"Média Aritmética\", \"Mediana\", \"Desvio Padrão\"],\n",
    "    \"Valor\": [valor_maximo, valor_minimo, media_aritmetica, mediana, desvio_padrao]\n",
    "})\n",
    "\n",
    "df\n"
   ]
  }
 ],
 "metadata": {},
 "nbformat": 4,
 "nbformat_minor": 5
}
