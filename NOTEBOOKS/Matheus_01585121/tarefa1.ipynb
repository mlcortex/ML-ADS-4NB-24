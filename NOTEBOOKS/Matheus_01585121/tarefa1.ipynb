{
  "cells": [
    {
      "cell_type": "code",
      "execution_count": 1,
      "metadata": {},
      "outputs": [],
      "source": [
        "import numpy as np"
      ]
    },
    {
      "cell_type": "code",
      "execution_count": 2,
      "metadata": {
        "colab": {
          "base_uri": "https://localhost:8080/",
          "height": 453
        },
        "id": "ZJoY0KcANNnW",
        "outputId": "a0e267db-ef61-462c-c0a6-3be3081e317d"
      },
      "outputs": [
        {
          "name": "stdout",
          "output_type": "stream",
          "text": [
            "Valor máximo: 8\n",
            "Valor mínimo: 2\n",
            "Média aritmética dos valores: 4.5\n",
            "Mediana dos valores: 4.0\n",
            "Desvio padrão dos valores: 1.7320508075688772\n"
          ]
        }
      ],
      "source": [
        "\n",
        "valores = [4, 6, 3, 4, 5, 8, 4, 2]\n",
        "\n",
        "valor_maximo = max(valores)\n",
        "\n",
        "valor_minimo = min(valores)\n",
        "\n",
        "media = sum(valores) / len(valores)\n",
        "\n",
        "valores_ordenados = sorted(valores)\n",
        "n = len(valores_ordenados)\n",
        "if n % 2 == 0:\n",
        "  mediana = (valores_ordenados[n//2 - 1] + valores_ordenados[n//2]) / 2\n",
        "else:\n",
        "  mediana = valores_ordenados[n//2]\n",
        "\n",
        "desvio_padrao = np.std(valores)\n",
        "\n",
        "print('Valor máximo:', valor_maximo)\n",
        "print('Valor mínimo:', valor_minimo)\n",
        "print('Média aritmética dos valores:', media)\n",
        "print('Mediana dos valores:', mediana)\n",
        "print('Desvio padrão dos valores:', desvio_padrao)\n",
        "\n",
        "\n",
        "\n",
        "\n"
      ]
    },
    {
      "cell_type": "markdown",
      "metadata": {},
      "source": []
    },
    {
      "cell_type": "code",
      "execution_count": null,
      "metadata": {
        "id": "YeIGpMJrNVBQ"
      },
      "outputs": [],
      "source": []
    }
  ],
  "metadata": {
    "colab": {
      "provenance": []
    },
    "kernelspec": {
      "display_name": "Python 3",
      "name": "python3"
    },
    "language_info": {
      "codemirror_mode": {
        "name": "ipython",
        "version": 3
      },
      "file_extension": ".py",
      "mimetype": "text/x-python",
      "name": "python",
      "nbconvert_exporter": "python",
      "pygments_lexer": "ipython3",
      "version": "3.12.3"
    }
  },
  "nbformat": 4,
  "nbformat_minor": 0
}
