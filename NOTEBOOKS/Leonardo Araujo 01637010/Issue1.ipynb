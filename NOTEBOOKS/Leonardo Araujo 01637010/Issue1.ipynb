{
  "cells": [
    {
      "cell_type": "code",
      "execution_count": 1,
      "metadata": {
        "id": "FStLjWW7ui8Z"
      },
      "outputs": [],
      "source": [
        "import statistics as sts"
      ]
    },
    {
      "cell_type": "code",
      "execution_count": 2,
      "metadata": {
        "id": "_FuRG4u1sy70"
      },
      "outputs": [],
      "source": [
        "valores = [4, 6, 3, 4, 5, 8, 4, 2]"
      ]
    },
    {
      "cell_type": "code",
      "execution_count": null,
      "metadata": {
        "colab": {
          "base_uri": "https://localhost:8080/"
        },
        "id": "vzJEQEMGtUNy",
        "outputId": "600a527a-4ab9-4b62-f739-5d0b35c6806a"
      },
      "outputs": [],
      "source": [
        "print(max(valores))\n",
        "print(min(valores))\n",
        "print(sts.mean(valores))\n",
        "print(sts.median(valores))\n",
        "print(sts.stdev(valores))"
      ]
    }
  ],
  "metadata": {
    "colab": {
      "provenance": []
    },
    "kernelspec": {
      "display_name": "Python 3",
      "name": "python3"
    },
    "language_info": {
      "codemirror_mode": {
        "name": "ipython",
        "version": 3
      },
      "file_extension": ".py",
      "mimetype": "text/x-python",
      "name": "python",
      "nbconvert_exporter": "python",
      "pygments_lexer": "ipython3",
      "version": "3.12.6"
    }
  },
  "nbformat": 4,
  "nbformat_minor": 0
}
