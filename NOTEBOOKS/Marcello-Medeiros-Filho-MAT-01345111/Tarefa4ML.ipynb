{
  "nbformat": 4,
  "nbformat_minor": 0,
  "metadata": {
    "colab": {
      "provenance": []
    },
    "kernelspec": {
      "name": "python3",
      "display_name": "Python 3"
    },
    "language_info": {
      "name": "python"
    }
  },
  "cells": [
    {
      "cell_type": "markdown",
      "source": [
        "# **Exercício Prático: Avaliação de Classificadores KNN com K-Fold Cross-Validation - Dataset Vinhos (UCI)**"
      ],
      "metadata": {
        "id": "nmG6G0jHN_J3"
      }
    },
    {
      "cell_type": "markdown",
      "source": [
        "## **Objetivo**\n",
        "\n",
        "Neste exercício, você implementará um classificador K-Nearest Neighbors (KNN) utilizando o dataset de vinhos da UCI, avaliando seu desempenho com diferentes configurações de random_state e número de vizinhos k. A avaliação será realizada por meio de k-fold cross-validation usando a função KFold da biblioteca sklearn. Este exercício reforçará a compreensão do processo de validação cruzada e a importância da escolha de hiperparâmetros no KNN."
      ],
      "metadata": {
        "id": "g5MEMUbHOMaC"
      }
    },
    {
      "cell_type": "markdown",
      "source": [
        "## **1. Leitura dos Dados**"
      ],
      "metadata": {
        "id": "HFWSHQFgOgH9"
      }
    },
    {
      "cell_type": "code",
      "execution_count": null,
      "metadata": {
        "id": "sCwhIJzkN64r"
      },
      "outputs": [],
      "source": [
        "import pandas as pd\n",
        "\n",
        "# URL do dataset Wine\n",
        "url = 'https://archive.ics.uci.edu/ml/machine-learning-databases/wine/wine.data'\n",
        "\n",
        "# Nome das colunas em português BR\n",
        "column_names_pt_br = [\n",
        "    'classe',\n",
        "    'alcool',\n",
        "    'acido_malico',\n",
        "    'cinzas',\n",
        "    'alcalinidade_de_cinzas',\n",
        "    'magnesio',\n",
        "    'fenois_totais',\n",
        "    'flavanoides',\n",
        "    'fenois_nao_flavanoides',\n",
        "    'proantocianinas',\n",
        "    'intensidade_de_cor',\n",
        "    'matiz',\n",
        "    'od280_od315_de_vinhos_diluidos',\n",
        "    'prolina'\n",
        "]\n",
        "\n",
        "# Ler o arquivo CSV com as colunas especificadas, definindo a coluna 'classe' como object\n",
        "vinhos = pd.read_csv(url, names=column_names_pt_br, dtype={'classe': object})"
      ]
    },
    {
      "cell_type": "markdown",
      "source": [
        "## **2. Pré-processamento dos Dados**"
      ],
      "metadata": {
        "id": "bG3y-XO1OykO"
      }
    },
    {
      "cell_type": "code",
      "source": [
        "# Separando as variáveis\n",
        "X = vinhos.drop('classe', axis=1)\n",
        "y = vinhos['classe']"
      ],
      "metadata": {
        "id": "Sz9lUz36O3zk"
      },
      "execution_count": null,
      "outputs": []
    },
    {
      "cell_type": "markdown",
      "source": [
        "## **3. Configuração do Experimento e Estrutura de Cross-Validation com KFold**"
      ],
      "metadata": {
        "id": "fihxnn6SPFgx"
      }
    },
    {
      "cell_type": "code",
      "source": [
        "from sklearn.model_selection import KFold\n",
        "from sklearn.neighbors import KNeighborsClassifier\n",
        "from sklearn.metrics import accuracy_score\n",
        "import numpy as np\n",
        "\n",
        "random_states = [42, 17, 24]\n",
        "k_values = [3, 5]\n",
        "\n",
        "for random_state in random_states:\n",
        "  kf = KFold(n_splits=5, shuffle=True, random_state=random_state) # Define o KFold com 5 folds e shuffle\n",
        "  for k in k_values:\n",
        "    knn = KNeighborsClassifier(n_neighbors=k)\n",
        "    accuracies = []\n",
        "    for train_index, test_index in kf.split(X):\n",
        "      X_train, X_test = X.iloc[train_index], X.iloc[test_index]\n",
        "      y_train, y_test = y.iloc[train_index], y.iloc[test_index]\n",
        "      knn.fit(X_train, y_train)\n",
        "      y_pred = knn.predict(X_test)\n",
        "      accuracy = accuracy_score(y_test, y_pred)\n",
        "      accuracies.append(accuracy)\n",
        "\n",
        "    mean_accuracy = np.mean(accuracies)\n",
        "    print(f\"Experimento: random_state={random_state}, k={k}, Acurácia Média: {mean_accuracy}\")"
      ],
      "metadata": {
        "colab": {
          "base_uri": "https://localhost:8080/"
        },
        "id": "F3CtY-0zPZUr",
        "outputId": "b3a18393-f6d9-4bf9-d3d8-dea6741b4e1b"
      },
      "execution_count": null,
      "outputs": [
        {
          "output_type": "stream",
          "name": "stdout",
          "text": [
            "Experimento: random_state=42, k=3, Acurácia Média: 0.7082539682539682\n",
            "Experimento: random_state=42, k=5, Acurácia Média: 0.6746031746031746\n",
            "Experimento: random_state=17, k=3, Acurácia Média: 0.7087301587301587\n",
            "Experimento: random_state=17, k=5, Acurácia Média: 0.6974603174603173\n",
            "Experimento: random_state=24, k=3, Acurácia Média: 0.7020634920634921\n",
            "Experimento: random_state=24, k=5, Acurácia Média: 0.6907936507936508\n"
          ]
        }
      ]
    },
    {
      "cell_type": "markdown",
      "source": [
        "## **4. Estrutura de Cross-Validation com KFold e Análise dos Resultados**\n"
      ],
      "metadata": {
        "id": "3RP-90KzPsjF"
      }
    },
    {
      "cell_type": "code",
      "source": [
        "#     Calcule a média e o desvio padrão da acurácia para cada valor de k em cada experimento.\n",
        "#     Identifique o melhor valor de k para cada random_state.\n",
        "#     Caso haja empate nas acurácias médias para k=3 e k=5, registre o empate nos resultados.\n",
        "\n",
        "# ... (código anterior permanece inalterado)\n",
        "\n",
        "results = []\n",
        "for random_state in random_states:\n",
        "    kf = KFold(n_splits=5, shuffle=True, random_state=random_state)\n",
        "    for k in k_values:\n",
        "        knn = KNeighborsClassifier(n_neighbors=k)\n",
        "        accuracies = []\n",
        "        for train_index, test_index in kf.split(X):\n",
        "            X_train, X_test = X.iloc[train_index], X.iloc[test_index]\n",
        "            y_train, y_test = y.iloc[train_index], y.iloc[test_index]\n",
        "            knn.fit(X_train, y_train)\n",
        "            y_pred = knn.predict(X_test)\n",
        "            accuracy = accuracy_score(y_test, y_pred)\n",
        "            accuracies.append(accuracy)\n",
        "\n",
        "        mean_accuracy = np.mean(accuracies)\n",
        "        std_accuracy = np.std(accuracies)\n",
        "        results.append({\n",
        "            'random_state': random_state,\n",
        "            'k': k,\n",
        "            'mean_accuracy': mean_accuracy,\n",
        "            'std_accuracy': std_accuracy\n",
        "        })\n",
        "        print(f\"Experimento: random_state={random_state}, k={k}, Acurácia Média: {mean_accuracy}, Desvio Padrão: {std_accuracy}\")\n",
        "\n",
        "# Identificando o melhor k para cada random_state\n",
        "best_k_per_random_state = {}\n",
        "for random_state in random_states:\n",
        "    subset = [r for r in results if r['random_state'] == random_state]\n",
        "    best_k = max(subset, key=lambda x: x['mean_accuracy'])\n",
        "    best_k_per_random_state[random_state] = best_k\n",
        "    print(f\"Melhor k para random_state={random_state}: k={best_k['k']} (Acurácia Média = {best_k['mean_accuracy']})\")\n",
        "\n",
        "# Verificando empates entre k=3 e k=5\n",
        "for random_state in random_states:\n",
        "    k3_results = [r for r in results if r['random_state'] == random_state and r['k'] == 3]\n",
        "    k5_results = [r for r in results if r['random_state'] == random_state and r['k'] == 5]\n",
        "\n",
        "    if len(k3_results) > 0 and len(k5_results) > 0 and abs(k3_results[0]['mean_accuracy'] - k5_results[0]['mean_accuracy']) < 1e-6 :\n",
        "        print(f\"Empate entre k=3 e k=5 para random_state={random_state}\")"
      ],
      "metadata": {
        "colab": {
          "base_uri": "https://localhost:8080/"
        },
        "id": "QCB62Ubljjnx",
        "outputId": "2f66c5da-bbb0-4485-c78d-ba351ad64fe5"
      },
      "execution_count": null,
      "outputs": [
        {
          "output_type": "stream",
          "name": "stdout",
          "text": [
            "Experimento: random_state=42, k=3, Acurácia Média: 0.7082539682539682, Desvio Padrão: 0.09033768289796426\n",
            "Experimento: random_state=42, k=5, Acurácia Média: 0.6746031746031746, Desvio Padrão: 0.054976574869016206\n",
            "Experimento: random_state=17, k=3, Acurácia Média: 0.7087301587301587, Desvio Padrão: 0.08974362296810662\n",
            "Experimento: random_state=17, k=5, Acurácia Média: 0.6974603174603173, Desvio Padrão: 0.09473597794799324\n",
            "Experimento: random_state=24, k=3, Acurácia Média: 0.7020634920634921, Desvio Padrão: 0.030269637342101967\n",
            "Experimento: random_state=24, k=5, Acurácia Média: 0.6907936507936508, Desvio Padrão: 0.04128998287496699\n",
            "Melhor k para random_state=42: k=3 (Acurácia Média = 0.7082539682539682)\n",
            "Melhor k para random_state=17: k=3 (Acurácia Média = 0.7087301587301587)\n",
            "Melhor k para random_state=24: k=3 (Acurácia Média = 0.7020634920634921)\n"
          ]
        }
      ]
    }
  ]
}