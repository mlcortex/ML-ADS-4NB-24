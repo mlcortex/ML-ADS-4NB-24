{
  "nbformat": 4,
  "nbformat_minor": 0,
  "metadata": {
    "colab": {
      "provenance": []
    },
    "kernelspec": {
      "name": "python3",
      "display_name": "Python 3"
    },
    "language_info": {
      "name": "python"
    }
  },
  "cells": [
    {
      "cell_type": "code",
      "execution_count": 1,
      "metadata": {
        "colab": {
          "base_uri": "https://localhost:8080/"
        },
        "id": "WGz_dINGe53M",
        "outputId": "50fb947f-43bb-48ce-ae86-2eabbeac68eb"
      },
      "outputs": [
        {
          "output_type": "stream",
          "name": "stdout",
          "text": [
            "Resultados para random_state=42\n",
            "  k=3: Média=0.7036, Desvio Padrão=0.1392\n",
            "  k=5: Média=0.6641, Desvio Padrão=0.1001\n",
            "Resultados para random_state=17\n",
            "  k=3: Média=0.6987, Desvio Padrão=0.1040\n",
            "  k=5: Média=0.6876, Desvio Padrão=0.1121\n",
            "Resultados para random_state=24\n",
            "  k=3: Média=0.7127, Desvio Padrão=0.0968\n",
            "  k=5: Média=0.7127, Desvio Padrão=0.0940\n",
            "\n",
            "Análise Final:\n",
            "Random State: 42 | Melhor k: 3 | Acurácia Média: 0.7036\n",
            "Random State: 17 | Melhor k: 3 | Acurácia Média: 0.6987\n",
            "Random State: 24 | Melhor k: 3 | Acurácia Média: 0.7127\n"
          ]
        }
      ],
      "source": [
        "import pandas as pd\n",
        "import numpy as np\n",
        "from sklearn.model_selection import KFold\n",
        "from sklearn.neighbors import KNeighborsClassifier\n",
        "from sklearn.metrics import accuracy_score\n",
        "\n",
        "# Carregar o dataset\n",
        "url = 'https://archive.ics.uci.edu/ml/machine-learning-databases/wine/wine.data'\n",
        "\n",
        "# Nome das colunas\n",
        "column_names_pt_br = [\n",
        "    'classe', 'alcool', 'acido_malico', 'cinzas', 'alcalinidade_de_cinzas',\n",
        "    'magnesio', 'fenois_totais', 'flavanoides', 'fenois_nao_flavanoides',\n",
        "    'proantocianinas', 'intensidade_de_cor', 'matiz',\n",
        "    'od280_od315_de_vinhos_diluidos', 'prolina'\n",
        "]\n",
        "\n",
        "# Ler os dados\n",
        "df = pd.read_csv(url, names=column_names_pt_br, dtype={'classe': object})\n",
        "\n",
        "# Separar X e y\n",
        "X = df.drop(columns=['classe'])\n",
        "y = df['classe']\n",
        "\n",
        "# Função para realizar o experimento de K-Fold Cross-Validation\n",
        "def executar_kfold_experimento(random_state, k_values, n_splits=10):\n",
        "    resultados = {}\n",
        "    kf = KFold(n_splits=n_splits, shuffle=True, random_state=random_state)\n",
        "\n",
        "    for k in k_values:\n",
        "        acc_scores = []\n",
        "\n",
        "        for train_index, test_index in kf.split(X):\n",
        "            # Dividir os dados em treino e teste\n",
        "            X_train, X_test = X.iloc[train_index], X.iloc[test_index]\n",
        "            y_train, y_test = y.iloc[train_index], y.iloc[test_index]\n",
        "\n",
        "            # Criar e treinar o modelo\n",
        "            knn = KNeighborsClassifier(n_neighbors=k)\n",
        "            knn.fit(X_train, y_train)\n",
        "\n",
        "            # Prever e calcular a acurácia\n",
        "            y_pred = knn.predict(X_test)\n",
        "            acc_scores.append(accuracy_score(y_test, y_pred))\n",
        "\n",
        "        # Calcular média e desvio padrão das acurácias\n",
        "        resultados[k] = {\n",
        "            'media': np.mean(acc_scores),\n",
        "            'desvio_padrao': np.std(acc_scores)\n",
        "        }\n",
        "\n",
        "    return resultados\n",
        "\n",
        "# Configurações do experimento\n",
        "random_states = [42, 17, 24]\n",
        "k_values = [3, 5]\n",
        "\n",
        "# Executar os experimentos para cada random_state\n",
        "todos_resultados = {}\n",
        "\n",
        "for random_state in random_states:\n",
        "    print(f\"Resultados para random_state={random_state}\")\n",
        "    resultados = executar_kfold_experimento(random_state, k_values)\n",
        "    todos_resultados[random_state] = resultados\n",
        "\n",
        "    for k, metrics in resultados.items():\n",
        "        print(f\"  k={k}: Média={metrics['media']:.4f}, Desvio Padrão={metrics['desvio_padrao']:.4f}\")\n",
        "\n",
        "# Análise Final\n",
        "melhor_configuracao = []\n",
        "\n",
        "for random_state, resultados in todos_resultados.items():\n",
        "    melhor_k = max(resultados, key=lambda k: resultados[k]['media'])\n",
        "    melhor_configuracao.append((random_state, melhor_k, resultados[melhor_k]['media']))\n",
        "\n",
        "print(\"\\nAnálise Final:\")\n",
        "for random_state, melhor_k, media in melhor_configuracao:\n",
        "    print(f\"Random State: {random_state} | Melhor k: {melhor_k} | Acurácia Média: {media:.4f}\")"
      ]
    }
  ]
}