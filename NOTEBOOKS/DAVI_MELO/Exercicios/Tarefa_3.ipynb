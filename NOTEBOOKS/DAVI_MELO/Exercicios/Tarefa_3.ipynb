{
 "cells": [
  {
   "cell_type": "markdown",
   "id": "2e12162c-ca5e-4b8d-aa00-f302adf53c94",
   "metadata": {},
   "source": [
    "# Importação de bibliotecas e da base"
   ]
  },
  {
   "cell_type": "code",
   "execution_count": 21,
   "id": "559729c1-7e3e-4101-9e3d-88a067443711",
   "metadata": {},
   "outputs": [],
   "source": [
    "import pandas as pd\n",
    "import pandas as pd\n",
    "from sklearn.model_selection import train_test_split\n",
    "from sklearn.neighbors import KNeighborsClassifier\n",
    "from sklearn.metrics import accuracy_score\n",
    "\n",
    "# URL do dataset Wine\n",
    "url = 'https://archive.ics.uci.edu/ml/machine-learning-databases/wine/wine.data'\n",
    "\n",
    "# Nome das colunas em português BR\n",
    "column_names_pt_br = [\n",
    "    'classe',\n",
    "    'alcool',\n",
    "    'acido_malico',\n",
    "    'cinzas',\n",
    "    'alcalinidade_de_cinzas',\n",
    "    'magnesio',\n",
    "    'fenois_totais',\n",
    "    'flavanoides',\n",
    "    'fenois_nao_flavanoides',\n",
    "    'proantocianinas',\n",
    "    'intensidade_de_cor',\n",
    "    'matiz',\n",
    "    'od280_od315_de_vinhos_diluidos',\n",
    "    'prolina'\n",
    "]\n",
    "\n",
    "# Ler o arquivo CSV com as colunas especificadas, definindo a coluna 'classe' como object\n",
    "vinhos = pd.read_csv(url, names=column_names_pt_br, dtype={'classe': object})"
   ]
  },
  {
   "cell_type": "markdown",
   "id": "d3cc45c4-3b69-439d-9eb8-1cc3bd9bdc19",
   "metadata": {
    "jp-MarkdownHeadingCollapsed": true
   },
   "source": [
    "# Função de avaliação de random state e valor knn"
   ]
  },
  {
   "cell_type": "code",
   "execution_count": 35,
   "id": "c1b66bf1-eea5-44a9-abf6-3f6c5a8da5b3",
   "metadata": {},
   "outputs": [],
   "source": [
    "def avaliar_knn(random_state):\n",
    "    print(f\"\\nAvaliação com random_state={random_state}\")\n",
    "    \n",
    "    # Separação dos dados\n",
    "    X = vinhos.drop('classe', axis=1)\n",
    "    y = vinhos['classe']\n",
    "    X_train, X_test, y_train, y_test = train_test_split(X, y, test_size=0.3, random_state=random_state)\n",
    "\n",
    "    # Treinamento e Avaliação KNN com k=3\n",
    "    knn_3 = KNeighborsClassifier(n_neighbors=3)\n",
    "    knn_3.fit(X_train, y_train)\n",
    "    y_pred_3 = knn_3.predict(X_test)\n",
    "    accuracy_3 = accuracy_score(y_test, y_pred_3)\n",
    "    print(f\"Acurácia do modelo KNN com k=3: {accuracy_3:.4f}\")\n",
    "\n",
    "    # Treinamento e Avaliação KNN com k=5\n",
    "    knn_5 = KNeighborsClassifier(n_neighbors=5)\n",
    "    knn_5.fit(X_train, y_train)\n",
    "    y_pred_5 = knn_5.predict(X_test)\n",
    "    accuracy_5 = accuracy_score(y_test, y_pred_5)\n",
    "    print(f\"Acurácia do modelo KNN com k=5: {accuracy_5:.4f}\")\n",
    "\n",
    "    # Resultados para análise comparativa\n",
    "    return {\"random_state\": random_state, \"accuracy_k3\": accuracy_3, \"accuracy_k5\": accuracy_5}\n"
   ]
  },
  {
   "cell_type": "markdown",
   "id": "b5b06fdd-ece7-4dcf-bb2f-7133762ab18d",
   "metadata": {},
   "source": [
    "## Treinando modelos"
   ]
  },
  {
   "cell_type": "code",
   "execution_count": 8,
   "id": "b94f7f70-4454-4d09-b67a-87e58f6d4f3a",
   "metadata": {},
   "outputs": [
    {
     "ename": "NameError",
     "evalue": "name 'avaliar_knn' is not defined",
     "output_type": "error",
     "traceback": [
      "\u001b[1;31m---------------------------------------------------------------------------\u001b[0m",
      "\u001b[1;31mNameError\u001b[0m                                 Traceback (most recent call last)",
      "Cell \u001b[1;32mIn[8], line 4\u001b[0m\n\u001b[0;32m      2\u001b[0m resultados \u001b[38;5;241m=\u001b[39m []\n\u001b[0;32m      3\u001b[0m \u001b[38;5;28;01mfor\u001b[39;00m rs \u001b[38;5;129;01min\u001b[39;00m [\u001b[38;5;241m42\u001b[39m, \u001b[38;5;241m17\u001b[39m, \u001b[38;5;241m24\u001b[39m]:\n\u001b[1;32m----> 4\u001b[0m     resultados\u001b[38;5;241m.\u001b[39mappend(avaliar_knn(rs))\n",
      "\u001b[1;31mNameError\u001b[0m: name 'avaliar_knn' is not defined"
     ]
    }
   ],
   "source": [
    "# Avaliando o modelo para cada random_state(rs)\n",
    "resultados = []\n",
    "for rs in [42, 17, 24]:\n",
    "    resultados.append(avaliar_knn(rs))"
   ]
  },
  {
   "cell_type": "markdown",
   "id": "8fa9e299-c2cf-4b4c-9642-de7271a79a21",
   "metadata": {},
   "source": [
    "# Comparando resultados"
   ]
  },
  {
   "cell_type": "code",
   "execution_count": 27,
   "id": "0a2ac366-f674-45a7-a421-8c5929054702",
   "metadata": {},
   "outputs": [],
   "source": [
    "melhor_configuracao = max(resultados, key=lambda x: max(x['accuracy_k3'], x['accuracy_k5']))\n",
    "melhor_k = 3 if melhor_configuracao['accuracy_k3'] >= melhor_configuracao['accuracy_k5'] else 5"
   ]
  },
  {
   "cell_type": "code",
   "execution_count": 29,
   "id": "c563436b-eafa-4fac-8a6c-48dcb5be0852",
   "metadata": {},
   "outputs": [
    {
     "name": "stdout",
     "output_type": "stream",
     "text": [
      "\n",
      "--- Comparação Final ---\n",
      "random_state=42 | Acurácia k=3: 0.7407 | Acurácia k=5: 0.7407\n",
      "random_state=17 | Acurácia k=3: 0.6481 | Acurácia k=5: 0.6667\n",
      "random_state=24 | Acurácia k=3: 0.7407 | Acurácia k=5: 0.6667\n",
      "\n",
      "Melhor configuração geral: random_state=42 com k=3, acurácia=0.7407\n"
     ]
    }
   ],
   "source": [
    "print(\"\\n--- Comparação Final ---\")\n",
    "for resultado in resultados:\n",
    "    print(f\"random_state={resultado['random_state']} | Acurácia k=3: {resultado['accuracy_k3']:.4f} | Acurácia k=5: {resultado['accuracy_k5']:.4f}\")\n",
    "\n",
    "print(f\"\\nMelhor configuração geral: random_state={melhor_configuracao['random_state']} com k={melhor_k}, acurácia={max(melhor_configuracao['accuracy_k3'], melhor_configuracao['accuracy_k5']):.4f}\")"
   ]
  }
 ],
 "metadata": {
  "kernelspec": {
   "display_name": "Python 3 (ipykernel)",
   "language": "python",
   "name": "python3"
  },
  "language_info": {
   "codemirror_mode": {
    "name": "ipython",
    "version": 3
   },
   "file_extension": ".py",
   "mimetype": "text/x-python",
   "name": "python",
   "nbconvert_exporter": "python",
   "pygments_lexer": "ipython3",
   "version": "3.12.4"
  }
 },
 "nbformat": 4,
 "nbformat_minor": 5
}
