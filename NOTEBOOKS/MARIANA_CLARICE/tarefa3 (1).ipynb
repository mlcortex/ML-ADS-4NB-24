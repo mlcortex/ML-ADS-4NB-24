{
 "cells": [
  {
   "cell_type": "code",
   "execution_count": null,
   "id": "afaf94b1-18c6-4fed-b1b5-902ef8eb3e94",
   "metadata": {},
   "outputs": [],
   "source": [
    "import pandas as pd\n",
    "from sklearn.model_selection import train_test_split\n",
    "from sklearn.neighbors import KNeighborsClassifier\n",
    "from sklearn.metrics import accuracy_score\n",
    "\n",
    "url = 'https://archive.ics.uci.edu/ml/machine-learning-databases/wine/wine.data'\n",
    "column_names_pt_br = [\n",
    "    'classe',\n",
    "    'alcool',\n",
    "    'acido_malico',\n",
    "    'cinzas',\n",
    "    'alcalinidade_de_cinzas',\n",
    "    'magnesio',\n",
    "    'fenois_totais',\n",
    "    'flavanoides',\n",
    "    'fenois_nao_flavanoides',\n",
    "    'proantocianinas',\n",
    "    'intensidade_de_cor',\n",
    "    'matiz',\n",
    "    'od280_od315_de_vinhos_diluidos',\n",
    "    'prolina'\n",
    "]\n",
    "vinhos = pd.read_csv(url, names=column_names_pt_br, dtype={'classe': object})\n",
    "\n",
    "# Separar os dados em variáveis preditoras (X) e alvo (y)\n",
    "X = vinhos.iloc[:, 1:]  # Todas as colunas menos 'classe'\n",
    "y = vinhos['classe']\n",
    "\n",
    "# Função para realizar treinamento, teste e avaliação\n",
    "def treinar_e_avaliar(random_state, k_values):\n",
    "    print(f\"\\nRandom State: {random_state}\")\n",
    "    # Dividindo os dados em treino e teste\n",
    "    X_train, X_test, y_train, y_test = train_test_split(X, y, test_size=0.3, random_state=random_state)\n",
    "    \n",
    "    for k in k_values:\n",
    "        # Inicializando o modelo KNN\n",
    "        knn = KNeighborsClassifier(n_neighbors=k)\n",
    "        # Treinando o modelo\n",
    "        knn.fit(X_train, y_train)\n",
    "        # Fazendo previsões\n",
    "        y_pred = knn.predict(X_test)\n",
    "        # Calculando a acurácia\n",
    "        accuracy = accuracy_score(y_test, y_pred)\n",
    "        print(f\"Acurácia com k = {k}: {accuracy:.4f}\")\n",
    "\n",
    "# Lista de valores de k\n",
    "k_values = [3, 5]\n",
    "\n",
    "# Realizando os experimentos para diferentes random_state\n",
    "random_states = [42, 17, 24]\n",
    "for random_state in random_states:\n",
    "    treinar_e_avaliar(random_state, k_values)\n"
   ]
  }
 ],
 "metadata": {
  "kernelspec": {
   "display_name": "Python 3 (ipykernel)",
   "language": "python",
   "name": "python3"
  },
  "language_info": {
   "codemirror_mode": {
    "name": "ipython",
    "version": 3
   },
   "file_extension": ".py",
   "mimetype": "text/x-python",
   "name": "python",
   "nbconvert_exporter": "python",
   "pygments_lexer": "ipython3",
   "version": "3.11.9"
  }
 },
 "nbformat": 4,
 "nbformat_minor": 5
}
