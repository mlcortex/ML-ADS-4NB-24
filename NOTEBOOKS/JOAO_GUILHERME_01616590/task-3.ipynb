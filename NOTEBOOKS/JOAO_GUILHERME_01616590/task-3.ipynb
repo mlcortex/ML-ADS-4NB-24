{
 "cells": [
  {
   "cell_type": "code",
   "execution_count": null,
   "metadata": {
    "vscode": {
     "languageId": "plaintext"
    }
   },
   "outputs": [],
   "source": [
    "import pandas as pd\n",
    "from sklearn.model_selection import train_test_split\n",
    "from sklearn.neighbors import KNeighborsClassifier\n",
    "from sklearn.metrics import accuracy_score\n",
    "\n",
    "url = 'https://archive.ics.uci.edu/ml/machine-learning-databases/wine/wine.data'\n",
    "\n",
    "column_names_pt_br = [\n",
    "    'classe', 'alcool', 'acido_malico', 'cinzas', 'alcalinidade_de_cinzas', 'magnesio', \n",
    "    'fenois_totais', 'flavanoides', 'fenois_nao_flavanoides', 'proantocianinas', \n",
    "    'intensidade_de_cor', 'matiz', 'od280_od315_de_vinhos_diluidos', 'prolina'\n",
    "]\n",
    "\n",
    "vinhos = pd.read_csv(url, names=column_names_pt_br, dtype={'classe': object})\n",
    "\n",
    "X = vinhos.drop('classe', axis=1)\n",
    "y = vinhos['classe']\n",
    "\n",
    "def treinar_avaliar_knn(random_state):\n",
    "    X_train, X_test, y_train, y_test = train_test_split(X, y, test_size=0.3, random_state=random_state)\n",
    "\n",
    "    knn3 = KNeighborsClassifier(n_neighbors=3)\n",
    "    knn3.fit(X_train, y_train)\n",
    "    y_pred3 = knn3.predict(X_test)\n",
    "    accuracy_k3 = accuracy_score(y_test, y_pred3)\n",
    "\n",
    "    knn5 = KNeighborsClassifier(n_neighbors=5)\n",
    "    knn5.fit(X_train, y_train)\n",
    "    y_pred5 = knn5.predict(X_test)\n",
    "    accuracy_k5 = accuracy_score(y_test, y_pred5)\n",
    "\n",
    "    print(f\"Random state: {random_state}\")\n",
    "    print(f\"Acurácia com k=3: {accuracy_k3:.4f}\")\n",
    "    print(f\"Acurácia com k=5: {accuracy_k5:.4f}\")\n",
    "    print('-' * 40)\n",
    "    \n",
    "    return accuracy_k3, accuracy_k5\n",
    "\n",
    "resultados = {}\n",
    "for random_state in [42, 17, 24]:\n",
    "    resultados[random_state] = treinar_avaliar_knn(random_state)\n",
    "\n",
    "print(\"Comparação final:\")\n",
    "for random_state, (acc_k3, acc_k5) in resultados.items():\n",
    "    print(f\"Random state: {random_state}, Acurácia k=3: {acc_k3:.4f}, Acurácia k=5: {acc_k5:.4f}\")\n"
   ]
  }
 ],
 "metadata": {
  "language_info": {
   "name": "python"
  }
 },
 "nbformat": 4,
 "nbformat_minor": 2
}
