{
  "nbformat": 4,
  "nbformat_minor": 0,
  "metadata": {
    "colab": {
      "provenance": []
    },
    "kernelspec": {
      "name": "python3",
      "display_name": "Python 3"
    },
    "language_info": {
      "name": "python"
    }
  },
  "cells": [
    {
      "cell_type": "code",
      "execution_count": 1,
      "metadata": {
        "id": "Witvb6XyI76y"
      },
      "outputs": [],
      "source": [
        "import pandas as pd\n",
        "\n",
        "# URL do dataset Wine\n",
        "url = 'https://archive.ics.uci.edu/ml/machine-learning-databases/wine/wine.data'\n",
        "\n",
        "# Nome das colunas em português BR\n",
        "column_names_pt_br = [\n",
        "    'classe',\n",
        "    'alcool',\n",
        "    'acido_malico',\n",
        "    'cinzas',\n",
        "    'alcalinidade_de_cinzas',\n",
        "    'magnesio',\n",
        "    'fenois_totais',\n",
        "    'flavanoides',\n",
        "    'fenois_nao_flavanoides',\n",
        "    'proantocianinas',\n",
        "    'intensidade_de_cor',\n",
        "    'matiz',\n",
        "    'od280_od315_de_vinhos_diluidos',\n",
        "    'prolina'\n",
        "]\n",
        "\n",
        "# Ler o arquivo CSV com as colunas especificadas, definindo a coluna 'classe' como object\n",
        "vinhos = pd.read_csv(url, names=column_names_pt_br, dtype={'classe': object})"
      ]
    },
    {
      "cell_type": "code",
      "source": [
        "from sklearn.model_selection import train_test_split\n",
        "\n",
        "# Separar as features (X) e o target (y)\n",
        "X = vinhos.drop('classe', axis=1)\n",
        "y = vinhos['classe']\n",
        "\n",
        "# Dividir os dados em conjuntos de treino e teste\n",
        "X_train, X_test, y_train, y_test = train_test_split(X, y, test_size=0.3, random_state=42)"
      ],
      "metadata": {
        "id": "vLhPR0r3JK2V"
      },
      "execution_count": 2,
      "outputs": []
    },
    {
      "cell_type": "code",
      "source": [
        "from sklearn.neighbors import KNeighborsClassifier\n",
        "from sklearn.metrics import accuracy_score\n",
        "\n",
        "# Criar e treinar o classificador KNN com k=3\n",
        "knn_3 = KNeighborsClassifier(n_neighbors=3)\n",
        "knn_3.fit(X_train, y_train)\n",
        "\n",
        "# Fazer previsões no conjunto de teste\n",
        "y_pred_3 = knn_3.predict(X_test)\n",
        "\n",
        "# Avaliar a acurácia do modelo com k=3\n",
        "accuracy_3 = accuracy_score(y_test, y_pred_3)\n",
        "print(f\"Acurácia do modelo com k=3: {accuracy_3}\")\n",
        "\n",
        "# Criar e treinar o classificador KNN com k=5\n",
        "knn_5 = KNeighborsClassifier(n_neighbors=5)\n",
        "knn_5.fit(X_train, y_train)\n",
        "\n",
        "# Fazer previsões no conjunto de teste\n",
        "y_pred_5 = knn_5.predict(X_test)\n",
        "\n",
        "# Avaliar a acurácia do modelo com k=5\n",
        "accuracy_5 = accuracy_score(y_test, y_pred_5)\n",
        "print(f\"Acurácia do modelo com k=5: {accuracy_5}\")\n",
        "\n",
        "# Comparar os resultados\n",
        "if accuracy_3 > accuracy_5:\n",
        "    print(\"O modelo com k=3 apresentou melhor desempenho.\")\n",
        "elif accuracy_5 > accuracy_3:\n",
        "    print(\"O modelo com k=5 apresentou melhor desempenho.\")\n",
        "else:\n",
        "    print(\"Ambos os modelos apresentaram o mesmo desempenho.\")"
      ],
      "metadata": {
        "colab": {
          "base_uri": "https://localhost:8080/"
        },
        "id": "yDFEPT_aJaB-",
        "outputId": "4aadd118-4089-4cf9-b944-e1b55ca39830"
      },
      "execution_count": 3,
      "outputs": [
        {
          "output_type": "stream",
          "name": "stdout",
          "text": [
            "Acurácia do modelo com k=3: 0.7407407407407407\n",
            "Acurácia do modelo com k=5: 0.7407407407407407\n",
            "Ambos os modelos apresentaram o mesmo desempenho.\n"
          ]
        }
      ]
    },
    {
      "cell_type": "code",
      "source": [
        "from sklearn.model_selection import train_test_split\n",
        "from sklearn.neighbors import KNeighborsClassifier\n",
        "from sklearn.metrics import accuracy_score\n",
        "\n",
        "# URL do dataset Wine\n",
        "url = 'https://archive.ics.uci.edu/ml/machine-learning-databases/wine/wine.data'\n",
        "\n",
        "# Nome das colunas em português BR\n",
        "column_names_pt_br = [\n",
        "    'classe',\n",
        "    'alcool',\n",
        "    'acido_malico',\n",
        "    'cinzas',\n",
        "    'alcalinidade_de_cinzas',\n",
        "    'magnesio',\n",
        "    'fenois_totais',\n",
        "    'flavanoides',\n",
        "    'fenois_nao_flavanoides',\n",
        "    'proantocianinas',\n",
        "    'intensidade_de_cor',\n",
        "    'matiz',\n",
        "    'od280_od315_de_vinhos_diluidos',\n",
        "    'prolina'\n",
        "]\n",
        "\n",
        "# Ler o arquivo CSV com as colunas especificadas, definindo a coluna 'classe' como object\n",
        "vinhos = pd.read_csv(url, names=column_names_pt_br, dtype={'classe': object})\n",
        "\n",
        "# Separar as features (X) e o target (y)\n",
        "X = vinhos.drop('classe', axis=1)\n",
        "y = vinhos['classe']\n",
        "\n",
        "random_states = [17, 24]\n",
        "\n",
        "for random_state in random_states:\n",
        "    print(f\"\\nResultados para random_state = {random_state}:\")\n",
        "    X_train, X_test, y_train, y_test = train_test_split(X, y, test_size=0.3, random_state=random_state)\n",
        "\n",
        "    for k in [3, 5]:\n",
        "        knn = KNeighborsClassifier(n_neighbors=k)\n",
        "        knn.fit(X_train, y_train)\n",
        "        y_pred = knn.predict(X_test)\n",
        "        accuracy = accuracy_score(y_test, y_pred)\n",
        "        print(f\"Acurácia do modelo com k={k}: {accuracy}\")\n",
        "\n",
        "    #Comparação para o mesmo random_state\n",
        "    if accuracy_3 > accuracy_5:\n",
        "        print(\"O modelo com k=3 apresentou melhor desempenho.\")\n",
        "    elif accuracy_5 > accuracy_3:\n",
        "        print(\"O modelo com k=5 apresentou melhor desempenho.\")\n",
        "    else:\n",
        "        print(\"Ambos os modelos apresentaram o mesmo desempenho.\")"
      ],
      "metadata": {
        "colab": {
          "base_uri": "https://localhost:8080/"
        },
        "id": "_S2N68nYJnd5",
        "outputId": "eedf529e-378d-466d-acd0-7c636d8ffd3f"
      },
      "execution_count": 4,
      "outputs": [
        {
          "output_type": "stream",
          "name": "stdout",
          "text": [
            "\n",
            "Resultados para random_state = 17:\n",
            "Acurácia do modelo com k=3: 0.6481481481481481\n",
            "Acurácia do modelo com k=5: 0.6666666666666666\n",
            "Ambos os modelos apresentaram o mesmo desempenho.\n",
            "\n",
            "Resultados para random_state = 24:\n",
            "Acurácia do modelo com k=3: 0.7407407407407407\n",
            "Acurácia do modelo com k=5: 0.6666666666666666\n",
            "Ambos os modelos apresentaram o mesmo desempenho.\n"
          ]
        }
      ]
    },
    {
      "cell_type": "code",
      "source": [
        "results = {}\n",
        "\n",
        "for random_state in [42, 17, 24]:\n",
        "    results[random_state] = {}\n",
        "    print(f\"\\nResultados para random_state = {random_state}:\")\n",
        "    X_train, X_test, y_train, y_test = train_test_split(X, y, test_size=0.3, random_state=random_state)\n",
        "\n",
        "    for k in [3, 5]:\n",
        "        knn = KNeighborsClassifier(n_neighbors=k)\n",
        "        knn.fit(X_train, y_train)\n",
        "        y_pred = knn.predict(X_test)\n",
        "        accuracy = accuracy_score(y_test, y_pred)\n",
        "        print(f\"Acurácia do modelo com k={k}: {accuracy}\")\n",
        "        results[random_state][k] = accuracy\n",
        "\n",
        "# Análise comparativa\n",
        "best_random_state = None\n",
        "best_k = None\n",
        "best_accuracy = 0\n",
        "\n",
        "for random_state, k_results in results.items():\n",
        "    for k, accuracy in k_results.items():\n",
        "        print(f\"random_state={random_state}, k={k}, accuracy={accuracy}\")\n",
        "        if accuracy > best_accuracy:\n",
        "            best_accuracy = accuracy\n",
        "            best_random_state = random_state\n",
        "            best_k = k\n",
        "\n",
        "print(f\"\\nMelhor desempenho geral:\")\n",
        "print(f\"random_state = {best_random_state}, k = {best_k}, Acurácia = {best_accuracy}\")"
      ],
      "metadata": {
        "colab": {
          "base_uri": "https://localhost:8080/"
        },
        "id": "8anXNou3KaZY",
        "outputId": "0dd0626c-06b1-46c6-e0d9-62e26f6c2760"
      },
      "execution_count": 5,
      "outputs": [
        {
          "output_type": "stream",
          "name": "stdout",
          "text": [
            "\n",
            "Resultados para random_state = 42:\n",
            "Acurácia do modelo com k=3: 0.7407407407407407\n",
            "Acurácia do modelo com k=5: 0.7407407407407407\n",
            "\n",
            "Resultados para random_state = 17:\n",
            "Acurácia do modelo com k=3: 0.6481481481481481\n",
            "Acurácia do modelo com k=5: 0.6666666666666666\n",
            "\n",
            "Resultados para random_state = 24:\n",
            "Acurácia do modelo com k=3: 0.7407407407407407\n",
            "Acurácia do modelo com k=5: 0.6666666666666666\n",
            "random_state=42, k=3, accuracy=0.7407407407407407\n",
            "random_state=42, k=5, accuracy=0.7407407407407407\n",
            "random_state=17, k=3, accuracy=0.6481481481481481\n",
            "random_state=17, k=5, accuracy=0.6666666666666666\n",
            "random_state=24, k=3, accuracy=0.7407407407407407\n",
            "random_state=24, k=5, accuracy=0.6666666666666666\n",
            "\n",
            "Melhor desempenho geral:\n",
            "random_state = 42, k = 3, Acurácia = 0.7407407407407407\n"
          ]
        }
      ]
    }
  ]
}