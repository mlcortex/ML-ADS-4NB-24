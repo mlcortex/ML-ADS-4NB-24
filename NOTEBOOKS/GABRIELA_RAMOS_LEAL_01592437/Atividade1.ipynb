{
 "cells": [
  {
   "cell_type": "code",
   "execution_count": null,
   "metadata": {},
   "outputs": [],
   "source": [
    "import numpy as np\n",
    "\n",
    "valores = [4, 6, 3, 4, 5, 8, 4, 2]\n",
    "\n",
    "# Valor máximo\n",
    "valor_maximo = max(valores)\n",
    "\n",
    "# Valor mínimo\n",
    "valor_minimo = min(valores)\n",
    "\n",
    "# Média aritmética\n",
    "media = np.mean(valores)\n",
    "\n",
    "# Mediana\n",
    "mediana = np.median(valores)\n",
    "\n",
    "# Desvio padrão\n",
    "desvio_padrao = np.std(valores)\n",
    "\n",
    "# Exibir os resultados\n",
    "print(\"Resultados:\")\n",
    "print(f\"Valor máximo: {valor_maximo}\")\n",
    "print(f\"Valor mínimo: {valor_minimo}\")\n",
    "print(f\"Média aritmética: {media}\")\n",
    "print(f\"Mediana: {mediana}\")\n",
    "print(f\"Desvio padrão: {desvio_padrao}\")"
   ]
  }
 ],
 "metadata": {
  "language_info": {
   "name": "python"
  }
 },
 "nbformat": 4,
 "nbformat_minor": 2
}
