{
 "cells": [
  {
   "cell_type": "code",
   "execution_count": null,
   "metadata": {},
   "outputs": [],
   "source": [
    "valores = [4, 6, 3, 4, 5, 8, 4, 2]\n",
    "\n",
    "valor_maximo = max(valores)\n",
    "\n",
    "valor_minimo = min(valores)\n",
    "\n",
    "media_aritmetica = sum(valores) / len(valores)\n",
    "\n",
    "valores_ordenados = sorted(valores)\n",
    "n = len(valores)\n",
    "if n % 2 == 0:\n",
    "    mediana = (valores_ordenados[n//2 - 1] + valores_ordenados[n//2]) / 2\n",
    "else:\n",
    "    mediana = valores_ordenados[n//2]\n",
    "\n",
    "media = media_aritmetica\n",
    "soma_diferencas = sum((x - media) ** 2 for x in valores)\n",
    "desvio_padrao = (soma_diferencas / len(valores)) ** 0.5\n",
    "\n",
    "print(f'Valor máximo: {valor_maximo}')\n",
    "print(f'Valor mínimo: {valor_minimo}')\n",
    "print(f'Média aritmética: {media_aritmetica}')\n",
    "print(f'Mediana: {mediana}')\n",
    "print(f'Desvio padrão: {desvio_padrao}')\n"
   ]
  }
 ],
 "metadata": {
  "language_info": {
   "name": "python"
  }
 },
 "nbformat": 4,
 "nbformat_minor": 2
}
