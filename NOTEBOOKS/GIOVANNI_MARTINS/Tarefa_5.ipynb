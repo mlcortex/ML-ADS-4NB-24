{
  "nbformat": 4,
  "nbformat_minor": 0,
  "metadata": {
    "colab": {
      "provenance": []
    },
    "kernelspec": {
      "name": "python3",
      "display_name": "Python 3"
    },
    "language_info": {
      "name": "python"
    }
  },
  "cells": [
    {
      "cell_type": "code",
      "execution_count": null,
      "metadata": {
        "colab": {
          "base_uri": "https://localhost:8080/"
        },
        "id": "FW-cZD-WIBZO",
        "outputId": "b1d07108-6b1c-4bbe-e619-bcdfe1d14771"
      },
      "outputs": [
        {
          "output_type": "stream",
          "name": "stdout",
          "text": [
            "Inércia do modelo K-Means: 44.887604580852816\n",
            "\n",
            "Distribuição dos clusters:\n",
            "cluster\n",
            "2    59\n",
            "1    50\n",
            "0    36\n",
            "3    33\n",
            "Name: count, dtype: int64\n",
            "\n",
            "Comparação entre clusters e classes originais (groupby):\n",
            "cluster  classe\n",
            "0        2         34\n",
            "         1          2\n",
            "1        3         48\n",
            "         2          2\n",
            "2        1         57\n",
            "         2          2\n",
            "3        2         33\n",
            "Name: count, dtype: int64\n",
            "\n",
            "Comparação entre clusters e classes originais (crosstab):\n",
            "cluster   0   1   2   3\n",
            "classe                 \n",
            "1         2   0  57   0\n",
            "2        34   2   2  33\n",
            "3         0  48   0   0\n"
          ]
        }
      ],
      "source": [
        "import pandas as pd\n",
        "from sklearn.preprocessing import MinMaxScaler\n",
        "from sklearn.cluster import KMeans\n",
        "\n",
        "# URL do dataset Wine\n",
        "url = 'https://archive.ics.uci.edu/ml/machine-learning-databases/wine/wine.data'\n",
        "\n",
        "# Nome das colunas em português BR\n",
        "column_names_pt_br = [\n",
        "    'classe',\n",
        "    'alcool',\n",
        "    'acido_malico',\n",
        "    'cinzas',\n",
        "    'alcalinidade_de_cinzas',\n",
        "    'magnesio',\n",
        "    'fenois_totais',\n",
        "    'flavanoides',\n",
        "    'fenois_nao_flavanoides',\n",
        "    'proantocianinas',\n",
        "    'intensidade_de_cor',\n",
        "    'matiz',\n",
        "    'od280_od315_de_vinhos_diluidos',\n",
        "    'prolina'\n",
        "]\n",
        "\n",
        "# Ler o arquivo CSV com as colunas especificadas, definindo a coluna 'classe' como object\n",
        "vinhos = pd.read_csv(url, names=column_names_pt_br, dtype={'classe': object})\n",
        "\n",
        "# 1. Normalização dos Dados\n",
        "X = vinhos.drop('classe', axis=1)  # Dropar a coluna 'classe'\n",
        "scaler = MinMaxScaler()  # Inicializar o MinMaxScaler\n",
        "X_scaled = scaler.fit_transform(X)  # Reescalar os dados\n",
        "\n",
        "# 2. Aplicação do K-Means\n",
        "kmeans = KMeans(n_clusters=4, random_state=42)  # Aplicar K-Means com 4 clusters\n",
        "vinhos['cluster'] = kmeans.fit_predict(X_scaled)  # Adicionar os clusters como nova coluna\n",
        "\n",
        "# Exibir a inércia do modelo\n",
        "print(f'Inércia do modelo K-Means: {kmeans.inertia_}')\n",
        "\n",
        "# 3. Análise dos Clusters\n",
        "print(\"\\nDistribuição dos clusters:\")\n",
        "print(vinhos['cluster'].value_counts())\n",
        "\n",
        "# 4. Comparação com Classes Originais\n",
        "# Usando groupby()\n",
        "comparacao_groupby = vinhos.groupby('cluster')['classe'].value_counts()\n",
        "print(\"\\nComparação entre clusters e classes originais (groupby):\")\n",
        "print(comparacao_groupby)\n",
        "\n",
        "# Usando pd.crosstab\n",
        "comparacao_crosstab = pd.crosstab(vinhos['classe'], vinhos['cluster'])\n",
        "print(\"\\nComparação entre clusters e classes originais (crosstab):\")\n",
        "print(comparacao_crosstab)\n"
      ]
    }
  ]
}