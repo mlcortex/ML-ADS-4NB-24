{
 "cells": [
  {
   "cell_type": "code",
   "execution_count": null,
   "metadata": {
    "colab": {
     "base_uri": "https://localhost:8080/"
    },
    "id": "zYj-NYzPn9pQ",
    "outputId": "4806f17a-cf3e-41cf-aac3-b27118e87168"
   },
   "outputs": [
    {
     "ename": "ModuleNotFoundError",
     "evalue": "No module named 'pandas'",
     "output_type": "error",
     "traceback": [
      "\u001b[1;31m---------------------------------------------------------------------------\u001b[0m",
      "\u001b[1;31mModuleNotFoundError\u001b[0m                       Traceback (most recent call last)",
      "Cell \u001b[1;32mIn[7], line 1\u001b[0m\n\u001b[1;32m----> 1\u001b[0m \u001b[38;5;28;01mimport\u001b[39;00m \u001b[38;5;21;01mpandas\u001b[39;00m \u001b[38;5;28;01mas\u001b[39;00m \u001b[38;5;21;01mpd\u001b[39;00m\n\u001b[0;32m      2\u001b[0m \u001b[38;5;28;01mfrom\u001b[39;00m \u001b[38;5;21;01msklearn\u001b[39;00m\u001b[38;5;21;01m.\u001b[39;00m\u001b[38;5;21;01mpreprocessing\u001b[39;00m \u001b[38;5;28;01mimport\u001b[39;00m MinMaxScaler\n\u001b[0;32m      3\u001b[0m \u001b[38;5;28;01mfrom\u001b[39;00m \u001b[38;5;21;01msklearn\u001b[39;00m\u001b[38;5;21;01m.\u001b[39;00m\u001b[38;5;21;01mcluster\u001b[39;00m \u001b[38;5;28;01mimport\u001b[39;00m KMeans\n",
      "\u001b[1;31mModuleNotFoundError\u001b[0m: No module named 'pandas'"
     ]
    }
   ],
   "source": [
    "import pandas as pd\n",
    "from sklearn.preprocessing import MinMaxScaler\n",
    "from sklearn.cluster import KMeans\n",
    "import matplotlib.pyplot as plt\n",
    "from sklearn.decomposition import PCA\n",
    "\n",
    "# URL do dataset Wine\n",
    "url = 'https://archive.ics.uci.edu/ml/machine-learning-databases/wine/wine.data'\n",
    "\n",
    "\n",
    "column_names_pt_br = [\n",
    "    'classe',\n",
    "    'alcool',\n",
    "    'acido_malico',\n",
    "    'cinzas',\n",
    "    'alcalinidade_de_cinzas',\n",
    "    'magnesio',\n",
    "    'fenois_totais',\n",
    "    'flavanoides',\n",
    "    'fenois_nao_flavanoides',\n",
    "    'proantocianinas',\n",
    "    'intensidade_de_cor',\n",
    "    'matiz',\n",
    "    'od280_od315_de_vinhos_diluidos',\n",
    "    'prolina'\n",
    "]\n",
    "\n",
    "\n",
    "vinhos = pd.read_csv(url, names=column_names_pt_br)\n",
    "\n",
    "vinhos.head()\n",
    "\n",
    "# 2. Normalização dos Dados (Reescala para o intervalo [0, 1])\n",
    "X = vinhos.drop('classe', axis=1)\n",
    "\n",
    "scaler = MinMaxScaler()\n",
    "X_scaled = scaler.fit_transform(X)\n",
    "\n",
    "pd.DataFrame(X_scaled, columns=X.columns).head()\n",
    "\n",
    "kmeans = KMeans(n_clusters=4, random_state=42)\n",
    "vinhos['cluster'] = kmeans.fit_predict(X_scaled)\n",
    "\n",
    "print(f'Inércia do modelo K-Means: {kmeans.inertia_}')\n",
    "\n",
    "# 4. Análise dos Clusters\n",
    "print(vinhos['cluster'].value_counts())\n",
    "\n",
    "# 5. Comparação com as Classes Originais\n",
    "comparacao = vinhos.groupby('cluster')['classe'].value_counts()\n",
    "print(comparacao)\n",
    "\n",
    "comparacao_crosstab = pd.crosstab(vinhos['classe'], vinhos['cluster'])\n",
    "print(comparacao_crosstab)\n",
    "\n",
    "# 6. Análise Visual dos Clusters (opcional, mas recomendado)\n",
    "# Redução de dimensionalidade com PCA para 2 componentes principais\n",
    "# pca = PCA(n_components=2)\n",
    "# X_pca = pca.fit_transform(X_scaled)\n",
    "\n",
    "# plt.figure(figsize=(8, 6))\n",
    "# plt.scatter(X_pca[:, 0], X_pca[:, 1], c=vinhos['cluster'], cmap='viridis', s=50)\n",
    "# plt.title('Visualização dos Clusters com PCA')\n",
    "# plt.xlabel('Primeira Componente Principal')\n",
    "# plt.ylabel('Segunda Componente Principal')\n",
    "# plt.colorbar(label='Cluster')\n",
    "# plt.show()\n"
   ]
  }
 ],
 "metadata": {
  "colab": {
   "name": "Olá, este é o Colaboratory",
   "provenance": [],
   "toc_visible": true
  },
  "kernelspec": {
   "display_name": "Python 3",
   "name": "python3"
  },
  "language_info": {
   "codemirror_mode": {
    "name": "ipython",
    "version": 3
   },
   "file_extension": ".py",
   "mimetype": "text/x-python",
   "name": "python",
   "nbconvert_exporter": "python",
   "pygments_lexer": "ipython3",
   "version": "3.12.2"
  }
 },
 "nbformat": 4,
 "nbformat_minor": 0
}
